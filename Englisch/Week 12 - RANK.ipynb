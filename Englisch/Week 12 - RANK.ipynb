{
    "metadata": {
        "kernelspec": {
            "name": "SQL",
            "display_name": "SQL",
            "language": "sql"
        },
        "language_info": {
            "name": "sql",
            "version": ""
        }
    },
    "nbformat_minor": 2,
    "nbformat": 4,
    "cells": [
        {
            "cell_type": "markdown",
            "source": [
                "# Week 12: RANK\r\n",
                "## What does RANK do? \r\n",
                "Like the `ROW_NUMBER` function introduced last week, `RANK` is also a window function, i.e. a function that processes the data sorted in so-called \"windows\" or \"partitions\". You define the sorting and the partitions by using the keywords `ORDER BY` and `PARTITION BY` after the function call. The `RANK` function then numbers all the rows in the result set, starting at 1 in ascending order. Unlike the `ROW_NUMBER` function, the `RANK` function numbers rows that are in the same position in the sort with the same number. With `ROW_NUMBER`, a random sort is chosen here and numbered uniquely sequentially.  \r\n",
                "## How can you work with RANK?\r\n",
                "To use the `RANK` function, we now create a query in the Wide World Importers database that returns sortable items, but where the sort need not be unique. For this we use a CTE to count the number of orders from the OrderLines in which each product appeared: "
            ],
            "metadata": {
                "azdata_cell_guid": "16ee7c56-0f4a-4425-9df7-a3133f2b42c3"
            }
        },
        {
            "cell_type": "code",
            "source": [
                "WITH cte_sales AS (\r\n",
                "    SELECT \r\n",
                "         StockItemID\r\n",
                "        ,COUNT(*) AS nOrders\r\n",
                "        ,SUM(Quantity*UnitPrice) AS TotalSales \r\n",
                "    FROM \r\n",
                "        Sales.OrderLines\r\n",
                "    GROUP BY StockItemID\r\n",
                ")\r\n",
                "SELECT  \r\n",
                "     StockItemID\r\n",
                "    ,nOrders\r\n",
                "    ,TotalSales\r\n",
                "FROM cte_sales \r\n",
                "ORDER BY \r\n",
                "     nOrders DESC\r\n",
                "    ,TotalSales DESC"
            ],
            "metadata": {
                "azdata_cell_guid": "b3bd38f1-418f-48b8-b993-1d191d174608"
            },
            "outputs": [],
            "execution_count": 0
        },
        {
            "cell_type": "markdown",
            "source": [
                "But now we don't just want to count and display, we want to create a ranking of the most popular products. If we would use the `ROW_NUMBER` function for this, the two most popular products with the IDs 104 and 120, which have been ordered 1123 times each, would have the numbers 1 and 2, which would have the 1 and which the 2, we could determine, for example, by sorting by TotalSales: "
            ],
            "metadata": {
                "azdata_cell_guid": "dbbc491d-ac85-4613-8c70-f262f549ba4b"
            }
        },
        {
            "cell_type": "code",
            "source": [
                "WITH cte_sales AS (\r\n",
                "    SELECT \r\n",
                "         StockItemID\r\n",
                "        ,COUNT(*) AS nOrders\r\n",
                "        ,SUM(Quantity*UnitPrice) AS TotalSales \r\n",
                "    FROM \r\n",
                "        Sales.OrderLines\r\n",
                "    GROUP BY StockItemID\r\n",
                ")\r\n",
                "SELECT  \r\n",
                "     StockItemID\r\n",
                "    ,nOrders\r\n",
                "    ,TotalSales\r\n",
                "    ,ROW_NUMBER() OVER (ORDER BY nOrders DESC, TotalSales DESC) as Popularity\r\n",
                "FROM cte_sales \r\n",
                "ORDER BY \r\n",
                "     nOrders DESC\r\n",
                "    ,TotalSales DESC"
            ],
            "metadata": {
                "azdata_cell_guid": "cfb7c429-009b-4d6a-be1a-f6b0df24a248"
            },
            "outputs": [],
            "execution_count": 0
        },
        {
            "cell_type": "markdown",
            "source": [
                "From a commercial point of view, this additional sorting according to sales totals may be useful, but it does not reflect the actual popularity of the product. If we go purely by sales figures, both products would have to be number one, and this is exactly what the `RANK` function makes possible. Here we can then also do without the tiebreaker, which distinguished between the first and second line, and accordingly only need an `ORDER BY` argument: "
            ],
            "metadata": {
                "azdata_cell_guid": "4da8c45d-a3df-45ed-a7a0-f3b520b37fd1"
            }
        },
        {
            "cell_type": "code",
            "source": [
                "WITH cte_sales AS (\r\n",
                "    SELECT \r\n",
                "         StockItemID\r\n",
                "        ,COUNT(*) AS nOrders\r\n",
                "        ,SUM(Quantity*UnitPrice) AS TotalSales \r\n",
                "    FROM \r\n",
                "        Sales.OrderLines\r\n",
                "    GROUP BY StockItemID\r\n",
                ")\r\n",
                "SELECT  \r\n",
                "     StockItemID\r\n",
                "    ,nOrders\r\n",
                "    ,TotalSales\r\n",
                "    ,ROW_NUMBER() OVER (ORDER BY nOrders DESC, TotalSales DESC) as Popularity\r\n",
                "    ,RANK() OVER (ORDER BY nOrders DESC) as Real_Popularity\r\n",
                "FROM cte_sales \r\n",
                "ORDER BY \r\n",
                "     nOrders DESC\r\n",
                "    ,TotalSales DESC"
            ],
            "metadata": {
                "azdata_cell_guid": "df5b4632-5f69-4aa8-b465-57504dc6bfd5"
            },
            "outputs": [],
            "execution_count": 0
        },
        {
            "cell_type": "markdown",
            "source": [
                "As a result, you can see that now both products, 104 and 120 have received the (real) popularity 1, while the next product has been assigned the third rank, similar to what is usual in sports competitions. \r\n",
                "So if you can't tell from the data which line is the \"better\" one and want to avoid random numbering, use the `RANK` function instead of the `ROW_NUMBER` function. However, it is of course not suitable for sorting out duplicates, since the duplicates would all be assigned the same rank...  \r\n",
                "### References\r\n",
                "- [Official Documentation from Microsoft](https://docs.microsoft.com/de-de/sql/t-sql/functions/rank-transact-sql?view=sql-server-2017)"
            ],
            "metadata": {
                "azdata_cell_guid": "b51a02df-c0d9-4564-aa41-f60b69663871"
            }
        }
    ]
}