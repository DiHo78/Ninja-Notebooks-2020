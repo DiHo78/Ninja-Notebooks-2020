{
    "metadata": {
        "kernelspec": {
            "name": "SQL",
            "display_name": "SQL",
            "language": "sql"
        },
        "language_info": {
            "name": "sql",
            "version": ""
        }
    },
    "nbformat_minor": 2,
    "nbformat": 4,
    "cells": [
        {
            "cell_type": "markdown",
            "source": [
                "# Week 24: SELECT TOP 0 INTO\r\n",
                "## What is SELECT TOP 0 INTO? \r\n",
                "Occasionally you may want to create an empty table to store the data from a query. Of course, you can now check the metadata of all columns in the query from all source tables and write a DDL statement. But this can be quite complicated with queries with multiple joins and possibly manipulations in the columns. If you want to copy data into a new table you can do this with `SELECT INTO`. If you only want to copy the structure instead, you can simply copy the `TOP 0` rows, i.e. no rows, which will give you a table that only reflects the structure of the source statement. \r\n",
                "## What can you use SELECT TOP 0 INTO for?\r\n",
                "As described above, you can use `SELECT TOP 0 INTO` to create an empty table that is structurally identical to your query. We will do this once by looking at some of the attributes of the Customers table in the WideworldImporters database that we want to store in a `MainCustomers` table: "
            ],
            "metadata": {
                "azdata_cell_guid": "93075409-b6c4-41ca-8fa4-3dd7b3bf274a"
            }
        },
        {
            "cell_type": "code",
            "source": [
                "DROP TABLE IF EXISTS [Sales].[MainCustomers]\r\n",
                "SELECT TOP (0) \r\n",
                "       [CustomerID]\r\n",
                "      ,[CustomerName]\r\n",
                "      ,[CreditLimit]\r\n",
                "      ,[AccountOpenedDate]\r\n",
                "      ,[StandardDiscountPercentage]\r\n",
                "      ,[IsStatementSent]\r\n",
                "      ,[IsOnCreditHold]\r\n",
                "      ,[PaymentDays]\r\n",
                "      ,[PhoneNumber]\r\n",
                "      ,[FaxNumber]\r\n",
                "      ,[DeliveryRun]\r\n",
                "      ,[RunPosition]\r\n",
                "      ,[WebsiteURL]\r\n",
                "      ,[DeliveryAddressLine1]\r\n",
                "      ,[DeliveryAddressLine2]\r\n",
                "      ,[DeliveryPostalCode]\r\n",
                "      ,[DeliveryLocation]\r\n",
                "      ,[PostalAddressLine1]\r\n",
                "      ,[PostalAddressLine2]\r\n",
                "      ,[PostalPostalCode]\r\n",
                "  INTO [Sales].[MainCustomers]\r\n",
                "  FROM [Sales].[Customers]"
            ],
            "metadata": {
                "azdata_cell_guid": "60730b87-7c79-4fcf-a006-fd1e128df86a"
            },
            "outputs": [],
            "execution_count": 0
        },
        {
            "cell_type": "markdown",
            "source": [
                "In your database you will now find a `MainCustomers` table, which contains exactly the fields selected here with identical metadata. Of course, the whole thing gets a bit more complex if you execute a `JOIN` instead of just copying the metadata from a table. To do this, we first determine the total turnover and the number of orders from our customers: "
            ],
            "metadata": {
                "azdata_cell_guid": "b9872561-7455-488c-955a-e3c0fc46b131"
            }
        },
        {
            "cell_type": "code",
            "source": [
                "SELECT \r\n",
                "[CustomerID]\r\n",
                ",SUM(TransactionAmount) as [TotalCustomerValue]\r\n",
                ",COUNT(Distinct CustomerTransactionId) as [NumberOfTransactions]\r\n",
                "FROM [Sales].[CustomerTransactions]\r\n",
                "GROUP BY [CustomerID]"
            ],
            "metadata": {
                "azdata_cell_guid": "7289dc99-c3ad-4834-88f3-9ba79afdd0c9"
            },
            "outputs": [],
            "execution_count": 0
        },
        {
            "cell_type": "markdown",
            "source": [
                "We now execute this in a CTE, which we join to the above result set and again create a table in which we could write the result:"
            ],
            "metadata": {
                "azdata_cell_guid": "d2c6bf4f-5cfe-4278-b005-b3b314cc2af9"
            }
        },
        {
            "cell_type": "code",
            "source": [
                "DROP TABLE IF EXISTS [Sales].[MainCustomers]\r\n",
                "\r\n",
                ";WITH CTE_SalesPerCustomer AS (\r\n",
                "    SELECT \r\n",
                "         [CustomerID]\r\n",
                "        ,SUM(TransactionAmount) as [TotalCustomerValue]\r\n",
                "        ,COUNT(Distinct CustomerTransactionId) as [NumberOfTransactions]\r\n",
                "    FROM [Sales].[CustomerTransactions]\r\n",
                "    GROUP BY [CustomerID]\r\n",
                ")\r\n",
                "SELECT TOP (0) \r\n",
                "       c.[CustomerID]\r\n",
                "      ,[CustomerName]\r\n",
                "      ,[CreditLimit]\r\n",
                "      ,[AccountOpenedDate]\r\n",
                "      ,[StandardDiscountPercentage]\r\n",
                "      ,[IsStatementSent]\r\n",
                "      ,[IsOnCreditHold]\r\n",
                "      ,[PaymentDays]\r\n",
                "      ,[PhoneNumber]\r\n",
                "      ,[FaxNumber]\r\n",
                "      ,[DeliveryRun]\r\n",
                "      ,[RunPosition]\r\n",
                "      ,[WebsiteURL]\r\n",
                "      ,[DeliveryAddressLine1]\r\n",
                "      ,[DeliveryAddressLine2]\r\n",
                "      ,[DeliveryPostalCode]\r\n",
                "      ,[DeliveryLocation]\r\n",
                "      ,[PostalAddressLine1]\r\n",
                "      ,[PostalAddressLine2]\r\n",
                "      ,[PostalPostalCode]\r\n",
                "      ,[TotalCustomerValue]\r\n",
                "      ,[NumberOfTransactions]\r\n",
                "  INTO [Sales].[MainCustomers]\r\n",
                "  FROM [Sales].[Customers] c\r\n",
                "  LEFT JOIN CTE_SalesPerCustomer spc \r\n",
                "  ON c.CustomerID = spc.CustomerID"
            ],
            "metadata": {
                "azdata_cell_guid": "41fb2ecf-d6fb-4a9f-9e4a-08b5b1636595"
            },
            "outputs": [],
            "execution_count": 0
        },
        {
            "cell_type": "markdown",
            "source": [
                "As a result we now have a table whose metadata we want to look at: "
            ],
            "metadata": {
                "azdata_cell_guid": "0920eb6a-d1e2-4e75-be01-b1d4b43d8d44"
            }
        },
        {
            "cell_type": "code",
            "source": [
                "SELECT c.name AS column_name\r\n",
                "    ,c.column_id\r\n",
                "    ,SCHEMA_NAME(t.schema_id) AS type_schema\r\n",
                "    ,t.name AS type_name\r\n",
                "    ,t.is_user_defined\r\n",
                "    ,t.is_assembly_type\r\n",
                "    ,c.max_length\r\n",
                "    ,c.precision\r\n",
                "    ,c.scale\r\n",
                "FROM sys.columns AS c \r\n",
                "JOIN sys.types AS t ON c.user_type_id=t.user_type_id\r\n",
                "WHERE c.object_id = OBJECT_ID('Sales.MainCustomers')\r\n",
                "ORDER BY c.column_id;"
            ],
            "metadata": {
                "azdata_cell_guid": "c39a8366-1a13-40d1-a53d-66317f2cda24"
            },
            "outputs": [],
            "execution_count": 0
        },
        {
            "cell_type": "markdown",
            "source": [
                "Here you see as the last row of the result set the entries `TotalCustomerValue` as `Decimal(38,2)` column and `NumberOfTransactions` as `Int` column.\r\n",
                "\r\n",
                "But now we want to do it even wilder and add a calculated column to the table: "
            ],
            "metadata": {
                "azdata_cell_guid": "faec56fe-d62c-427e-90e5-2b93dd5ad395"
            }
        },
        {
            "cell_type": "code",
            "source": [
                "ALTER TABLE [Sales].[MainCustomers] \r\n",
                "    ADD [AverageTransactionValue] \r\n",
                "    AS [TotalCustomerValue]/CAST(NumberOfTransactions AS Decimal(10,2))"
            ],
            "metadata": {
                "azdata_cell_guid": "59d532ae-0de9-4768-9150-a22f8fc95a87"
            },
            "outputs": [],
            "execution_count": 0
        },
        {
            "cell_type": "markdown",
            "source": [
                "From this table, we now execute another `SELECT TOP 0 INTO`:"
            ],
            "metadata": {
                "azdata_cell_guid": "8ff40957-b9b3-49aa-bf42-e78d9ce6ddc2"
            }
        },
        {
            "cell_type": "code",
            "source": [
                "SELECT TOP 0 * \r\n",
                "INTO [Sales].[MainCustomersExtended]\r\n",
                "FROM [Sales].[MainCustomers] "
            ],
            "metadata": {
                "azdata_cell_guid": "a8e45afb-0118-4954-b1a9-4385c503856c"
            },
            "outputs": [],
            "execution_count": 0
        },
        {
            "cell_type": "markdown",
            "source": [
                "And let us now query the metadata of both tables:"
            ],
            "metadata": {
                "azdata_cell_guid": "1d84e42d-6726-4fad-b840-d7dbe6808603"
            }
        },
        {
            "cell_type": "code",
            "source": [
                "SELECT c.name AS column_name\r\n",
                "    ,c.column_id\r\n",
                "    ,SCHEMA_NAME(t.schema_id) AS type_schema\r\n",
                "    ,t.name AS type_name\r\n",
                "    ,t.is_user_defined\r\n",
                "    ,t.is_assembly_type\r\n",
                "    ,c.max_length\r\n",
                "    ,c.precision\r\n",
                "    ,c.scale\r\n",
                "FROM sys.columns AS c \r\n",
                "JOIN sys.types AS t ON c.user_type_id=t.user_type_id\r\n",
                "WHERE (\r\n",
                "           c.object_id = OBJECT_ID('Sales.MainCustomers') \r\n",
                "        OR c.object_id = OBJECT_ID('Sales.MainCustomersExtended')\r\n",
                "      ) AND c.name = 'AverageTransactionValue'\r\n",
                "ORDER BY c.column_id;"
            ],
            "metadata": {
                "azdata_cell_guid": "e59227df-47ed-4a03-b415-12cf6f8e8449"
            },
            "outputs": [],
            "execution_count": 0
        },
        {
            "cell_type": "markdown",
            "source": [
                "Then we see two identical columns. However, if we now take the `CREATE TABLE` statements of both tables, we see that in `MainCustomers` the definition of the Computed Column was taken over, while in `MainCustomersExtended` the column simply exists as an empty column. \n",
                "\n",
                "This means that with a `SELECT TOP 0` all the information beyond the pure metadata (which data type is stored here) is lost. This includes information such as filegroups, indexes, primary keys, and so on. The quick workaround for creating tables with the same structure is therefore a practical tool, but in the end, with productive databases, you still have to pay attention to the details, because these may end up hurting you in the end. \n",
                "\n",
                "## References\n",
                "- Today without further links. \n",
                ""
            ],
            "metadata": {
                "azdata_cell_guid": "5503af30-1c11-4de1-ae53-0f2e58b290c8"
            }
        }
    ]
}