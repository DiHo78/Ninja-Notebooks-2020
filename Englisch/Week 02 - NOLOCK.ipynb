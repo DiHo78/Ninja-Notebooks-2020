{
    "metadata": {
        "kernelspec": {
            "name": "SQL",
            "display_name": "SQL",
            "language": "sql"
        },
        "language_info": {
            "name": "sql",
            "version": ""
        }
    },
    "nbformat_minor": 2,
    "nbformat": 4,
    "cells": [
        {
            "cell_type": "markdown",
            "source": [
                "# Week 2: NOLOCK\r\n",
                "### What's NOLOCK?\r\n",
                "`NOLOCK` is a so called query hint that allows you to override or change the default SQL Server behavior for your query. `NOLOCK` is a hint that overrides the isolation level for the corresponding query. This works for read-only queries, so you cannot use the `NOLOCK` hint in `UPDATE`,  `DELETE` or `INSERT` statements. The `NOLOCK` hint is synonymous with the `READUNCOMMITED` hint, so it changes the isolation level of your query to allow dirty reads, so the query can return data that will not end up in the table at all when a `ROLLBACK` occurs.\r\n",
                "### Use of NOLOCK\r\n",
                "There are some myths surrounding `NOLOCK`, but at the same time it is probably the most commonly used query hint in the SQL Server universe. The following queries explain the effects and use of `NOLOCK` in more detail. In order to understand these queries, you will usually have to work with two sessions simultaneously, so you will need several open query tabs in your Azure Data Studio or SSMS or other query tool of your choice. \r\n",
                "In the first tab you start a transaction and in this transaction you make an `UPDATE` on a table:"
            ],
            "metadata": {
                "azdata_cell_guid": "f6b18a43-d6d2-4ca4-9f97-671c466728fd"
            }
        },
        {
            "cell_type": "code",
            "source": [
                "BEGIN TRANSACTION\r\n",
                "UPDATE [Warehouse].[StockItemTransactions]\r\n",
                "SET [TransactionTypeID] = 13 WHERE [TransactionTypeID] = 10"
            ],
            "metadata": {
                "azdata_cell_guid": "13a816b8-38bc-4a41-ae13-0ae58619ef97"
            },
            "outputs": [],
            "execution_count": 0
        },
        {
            "cell_type": "markdown",
            "source": [
                "Note that the transaction is not terminated. This means that if you now query the table in a second query, you will not get a result back. So open a second query and execute the following query:"
            ],
            "metadata": {
                "azdata_cell_guid": "a2d2fe62-a6a8-4b9b-bbac-c8d924ee620c"
            }
        },
        {
            "cell_type": "code",
            "source": [
                "SELECT [StockItemTransactionID]\r\n",
                "    ,[StockItemID]\r\n",
                "    ,[TransactionTypeID]\r\n",
                "    ,[CustomerID]\r\n",
                "    ,[InvoiceID]\r\n",
                "    ,[SupplierID]\r\n",
                "    ,[PurchaseOrderID]\r\n",
                "FROM [Warehouse].[StockItemTransactions] \r\n",
                "WHERE [TransactionTypeID] = 10"
            ],
            "metadata": {
                "azdata_cell_guid": "dabdc754-ffbe-4373-845a-8fb290a8ffcc"
            },
            "outputs": [],
            "execution_count": 0
        },
        {
            "cell_type": "markdown",
            "source": [
                "Here you can wait a long time, but you will not see any results. This is of course because in SQL Server `READ COMMITTED` is the default isolation level and you will have to wait on the table with your read operation for an open transaction. You can see this for example in the results of the following query:"
            ],
            "metadata": {
                "azdata_cell_guid": "76845ad0-c9db-41bb-8db5-274885a8919f"
            }
        },
        {
            "cell_type": "code",
            "source": [
                "DECLARE @who TABLE(\r\n",
                "        SPID INT,\r\n",
                "        Status VARCHAR(MAX),\r\n",
                "        LOGIN VARCHAR(MAX),\r\n",
                "        HostName VARCHAR(MAX),\r\n",
                "        BlkBy VARCHAR(MAX),\r\n",
                "        DBName VARCHAR(MAX),\r\n",
                "        Command VARCHAR(MAX),\r\n",
                "        CPUTime INT,\r\n",
                "        DiskIO INT,\r\n",
                "        LastBatch VARCHAR(MAX),\r\n",
                "        ProgramName VARCHAR(MAX),\r\n",
                "        SPID_1 INT,\r\n",
                "        REQUESTID INT\r\n",
                ")\r\n",
                "INSERT INTO @who EXEC sp_who2\r\n",
                "SELECT [SPID]\r\n",
                "    ,[Status]\r\n",
                "    ,[LOGIN]\r\n",
                "    ,[BlkBy]\r\n",
                "    ,[DBName]\r\n",
                "    ,[Command] \r\n",
                "FROM @who \r\n",
                "WHERE DBName = 'WideWorldImporters'"
            ],
            "metadata": {
                "azdata_cell_guid": "01889e39-4ae7-448a-afa2-233b6aabcc21"
            },
            "outputs": [],
            "execution_count": 0
        },
        {
            "cell_type": "markdown",
            "source": [
                "Here you can see 2 transactions, one with the status 'sleeping' with the command `AWAITING COMMAND`, which is the still open transaction in which the `UPDATE` has already run, and one with the status `SUSPENDED` with the command `SELECT`, where the column `BlkBy` contains the SPID of the first transaction, which is blocked by it. \r\n",
                "If you now cancel the `SELECT` query and add the `NOLOCK` hint after the table name, you will get results immediately (or in this case no results, since you changed the transaction from type 10 to 13):"
            ],
            "metadata": {
                "azdata_cell_guid": "89ff9705-f3b8-448b-a31e-799a8e945834"
            }
        },
        {
            "cell_type": "code",
            "source": [
                "SELECT [StockItemTransactionID]\r\n",
                "    ,[StockItemID]\r\n",
                "    ,[TransactionTypeID]\r\n",
                "    ,[CustomerID]\r\n",
                "    ,[InvoiceID]\r\n",
                "    ,[SupplierID]\r\n",
                "    ,[PurchaseOrderID]\r\n",
                "FROM [Warehouse].[StockItemTransactions] (NOLOCK)\r\n",
                "WHERE [TransactionTypeID] = 10"
            ],
            "metadata": {
                "azdata_cell_guid": "e382172b-6dbb-4249-95ea-5707d0f615a4"
            },
            "outputs": [],
            "execution_count": 0
        },
        {
            "cell_type": "markdown",
            "source": [
                "If you now execute a `ROLLBACK` in the first window and then execute the query on the table again, you will get results, since the transactions with type 10 have now been reset. \r\n",
                "Here you can see the first effect of `NOLOCK`: you have read an `UNCOMMITTED` transaction and thus data that was never persisted in the database. \r\n",
                "Nevertheless, `NOLOCK` is by far the most used query hint in the T-SQL universe. This is because some myths have been created about it:\r\n",
                "\r\n",
                "1. queries with `NOLOCK` cannot be blocked by other operations. \r\n",
                "This is wrong. To see this, the above `NOLOCK` query executes and while it is running sp_lock in another tab simultaneously. You will see entries for a schema lock on the queried table and for a shared lock on the database. This means that an operation that changes the schema of the table (for example, an index creation or an `ALTER TABLE` command) can lock a `NOLOCK` table.\r\n",
                "2. queries with `NOLOCK` do not block other operations. \r\n",
                "This is definitely not true. Because of the schema lock on the table shown above, a `NOLOCK` query can of course also block an `INDEX` creation.\r\n",
                "3. if all queries run with `NOLOCK`, everything will be faster. \r\n",
                "This is not quite true. Of course, queries that run with `NOLOCK` do not need to put data into the transaction log and therefore require less memory and are faster. However, there is little point in changing the isolation level for each query at the query level, because on the one hand you will get results like `UNCOMMITED READS' that are not provided by the DBA (otherwise the database would have a different global isolation level).\r\n",
                "4. just do `NOLOCK`, then everything is fine.\r\n",
                "If you are overriding the default SQL Server behavior, you should be aware of what you are doing and why. If you use NOLOCK by default, be aware of why and what the side effects might be.\r\n",
                "\r\n",
                "### References\r\n",
                "- [Official Documentation from Microsoft](https://docs.microsoft.com/de-de/sql/t-sql/queries/hints-transact-sql-table?view=sql-server-2017)\r\n",
                "- [Explanations on mssqltips](https://www.mssqltips.com/sqlservertip/2470/understanding-the-sql-server-nolock-hint/)"
            ],
            "metadata": {
                "azdata_cell_guid": "2fe5e2a7-9c4d-4320-9999-abd02396f962"
            }
        }
    ]
}