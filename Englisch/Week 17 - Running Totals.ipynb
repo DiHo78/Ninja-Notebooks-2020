{
    "metadata": {
        "kernelspec": {
            "name": "SQL",
            "display_name": "SQL",
            "language": "sql"
        },
        "language_info": {
            "name": "sql",
            "version": ""
        }
    },
    "nbformat_minor": 2,
    "nbformat": 4,
    "cells": [
        {
            "cell_type": "markdown",
            "source": [
                "# Week 17: Running Totals\r\n",
                "## What are Running Totals? \r\n",
                "A Running Total is a scenario in which each row contains the sum of the values of a specific column of the previous rows. A good example of this is when points from different games are added up. Of course, it is important for a running total that the rows are run through in an unambiguous sorting, otherwise any values will come up in our calculation.  \r\n",
                "## How can you calculate a Running Total?\r\n",
                "A running total is similar to the `RANK` and `ROW_NUMBER` functions already discussed. It is a window function, i.e. a function that operates on a certain set of rows and combines them. \r\n",
                "So we have a [Randori](https://de.wikipedia.org/wiki/Randori) of four teams over several rounds and count the points of the teams in each round. We store these points in a table: "
            ],
            "metadata": {
                "azdata_cell_guid": "d1b4f98c-647e-471f-aa8d-df7561c056b5"
            }
        },
        {
            "cell_type": "code",
            "source": [
                "DROP TABLE IF EXISTS #games \r\n",
                "\r\n",
                "CREATE TABLE #games\r\n",
                "(\r\n",
                "     RandoriNumber INT NOT NULL IDENTITY(1,1)\r\n",
                "    ,Team1Score INT NOT NULL DEFAULT 0\r\n",
                "    ,Team2Score INT NOT NULL DEFAULT 0\r\n",
                "    ,Team3Score INT NOT NULL DEFAULT 0\r\n",
                "    ,Team4Score INT NOT NULL DEFAULT 0\r\n",
                ")"
            ],
            "metadata": {
                "azdata_cell_guid": "4bc275e9-57d6-411f-974b-0bafbaaa0d5f"
            },
            "outputs": [],
            "execution_count": 0
        },
        {
            "cell_type": "markdown",
            "source": [
                "We have stored a battle number (RandoriNumber) in this table, according to which we can sort the lines uniquely afterwards. \r\n",
                "Now we fill the results into the table over a training cycle with 5 fights: "
            ],
            "metadata": {
                "azdata_cell_guid": "ac2d970f-09ec-4b4d-be99-a1716b45a3f1"
            }
        },
        {
            "cell_type": "code",
            "source": [
                "DECLARE @nRows int \r\n",
                "SELECT @nRows = COUNT(*) FROM #games\r\n",
                "\r\n",
                "WHILE @nRows < 5 BEGIN\r\n",
                "    INSERT INTO #games \r\n",
                "    (Team1Score, Team2Score, Team3Score, Team4Score)\r\n",
                "    VALUES\r\n",
                "    (CAST(10*RAND()-1 AS INT),  CAST(10*RAND()-1 AS INT), CAST(10*RAND()-1 AS INT),  CAST(10*RAND()-1 AS INT))\r\n",
                "    SELECT @nRows = COUNT(*) FROM #games\r\n",
                "END"
            ],
            "metadata": {
                "azdata_cell_guid": "843f9202-eb18-44fd-9535-a90d9c479e63"
            },
            "outputs": [],
            "execution_count": 0
        },
        {
            "cell_type": "markdown",
            "source": [
                "We add random numbers from zero to ten to the table here, so your results will look different from the ones we show here. Now we would like to know for each competition, what the score of each team was on that day. For this purpose, we calculate the sum of the four team scores for each row, sorted by the Randori number. This is very easy, because we only have to give the SUM function an `OVER (ORDER BY)` window for this. "
            ],
            "metadata": {
                "azdata_cell_guid": "832a1cf1-ee6a-47e4-8f26-2b92551eadd3"
            }
        },
        {
            "cell_type": "code",
            "source": [
                "SELECT \r\n",
                "     RandoriNumber\r\n",
                "    ,Team1Score\r\n",
                "    ,Team2Score\r\n",
                "    ,Team3Score\r\n",
                "    ,Team4Score\r\n",
                "    ,Team1RunningTotal = SUM(Team1Score) OVER (ORDER BY RandoriNumber)\r\n",
                "    ,Team2RunningTotal = SUM(Team2Score) OVER (ORDER BY RandoriNumber)\r\n",
                "    ,Team3RunningTotal = SUM(Team3Score) OVER (ORDER BY RandoriNumber)\r\n",
                "    ,Team4RunningTotal = SUM(Team4Score) OVER (ORDER BY RandoriNumber)\r\n",
                "FROM #games "
            ],
            "metadata": {
                "azdata_cell_guid": "b765b9b5-4324-4cd1-81a4-6c3da9ea28b5"
            },
            "outputs": [],
            "execution_count": 0
        },
        {
            "cell_type": "markdown",
            "source": [
                "\r\n",
                "The result should look something like this: \r\n",
                "\r\n",
                "## PICTURE !!!!\r\n",
                "\r\n",
                "You see at Team1 in line 2 as Running Total the value 5, which is composed of the score 5 for the first Randori and the score 1 for the second Randori and so on. \r\n",
                "Now SQL shoguns might remark that it is unclear why this statement forms a running total, which would not be entirely incorrect. After all, we tell the window for the sum function how we want to sort, but we don't specify that only preceding rows are summed. We could do this explicitly, for example, by explicitly specifying in the window that we want to evaluate all preceding rows up to the current row, by including a `ROWS BETWEEN UNBOUNDED PRECEDING AND CURRENT ROW`:"
            ],
            "metadata": {
                "azdata_cell_guid": "2c2d204d-0508-45e4-a32f-c52002685503"
            }
        },
        {
            "cell_type": "code",
            "source": [
                "SELECT \r\n",
                "     RandoriNumber\r\n",
                "    ,Team1Score\r\n",
                "    ,Team2Score\r\n",
                "    ,Team3Score\r\n",
                "    ,Team4Score\r\n",
                "    ,Team1RunningTotal = SUM(Team1Score) OVER (ORDER BY RandoriNumber ROWS BETWEEN UNBOUNDED PRECEDING AND CURRENT ROW )\r\n",
                "    ,Team2RunningTotal = SUM(Team2Score) OVER (ORDER BY RandoriNumber ROWS BETWEEN UNBOUNDED PRECEDING AND CURRENT ROW )\r\n",
                "    ,Team3RunningTotal = SUM(Team3Score) OVER (ORDER BY RandoriNumber ROWS BETWEEN UNBOUNDED PRECEDING AND CURRENT ROW )\r\n",
                "    ,Team4RunningTotal = SUM(Team4Score) OVER (ORDER BY RandoriNumber ROWS BETWEEN UNBOUNDED PRECEDING AND CURRENT ROW )\r\n",
                "FROM #games "
            ],
            "metadata": {
                "azdata_cell_guid": "9d990773-f9c2-45c7-b58c-b827bc8fcc82"
            },
            "outputs": [],
            "execution_count": 0
        },
        {
            "cell_type": "markdown",
            "source": [
                "But we are lucky, in this particular case exactly the same thing happens, because an unspecified `ROWS`/`RANGE` value, a `BETWEEN UNBOUNDED PRECEDING AND CURRENT ROW` is assumed, i.e. it is always automatically summed over the lines that are before the current line in the window. Of course, this only works if the `OVER` clause is used to define a window at all. \n",
                "\n",
                "### Further reading:\n",
                "- [Official Documentation from Microsoft](https://docs.microsoft.com/de-de/sql/t-sql/queries/select-over-clause-transact-sql?view=sql-server-ver15)\n",
                "- [Blog post about running totals](https://codingsight.com/calculating-running-total-with-over-clause-and-partition-by-clause-in-sql-server/)"
            ],
            "metadata": {
                "azdata_cell_guid": "5b19906b-84a2-4dac-bdd0-25a5a70b572e"
            }
        }
    ]
}