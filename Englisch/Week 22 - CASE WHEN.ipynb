{
    "metadata": {
        "kernelspec": {
            "name": "SQL",
            "display_name": "SQL",
            "language": "sql"
        },
        "language_info": {
            "name": "sql",
            "version": ""
        }
    },
    "nbformat_minor": 2,
    "nbformat": 4,
    "cells": [
        {
            "cell_type": "markdown",
            "source": [
                "# Week 22: CASE WHEN\r\n",
                "## What is CASE WHEN?\r\n",
                "Last week you already got to know the `IIF`-statement and in the course of this you also saw `CASE WHEN`-statements directly. Today we want to take a closer look at the `CASE WHEN` statements. Like `IIF`, `CASE WHEN` is a construct from the realm of logic functions that allow you to react to certain values.\r\n",
                "## What can you use CASE WHEN for?\r\n",
                "Like the `IIF` function, you can also use `CASE WHEN` to add a different value to the result depending on the value of a column:"
            ],
            "metadata": {
                "azdata_cell_guid": "463349f7-9cb8-4722-8e9b-cf44d4d5b58f"
            }
        },
        {
            "cell_type": "code",
            "source": [
                "SELECT \r\n",
                "     StockItemTransactionID\r\n",
                "    ,StockItemID\r\n",
                "    ,TransactionTypeName = \r\n",
                "        CASE TransactionTypeID \r\n",
                "        WHEN 10 THEN 'Stock Issue' \r\n",
                "        WHEN 11 THEN 'Stock Receipt' \r\n",
                "        WHEN 12 THEN 'Stock Adjustment at Stocktake' \r\n",
                "        ELSE 'Unknown' END\r\n",
                "    ,CustomerID\r\n",
                "    ,InvoiceID\r\n",
                "    ,SupplierID\r\n",
                "    ,PurchaseOrderID\r\n",
                "FROM Warehouse.StockItemTransactions "
            ],
            "metadata": {
                "azdata_cell_guid": "e7574d44-04cc-40b0-843c-75eec166cfe7"
            },
            "outputs": [],
            "execution_count": 0
        },
        {
            "cell_type": "markdown",
            "source": [
                "Now we can write this statement as above, but we could also paraphrase it and write out the comparison operation which is implicit here: "
            ],
            "metadata": {
                "azdata_cell_guid": "5e7aee83-7c49-4925-9d9c-bfa2edad2733"
            }
        },
        {
            "cell_type": "code",
            "source": [
                "SELECT \r\n",
                "     StockItemTransactionID\r\n",
                "    ,StockItemID\r\n",
                "    ,TransactionTypeName = \r\n",
                "        CASE  \r\n",
                "        WHEN TransactionTypeID= 10 THEN 'Stock Issue' \r\n",
                "        WHEN TransactionTypeID= 11 THEN 'Stock Receipt' \r\n",
                "        WHEN TransactionTypeID= 12 THEN 'Stock Adjustment at Stocktake' \r\n",
                "        ELSE 'Unknown' END\r\n",
                "    ,CustomerID\r\n",
                "    ,InvoiceID\r\n",
                "    ,SupplierID\r\n",
                "    ,PurchaseOrderID\r\n",
                "FROM Warehouse.StockItemTransactions "
            ],
            "metadata": {
                "azdata_cell_guid": "de25bff7-2716-40c8-b7c6-35cd3a3862ad"
            },
            "outputs": [],
            "execution_count": 0
        },
        {
            "cell_type": "markdown",
            "source": [
                "The result of this query is, of course, the same as the first variant. But what happens if we want to aggregate over the derived values? Can we group by a column that was processed in a `CASE` statement? Yes, in this case it is possible, as the following query shows: "
            ],
            "metadata": {
                "azdata_cell_guid": "8a1c63d8-2d23-4157-8783-51f8175e498e"
            }
        },
        {
            "cell_type": "code",
            "source": [
                "SELECT \r\n",
                "     TransactionTypeName = \r\n",
                "        CASE TransactionTypeID \r\n",
                "        WHEN 10 THEN 'Stock Issue' \r\n",
                "        WHEN 11 THEN 'Stock Receipt' \r\n",
                "        WHEN 12 THEN 'Stock Adjustment at Stocktake' \r\n",
                "        ELSE 'Unknown' END\r\n",
                "    ,AVG(Quantity)\r\n",
                "FROM Warehouse.StockItemTransactions \r\n",
                "GROUP BY TransactionTypeID"
            ],
            "metadata": {
                "azdata_cell_guid": "9afc953a-5d43-401d-90a5-e61e4f90abb2"
            },
            "outputs": [],
            "execution_count": 0
        },
        {
            "cell_type": "markdown",
            "source": [
                "This no longer works if several columns are used in your `CASE` statement: "
            ],
            "metadata": {
                "azdata_cell_guid": "6680df3f-f4f6-4a3d-985c-ee177921f73a"
            }
        },
        {
            "cell_type": "code",
            "source": [
                "SELECT \r\n",
                "     TransactionTypeName = \r\n",
                "         CASE  \r\n",
                "         WHEN TransactionTypeID=10 AND Quantity > 0 THEN 'Pos. Stock Issue' \r\n",
                "         WHEN TransactionTypeID=11 AND Quantity > 0 THEN 'Pos. Stock Receipt' \r\n",
                "         WHEN TransactionTypeID=12 AND Quantity > 0 THEN 'Pos. Stock Adjustment' \r\n",
                "         ELSE 'Unknown' END\r\n",
                "    ,AVG(Quantity)\r\n",
                "FROM Warehouse.StockItemTransactions \r\n",
                "GROUP BY TransactionTypeID"
            ],
            "metadata": {
                "azdata_cell_guid": "db3886f2-ce52-43af-904d-4f8b68edd934"
            },
            "outputs": [],
            "execution_count": 0
        },
        {
            "cell_type": "markdown",
            "source": [
                "This query gives an error, if we want to use such a query, all we have to do is adjust the `GROUP BY` and use our `CASE` statement here too: "
            ],
            "metadata": {
                "azdata_cell_guid": "e9934503-cd48-4db8-9169-79304a675aff"
            }
        },
        {
            "cell_type": "code",
            "source": [
                "SELECT\r\n",
                "     TransactionTypeName = \r\n",
                "         CASE  \r\n",
                "         WHEN TransactionTypeID=10 AND Quantity > 0 THEN 'Pos. Stock Issue' \r\n",
                "         WHEN TransactionTypeID=11 AND Quantity > 0 THEN 'Pos. Stock Receipt' \r\n",
                "         WHEN TransactionTypeID=12 AND Quantity > 0 THEN 'Pos. Stock Adjustment' \r\n",
                "         ELSE 'Unknown' END\r\n",
                "    ,AVG(Quantity)\r\n",
                "FROM Warehouse.StockItemTransactions \r\n",
                "GROUP BY\r\n",
                "    CASE  \r\n",
                "        WHEN TransactionTypeID=10 AND Quantity > 0 THEN 'Pos. Stock Issue' \r\n",
                "        WHEN TransactionTypeID=11 AND Quantity > 0 THEN 'Pos. Stock Receipt' \r\n",
                "        WHEN TransactionTypeID=12 AND Quantity > 0 THEN 'Pos. Stock Adjustment' \r\n",
                "        ELSE 'Unknown' END"
            ],
            "metadata": {
                "azdata_cell_guid": "a5770771-bc08-417e-8db6-384bf81bc96a"
            },
            "outputs": [],
            "execution_count": 0
        },
        {
            "cell_type": "markdown",
            "source": [
                "And as a note: even if the conditions in the `CASE` statement are identical, the output values must also be identical. The following statement therefore fails: "
            ],
            "metadata": {
                "azdata_cell_guid": "909925a5-c5f6-4bbf-8d89-1cc30185d347"
            }
        },
        {
            "cell_type": "code",
            "source": [
                "SELECT \r\n",
                "     TransactionTypeName = \r\n",
                "         CASE  \r\n",
                "         WHEN TransactionTypeID=10 AND Quantity > 0 THEN 'Pos. Stock Issue' \r\n",
                "         WHEN TransactionTypeID=11 AND Quantity > 0 THEN 'Pos. Stock Receipt' \r\n",
                "         WHEN TransactionTypeID=12 AND Quantity > 0 THEN 'Pos. Stock Adjustment at Stocktake' \r\n",
                "         ELSE 'Unknown' END\r\n",
                "    ,AVG(Quantity)\r\n",
                "FROM Warehouse.StockItemTransactions \r\n",
                "GROUP BY\r\n",
                "    CASE  \r\n",
                "        WHEN TransactionTypeID=10 AND Quantity > 0 THEN 'Case 1' \r\n",
                "        WHEN TransactionTypeID=11 AND Quantity > 0 THEN 'Case 2' \r\n",
                "        WHEN TransactionTypeID=12 AND Quantity > 0 THEN 'Case 3' \r\n",
                "        ELSE 'Unknown' END"
            ],
            "metadata": {
                "azdata_cell_guid": "a0e77f42-a7d8-4603-8179-09f87c60612b"
            },
            "outputs": [],
            "execution_count": 0
        },
        {
            "cell_type": "markdown",
            "source": [
                "Like `IIF`, `CASE WHEN` is one of the important statements for modifying data and adjusting the output in the result set.  Unlike the `IIF` function, however, the `CASE WHEN` construct is included in the ANSI SQL standard and works on all versions of SQL Server you might encounter in the wild as well as most other relational database systems.  \n",
                "## References\n",
                "- [Documentation from Microsoft](https://docs.microsoft.com/en-us/sql/t-sql/language-elements/case-transact-sql?view=sql-server-ver15)\n",
                ""
            ],
            "metadata": {
                "azdata_cell_guid": "c8146730-0e22-4f47-99b7-cd8c8422abac"
            }
        }
    ]
}