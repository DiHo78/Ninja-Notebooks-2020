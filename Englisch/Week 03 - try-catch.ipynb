{
    "metadata": {
        "kernelspec": {
            "name": "SQL",
            "display_name": "SQL",
            "language": "sql"
        },
        "language_info": {
            "name": "sql",
            "version": ""
        }
    },
    "nbformat_minor": 2,
    "nbformat": 4,
    "cells": [
        {
            "cell_type": "markdown",
            "source": [
                "# Week 3: try catch\r\n",
                "## What is try-catch?\r\n",
                "Those of you who write code know `try`-`catch` blocks for exception handling. Constructs like this one, by which you can react to exceptions instead of simply running on errors and aborting the code, are common in the programming world, but not provided for in the SQL standard.\r\n",
                "\r\n",
                "## What can you use try-catch for?\r\n",
                "`Try`-`catch` blocks are useful in SQL, just like in programming, whenever you want to react to errors in a special way without your code ending with an error. I often use `try`-`catch` blocks when I want to create and clean up a (temporary) table for a demo or test. \r\n",
                "In the past my code to remove temporary tables looked like this:"
            ],
            "metadata": {
                "azdata_cell_guid": "d77e5109-548d-4ff7-b02d-eabd4c655bba"
            }
        },
        {
            "cell_type": "code",
            "source": [
                "IF OBJECT_ID('tempdb..#OrdersTemp', 'U') IS NOT NULL\r\n",
                "BEGIN\r\n",
                " DROP TABLE #OrdersTemp;\r\n",
                "END\r\n",
                "SELECT\r\n",
                "     O.[OrderID]\r\n",
                "    ,O.[OrderDate]\r\n",
                "    ,O.[ExpectedDeliveryDate]\r\n",
                "    ,Ol.[StockItemID]\r\n",
                "    ,Ol.[Description]\r\n",
                "    ,Ol.[Quantity]\r\n",
                "    ,Ol.[UnitPrice]\r\n",
                "INTO #OrdersTemp\r\n",
                "FROM\r\n",
                "[Sales].[Orders] AS O\r\n",
                "LEFT JOIN\r\n",
                "[Sales].[OrderLines] AS Ol ON O.[OrderID] = Ol.[OrderID]"
            ],
            "metadata": {
                "azdata_cell_guid": "e583ed5f-d731-4410-bd8d-c0052a9cfa4a"
            },
            "outputs": [],
            "execution_count": 0
        },
        {
            "cell_type": "markdown",
            "source": [
                "And to be honest, I could never get used to the `tempdb` with the two dots when querying the object ID (and had to read the syntax again for this post). \r\n",
                "Life became much easier with SQL Server 2016, when Microsoft decided to introduce a `drop if exists` syntax in SQL Server, which has been possible in other systems for quite some time. After that my queries looked like this:"
            ],
            "metadata": {
                "azdata_cell_guid": "c44826e2-a184-46c0-b12e-7a67cc83ea97"
            }
        },
        {
            "cell_type": "code",
            "source": [
                "DROP TABLE IF EXISTS #OrdersTemp\r\n",
                "SELECT\r\n",
                "     O.[OrderID]\r\n",
                "    ,O.[OrderDate]\r\n",
                "    ,O.[ExpectedDeliveryDate]\r\n",
                "    ,Ol.[StockItemID]\r\n",
                "    ,Ol.[Description]\r\n",
                "    ,Ol.[Quantity]\r\n",
                "    ,Ol.[UnitPrice]\r\n",
                "INTO #OrdersTemp\r\n",
                "FROM\r\n",
                "[Sales].[Orders] AS O\r\n",
                "LEFT JOIN\r\n",
                "[Sales].[OrderLines] AS Ol ON O.[OrderID] = Ol.[OrderID]"
            ],
            "metadata": {
                "azdata_cell_guid": "f9e1da04-8a02-4c32-85f4-f65ada076b51"
            },
            "outputs": [],
            "execution_count": 0
        },
        {
            "cell_type": "markdown",
            "source": [
                "But if you occasionally jump between the versions, you (like me) may find it difficult to remember which of the two versions to use. My queries therefore mostly look like this:"
            ],
            "metadata": {
                "azdata_cell_guid": "0710e5eb-af8e-4d9a-87fc-5bbe0bcee3ed"
            }
        },
        {
            "cell_type": "code",
            "source": [
                "BEGIN TRY DROP TABLE #OrdersTemp END TRY BEGIN CATCH END CATCH\r\n",
                "SELECT\r\n",
                "     O.[OrderID]\r\n",
                "    ,O.[OrderDate]\r\n",
                "    ,O.[ExpectedDeliveryDate]\r\n",
                "    ,Ol.[StockItemID]\r\n",
                "    ,Ol.[Description]\r\n",
                "    ,Ol.[Quantity]\r\n",
                "    ,Ol.[UnitPrice]\r\n",
                "INTO #OrdersTemp\r\n",
                "FROM\r\n",
                "[Sales].[Orders] AS O\r\n",
                "LEFT JOIN\r\n",
                "[Sales].[OrderLines] AS Ol ON O.[OrderID] = Ol.[OrderID]"
            ],
            "metadata": {
                "azdata_cell_guid": "8edb5a51-d1d4-4e19-96b0-b360843d762a"
            },
            "outputs": [],
            "execution_count": 0
        },
        {
            "cell_type": "markdown",
            "source": [
                "As a person with a programming background it is always the easiest for me to remember a `try`-`catch` syntax... \r\n",
                "Of course, you can do much more exciting things with `try`-`Catch` blocks, for example, react to errors in stored procedures and not ignore errors (as in this example) but instead handle them cleanly and keep a log for failed stored procedures.\r\n",
                "### References\r\n",
                "- [Official Documentation from Microsoft](https://docs.microsoft.com/de-de/sql/t-sql/language-elements/try-catch-transact-sql?view=sql-server-2017)"
            ],
            "metadata": {
                "azdata_cell_guid": "2e475e75-90d5-4eb6-9182-412a6aa69e72"
            }
        }
    ]
}