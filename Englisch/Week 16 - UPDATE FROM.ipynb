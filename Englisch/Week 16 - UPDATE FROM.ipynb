{
    "metadata": {
        "kernelspec": {
            "name": "SQL",
            "display_name": "SQL",
            "language": "sql"
        },
        "language_info": {
            "name": "sql",
            "version": ""
        }
    },
    "nbformat_minor": 2,
    "nbformat": 4,
    "cells": [
        {
            "cell_type": "markdown",
            "source": [
                "# Week 16: UPDATE FROM\r\n",
                "## What does UPDATE FROM do? \r\n",
                "If you want to `UPDATE` values in tables, a script often looks like this: you assign a new value (which can be derived from other values) to a column. But how does this work if the other values come from a different table? Then you need an `UPDATE FROM`. \r\n",
                "## How can you work with UPDATE FROM?\r\n",
                "Starting with a simple update, we increase the `UnitPrice` of all USB products in the Warehouse `StockItems` table by 10% in the Wideworld Importers database:\r\n",
                ""
            ],
            "metadata": {
                "azdata_cell_guid": "bfa6db09-5040-4bac-8e94-434033e0cd45"
            }
        },
        {
            "cell_type": "code",
            "source": [
                "UPDATE Warehouse.StockItems\r\n",
                "SET UnitPrice = UnitPrice*1.1 \r\n",
                "WHERE StockItemName LIKE '%USB%'\r\n",
                "\r\n",
                "SELECT @@ROWCOUNT"
            ],
            "metadata": {
                "azdata_cell_guid": "d8af4d47-9cf7-4960-9414-6bb1e2d635b7"
            },
            "outputs": [],
            "execution_count": 0
        },
        {
            "cell_type": "markdown",
            "source": [
                "This means we have increased the price of 14 products. Now we would like to adjust the `OrderLines` in the `Sales` scheme with the new prices (although this is of course not a real-world scenario, as we would not change completed orders there). We could of course now make a construct that looks like this"
            ],
            "metadata": {
                "azdata_cell_guid": "a7f2bf3f-f779-43f6-aa51-f04c6b347d9f"
            }
        },
        {
            "cell_type": "code",
            "source": [
                "UPDATE Sales.OrderLines\r\n",
                "SET UnitPrice = UnitPrice*1.1\r\n",
                "WHERE StockItemID IN\r\n",
                "(\r\n",
                "    SELECT StockItemID \r\n",
                "    FROM Warehouse.Stockitems \r\n",
                "    WHERE StockItemName LIKE '%USB%'\r\n",
                ")"
            ],
            "metadata": {
                "azdata_cell_guid": "2959f5ae-c291-4046-b792-4b81f68abe67"
            },
            "outputs": [],
            "execution_count": 0
        },
        {
            "cell_type": "markdown",
            "source": [
                "This is a bit unpleasant as we would have to apply the calculation explicitly and we have also set the filter on the USB items directly again. We can get around this by using a `JOIN` to find the items with changed prices: "
            ],
            "metadata": {
                "azdata_cell_guid": "94dd77c6-afe3-4468-96c0-e68f1270a12c"
            }
        },
        {
            "cell_type": "code",
            "source": [
                "SELECT \r\n",
                "     ol.[OrderLineID]\r\n",
                "    ,ol.[OrderID]\r\n",
                "    ,ol.[StockItemID]\r\n",
                "    ,ol.[Description]\r\n",
                "    ,ol.[PackageTypeID]\r\n",
                "    ,ol.[Quantity]\r\n",
                "    ,ol.[UnitPrice]\r\n",
                "    ,ol.[TaxRate]\r\n",
                "    ,ol.[PickedQuantity]\r\n",
                "    ,ol.[PickingCompletedWhen]\r\n",
                "    ,ol.[LastEditedBy]\r\n",
                "    ,ol.[LastEditedWhen] \r\n",
                "FROM Sales.OrderLines ol  \r\n",
                "INNER JOIN Warehouse.StockItems si \r\n",
                "ON ol.StockItemID = si.StockItemID\r\n",
                "AND si.UnitPrice <> ol.UnitPrice"
            ],
            "metadata": {
                "azdata_cell_guid": "00abf629-9238-4c77-942c-a454b927e108"
            },
            "outputs": [],
            "execution_count": 0
        },
        {
            "cell_type": "markdown",
            "source": [
                "We can now use this `JOIN` to change the prices on the 14,834 OrderLines where the prices no longer match the updated `StockItem` table:"
            ],
            "metadata": {
                "azdata_cell_guid": "18a33851-7376-4eca-8133-9810cc4c7147"
            }
        },
        {
            "cell_type": "code",
            "source": [
                "UPDATE ol\r\n",
                "SET UnitPrice = si.UnitPrice\r\n",
                "FROM Sales.OrderLines ol  \r\n",
                "INNER JOIN Warehouse.StockItems si \r\n",
                "ON ol.StockItemID = si.StockItemID\r\n",
                "AND si.UnitPrice <> ol.UnitPrice\r\n",
                "\r\n",
                "SELECT @@ROWCOUNT"
            ],
            "metadata": {
                "azdata_cell_guid": "aacb0163-7ef9-4a02-935b-babe6176906d"
            },
            "outputs": [],
            "execution_count": 0
        },
        {
            "cell_type": "markdown",
            "source": [
                "Together with CTEs and all possible `JOIN` and `WHERE` conditions, this results in the most interesting `UPDATE` constructs. However, it is recommended to do a round in the Dojo and to check by `SELECT` if only the lines that should be updated are really updated (as generally with every `UPDATE`)... \n",
                "## References:\n",
                "- [Official documentation from Microsoft](https://docs.microsoft.com/de-de/sql/t-sql/queries/update-transact-sql?view=sql-server-2017)\n",
                ""
            ],
            "metadata": {
                "azdata_cell_guid": "a56f8895-9054-4e1b-9de0-2446b8c7f80b"
            }
        }
    ]
}