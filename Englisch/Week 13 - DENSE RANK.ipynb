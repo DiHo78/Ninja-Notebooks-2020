{
    "metadata": {
        "kernelspec": {
            "name": "SQL",
            "display_name": "SQL",
            "language": "sql"
        },
        "language_info": {
            "name": "sql",
            "version": ""
        }
    },
    "nbformat_minor": 2,
    "nbformat": 4,
    "cells": [
        {
            "cell_type": "markdown",
            "source": [
                "# Week 13: DENSE_RANK\r\n",
                "## What is DENSE_RANK?\r\n",
                "In the last two weeks we have already given you \"joy\" by numbering rows in the result set with the `ROW_NUMBER` and `RANK` functions. We want to continue with this today. \r\n",
                "The `DENSE_RANK` function is, as the name suggests, closely related to the `RANK` function from last week. So what is the difference? It's relatively simple: while the `RANK` function skips a number when assigning the same number for two lines, the `DENSE_RANK` function skips nothing, so here you get a continuous sequence of numbers. \r\n",
                "## How can you work with DENSE_RANK?\r\n",
                "Remember the query we used last week using the `RANK` function. We created a query in the Wide World Importers database that returns sortable items, but the sorting does not have to be unique. We used a CTE to count the number of orders in which each product appeared in the OrderLines and calculated the popularity of the respective product with the `RANK` function: "
            ],
            "metadata": {
                "azdata_cell_guid": "85750edd-43fe-4b09-9bb4-a1c529804b8c"
            }
        },
        {
            "cell_type": "code",
            "source": [
                "WITH cte_sales AS (\r\n",
                "    SELECT \r\n",
                "         StockItemID\r\n",
                "        ,COUNT(*) AS nOrders\r\n",
                "        ,SUM(Quantity*UnitPrice) AS TotalSales \r\n",
                "    FROM \r\n",
                "        Sales.OrderLines\r\n",
                "    GROUP BY StockItemID\r\n",
                ")\r\n",
                "SELECT  \r\n",
                "     StockItemID\r\n",
                "    ,nOrders\r\n",
                "    ,TotalSales\r\n",
                "    ,ROW_NUMBER() OVER (ORDER BY nOrders DESC, TotalSales DESC) as Popularity\r\n",
                "    ,RANK() OVER (ORDER BY nOrders DESC) as Real_Popularity\r\n",
                "FROM cte_sales \r\n",
                "ORDER BY \r\n",
                "     nOrders DESC\r\n",
                "    ,TotalSales DESC"
            ],
            "metadata": {
                "azdata_cell_guid": "5f47c56a-aab7-40b8-81b3-1ad9a1af0cab"
            },
            "outputs": [],
            "execution_count": 0
        },
        {
            "cell_type": "markdown",
            "source": [
                "As a result, both products, 104 and 120 had received the (real) popularity 1, while the next product (the one with ID 167) was assigned the third place, similar to what is usual in sports competitions. \r\n",
                "\r\n",
                "Now, in order not to skip a rank, we add another column to the query: "
            ],
            "metadata": {
                "azdata_cell_guid": "132ca215-c60f-4973-a197-4aab11645ce2"
            }
        },
        {
            "cell_type": "code",
            "source": [
                "WITH cte_sales AS (\r\n",
                "    SELECT \r\n",
                "         StockItemID\r\n",
                "        ,COUNT(*) AS nOrders\r\n",
                "        ,SUM(Quantity*UnitPrice) AS TotalSales \r\n",
                "    FROM \r\n",
                "        Sales.OrderLines\r\n",
                "    GROUP BY StockItemID\r\n",
                ")\r\n",
                "SELECT  \r\n",
                "     StockItemID\r\n",
                "    ,nOrders\r\n",
                "    ,TotalSales\r\n",
                "    ,ROW_NUMBER() OVER (ORDER BY nOrders DESC, TotalSales DESC) as Popularity\r\n",
                "    ,RANK() OVER (ORDER BY nOrders DESC) as Real_Popularity\r\n",
                "    ,DENSE_RANK() OVER (ORDER BY nOrders DESC) as Dense_Real_Popularity\r\n",
                "FROM cte_sales \r\n",
                "ORDER BY \r\n",
                "     nOrders DESC\r\n",
                "    ,TotalSales DESC"
            ],
            "metadata": {
                "azdata_cell_guid": "9fecdfd0-4cac-47bb-b4d7-0d18753bf4f2"
            },
            "outputs": [],
            "execution_count": 0
        },
        {
            "cell_type": "markdown",
            "source": [
                "In the result set, the product 167 now has the `Dense_Real_Popularity` 2 instead of the `Real_Popularity` 3. \r\n",
                "And to round things up, let's take a look at the most popular items:"
            ],
            "metadata": {
                "azdata_cell_guid": "c5ebe17c-17f0-4a4e-8752-f9c618b7705d"
            }
        },
        {
            "cell_type": "code",
            "source": [
                "WITH cte_sales AS (\r\n",
                "    SELECT \r\n",
                "         StockItemID\r\n",
                "        ,COUNT(*) AS nOrders\r\n",
                "        ,SUM(Quantity*UnitPrice) AS TotalSales \r\n",
                "    FROM \r\n",
                "        Sales.OrderLines\r\n",
                "    GROUP BY StockItemID\r\n",
                ")\r\n",
                "SELECT  \r\n",
                "     cs.StockItemID\r\n",
                "    ,si.StockItemName\r\n",
                "    ,nOrders\r\n",
                "    ,TotalSales\r\n",
                "    ,ROW_NUMBER() OVER (ORDER BY nOrders DESC, TotalSales DESC) as Popularity\r\n",
                "    ,RANK() OVER (ORDER BY nOrders DESC) as Real_Popularity\r\n",
                "    ,DENSE_RANK() OVER (ORDER BY nOrders DESC) as Dense_Real_Popularity\r\n",
                "FROM cte_sales cs \r\n",
                "LEFT JOIN \r\n",
                "    Warehouse.StockItems si \r\n",
                "ON cs.StockItemID = si.StockItemID\r\n",
                "ORDER BY \r\n",
                "     nOrders DESC\r\n",
                "    ,TotalSales DESC"
            ],
            "metadata": {
                "azdata_cell_guid": "3d2a22a8-f19a-4aa2-b511-1cf1629b52bf"
            },
            "outputs": [],
            "execution_count": 0
        },
        {
            "cell_type": "markdown",
            "source": [
                "So it was green battery-operated slippers and a hoodie with an alien officer that were particularly popular with Wide World Importers' customers. The ninja in us would have guessed Shuriken, after all, these are expendable items... \r\n",
                "### References\r\n",
                "- [Official Microsoft documentation](https://docs.microsoft.com/de-de/sql/t-sql/functions/dense-rank-transact-sql?view=sql-server-2017)"
            ],
            "metadata": {
                "azdata_cell_guid": "0043e70c-90fe-4903-9048-884da8aaa2b0"
            }
        }
    ]
}