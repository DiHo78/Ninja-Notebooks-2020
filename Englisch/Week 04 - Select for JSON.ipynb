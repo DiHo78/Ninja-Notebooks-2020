{
    "metadata": {
        "kernelspec": {
            "name": "SQL",
            "display_name": "SQL",
            "language": "sql"
        },
        "language_info": {
            "name": "sql",
            "version": ""
        }
    },
    "nbformat_minor": 2,
    "nbformat": 4,
    "cells": [
        {
            "cell_type": "markdown",
            "source": [
                "# Week 4: Select for JSON\r\n",
                "## What is SELECT FOR JSON?\r\n",
                "In almost every new Web application, JSON is the file format for data exchange. JSON is readable, clearer than XML, for example, and has a smaller data to noise ratio, which is why it is becoming increasingly common in the Web world. JSON stands for JavaScript Object Notation. Now - similar to the way it used to work with `SELECT FOR XML` - Microsoft has decided to support this new de facto standard format with its own output option.\r\n",
                "## How can you use SELECT FOR JSON?\r\n",
                "`SELECT FOR JSON` gives you the ability to output submission results in JSON format. You can give new names to the entities in your output and also format your output a bit. \r\n",
                "To test this, let's take a look at the two most expensive products in the Wide World Importers database:"
            ],
            "metadata": {
                "azdata_cell_guid": "8d748e73-a4e4-4cb4-acfa-7bbebc78d52e"
            }
        },
        {
            "cell_type": "code",
            "source": [
                "SELECT TOP 2 \r\n",
                "     si.StockItemID\r\n",
                "    ,si.StockItemName\r\n",
                "    ,si.UnitPrice\r\n",
                "    ,sg.StockGroupName\r\n",
                "FROM [Warehouse].[StockItems] AS si\r\n",
                "LEFT JOIN [Warehouse].[StockItemStockGroups] as sisg\r\n",
                "ON si.[StockItemID] = sisg.[StockItemID]\r\n",
                "LEFT JOIN [Warehouse].[StockGroups] sg \r\n",
                "ON sg.[StockGroupID] = sisg.[StockGroupID]\r\n",
                "ORDER BY si.[UnitPrice] DESC"
            ],
            "metadata": {
                "azdata_cell_guid": "1516fd31-d97e-4145-89e9-3c17886281cd"
            },
            "outputs": [
                {
                    "output_type": "display_data",
                    "data": {
                        "text/html": "(2 rows affected)"
                    },
                    "metadata": {}
                },
                {
                    "output_type": "display_data",
                    "data": {
                        "text/html": "Total execution time: 00:00:00.099"
                    },
                    "metadata": {}
                },
                {
                    "output_type": "execute_result",
                    "execution_count": 2,
                    "data": {
                        "application/vnd.dataresource+json": {
                            "schema": {
                                "fields": [
                                    {
                                        "name": "StockItemID"
                                    },
                                    {
                                        "name": "StockItemName"
                                    },
                                    {
                                        "name": "UnitPrice"
                                    },
                                    {
                                        "name": "StockGroupName"
                                    }
                                ]
                            },
                            "data": [
                                {
                                    "0": "215",
                                    "1": "Air cushion machine (Blue)",
                                    "2": "1899,00",
                                    "3": "Packaging Materials"
                                },
                                {
                                    "0": "75",
                                    "1": "Ride on big wheel monster truck (Black) 1/12 scale",
                                    "2": "345,00",
                                    "3": "Novelty Items"
                                }
                            ]
                        },
                        "text/html": "<table><tr><th>StockItemID</th><th>StockItemName</th><th>UnitPrice</th><th>StockGroupName</th></tr><tr><td>215</td><td>Air cushion machine (Blue)</td><td>1899,00</td><td>Packaging Materials</td></tr><tr><td>75</td><td>Ride on big wheel monster truck (Black) 1/12 scale</td><td>345,00</td><td>Novelty Items</td></tr></table>"
                    },
                    "metadata": {}
                }
            ],
            "execution_count": 2
        },
        {
            "cell_type": "markdown",
            "source": [
                "As expected, this gives us a result set with two products in it.\r\n",
                "If we wanted to pass them to a web service, for example, we could put them in JSON format as follows:\r\n",
                ""
            ],
            "metadata": {
                "azdata_cell_guid": "88bb76dc-4a02-45a0-aa14-f82ace1c7774"
            }
        },
        {
            "cell_type": "code",
            "source": [
                "SELECT TOP 2 \r\n",
                "     si.StockItemID\r\n",
                "    ,si.StockItemName\r\n",
                "    ,si.UnitPrice\r\n",
                "    ,sg.StockGroupName\r\n",
                "FROM [Warehouse].[StockItems] AS si\r\n",
                "LEFT JOIN [Warehouse].[StockItemStockGroups] as sisg\r\n",
                "ON si.[StockItemID] = sisg.[StockItemID]\r\n",
                "LEFT JOIN [Warehouse].[StockGroups] sg \r\n",
                "ON sg.[StockGroupID] = sisg.[StockGroupID]\r\n",
                "ORDER BY si.[UnitPrice] DESC\r\n",
                "FOR JSON AUTO;"
            ],
            "metadata": {
                "azdata_cell_guid": "6dd67ae5-d8ea-4e07-be1c-0876c4f2fc7a"
            },
            "outputs": [
                {
                    "output_type": "display_data",
                    "data": {
                        "text/html": "(2 rows affected)"
                    },
                    "metadata": {}
                },
                {
                    "output_type": "display_data",
                    "data": {
                        "text/html": "Total execution time: 00:00:00.110"
                    },
                    "metadata": {}
                },
                {
                    "output_type": "execute_result",
                    "execution_count": 3,
                    "data": {
                        "application/vnd.dataresource+json": {
                            "schema": {
                                "fields": [
                                    {
                                        "name": "JSON_F52E2B61-18A1-11d1-B105-00805F49916B"
                                    }
                                ]
                            },
                            "data": [
                                {
                                    "0": "[{\"StockItemID\":215,\"StockItemName\":\"Air cushion machine (Blue)\",\"UnitPrice\":1899.00,\"sg\":[{\"StockGroupName\":\"Packaging Materials\"}]},{\"StockItemID\":75,\"StockItemName\":\"Ride on big wheel monster truck (Black) 1\\/12 scale\",\"UnitPrice\":345.00,\"sg\":[{\"StockGroupName\":\"Novelty Items\"}]}]"
                                }
                            ]
                        },
                        "text/html": "<table><tr><th>JSON_F52E2B61-18A1-11d1-B105-00805F49916B</th></tr><tr><td>[{&quot;StockItemID&quot;:215,&quot;StockItemName&quot;:&quot;Air cushion machine (Blue)&quot;,&quot;UnitPrice&quot;:1899.00,&quot;sg&quot;:[{&quot;StockGroupName&quot;:&quot;Packaging Materials&quot;}]},{&quot;StockItemID&quot;:75,&quot;StockItemName&quot;:&quot;Ride on big wheel monster truck (Black) 1\\/12 scale&quot;,&quot;UnitPrice&quot;:345.00,&quot;sg&quot;:[{&quot;StockGroupName&quot;:&quot;Novelty Items&quot;}]}]</td></tr></table>"
                    },
                    "metadata": {}
                }
            ],
            "execution_count": 3
        },
        {
            "cell_type": "markdown",
            "source": [
                "The result is a cell containing the following string:\r\n",
                "````json\r\n",
                "[\r\n",
                "    {\r\n",
                "        \"StockItemID\": 215,\r\n",
                "        \"StockItemName\": \"Air cushion machine (Blue)\",\r\n",
                "        \"UnitPrice\": 1899,\r\n",
                "        \"sg\": [\r\n",
                "            {\r\n",
                "                \"StockGroupName\": \"Packaging Materials\"\r\n",
                "            }\r\n",
                "        ]\r\n",
                "    },\r\n",
                "    {\r\n",
                "        \"StockItemID\": 75,\r\n",
                "        \"StockItemName\": \"Ride on big wheel monster truck (Black) 1/12 scale\",\r\n",
                "        \"UnitPrice\": 345,\r\n",
                "        \"sg\": [\r\n",
                "            {\r\n",
                "                \"StockGroupName\": \"Novelty Items\"\r\n",
                "            }\r\n",
                "        ]\r\n",
                "    }\r\n",
                "]\r\n",
                "````\r\n",
                "This is quite nice, but not 100% satisfying yet, as we might want to rename the individual entries and the 'g' might be a bit annoying. So let's rewrite the survey a bit:"
            ],
            "metadata": {
                "azdata_cell_guid": "0e2e6f28-8cc6-46a9-a0d6-05b97f2337e1"
            }
        },
        {
            "cell_type": "code",
            "source": [
                "SELECT TOP 2 \r\n",
                "     si.StockItemID as 'item.itemId'\r\n",
                "    ,si.StockItemName as 'item.name'\r\n",
                "    ,si.UnitPrice as 'item.price'\r\n",
                "    ,sg.StockGroupName as 'itemgroup.name'\r\n",
                "FROM [Warehouse].[StockItems] AS si\r\n",
                "LEFT JOIN [Warehouse].[StockItemStockGroups] as sisg\r\n",
                "ON si.[StockItemID] = sisg.[StockItemID]\r\n",
                "LEFT JOIN [Warehouse].[StockGroups] sg \r\n",
                "ON sg.[StockGroupID] = sisg.[StockGroupID]\r\n",
                "ORDER BY si.[UnitPrice] DESC\r\n",
                "FOR JSON PATH;"
            ],
            "metadata": {
                "azdata_cell_guid": "e2c84925-a558-465c-8721-de86c9164fc2"
            },
            "outputs": [
                {
                    "output_type": "display_data",
                    "data": {
                        "text/html": "(2 rows affected)"
                    },
                    "metadata": {}
                },
                {
                    "output_type": "display_data",
                    "data": {
                        "text/html": "Total execution time: 00:00:00.024"
                    },
                    "metadata": {}
                },
                {
                    "output_type": "execute_result",
                    "execution_count": 4,
                    "data": {
                        "application/vnd.dataresource+json": {
                            "schema": {
                                "fields": [
                                    {
                                        "name": "JSON_F52E2B61-18A1-11d1-B105-00805F49916B"
                                    }
                                ]
                            },
                            "data": [
                                {
                                    "0": "[{\"item\":{\"itemId\":215,\"name\":\"Air cushion machine (Blue)\",\"price\":1899.00},\"itemgroup\":{\"name\":\"Packaging Materials\"}},{\"item\":{\"itemId\":75,\"name\":\"Ride on big wheel monster truck (Black) 1\\/12 scale\",\"price\":345.00},\"itemgroup\":{\"name\":\"Novelty Items\"}}]"
                                }
                            ]
                        },
                        "text/html": "<table><tr><th>JSON_F52E2B61-18A1-11d1-B105-00805F49916B</th></tr><tr><td>[{&quot;item&quot;:{&quot;itemId&quot;:215,&quot;name&quot;:&quot;Air cushion machine (Blue)&quot;,&quot;price&quot;:1899.00},&quot;itemgroup&quot;:{&quot;name&quot;:&quot;Packaging Materials&quot;}},{&quot;item&quot;:{&quot;itemId&quot;:75,&quot;name&quot;:&quot;Ride on big wheel monster truck (Black) 1\\/12 scale&quot;,&quot;price&quot;:345.00},&quot;itemgroup&quot;:{&quot;name&quot;:&quot;Novelty Items&quot;}}]</td></tr></table>"
                    },
                    "metadata": {}
                }
            ],
            "execution_count": 4
        },
        {
            "cell_type": "markdown",
            "source": [
                "In doing so, we overwrite the behaviour previously set to `AUTO` for naming the items and therefore choose `FOR JSON PATH`. The result is much more nicely formatted than the first automatic attempt:\r\n",
                "````JSON\r\n",
                "[\r\n",
                "    {\r\n",
                "        \"item\": {\r\n",
                "            \"itemId\": 215,\r\n",
                "            \"name\": \"Air cushion machine (Blue)\",\r\n",
                "            \"price\": 1899\r\n",
                "        },\r\n",
                "        \"itemgroup\": {\r\n",
                "            \"name\": \"Packaging Materials\"\r\n",
                "        }\r\n",
                "    },\r\n",
                "    {\r\n",
                "        \"item\": {\r\n",
                "            \"itemId\": 75,\r\n",
                "            \"name\": \"Ride on big wheel monster truck (Black) 1/12 scale\",\r\n",
                "            \"price\": 345\r\n",
                "        },\r\n",
                "        \"itemgroup\": {\r\n",
                "            \"name\": \"Novelty Items\"\r\n",
                "        }\r\n",
                "    }\r\n",
                "]\r\n",
                "````\r\n",
                "But now we want to rename the root of the document:"
            ],
            "metadata": {
                "azdata_cell_guid": "9dcd2ef8-bcdb-4283-9d33-b9d835d683ca"
            }
        },
        {
            "cell_type": "code",
            "source": [
                "SELECT TOP 2 \r\n",
                "     si.StockItemID as 'item.itemId'\r\n",
                "    ,si.StockItemName as 'item.name'\r\n",
                "    ,si.UnitPrice as 'item.price'\r\n",
                "    ,sg.StockGroupName as 'itemgroup.name'\r\n",
                "FROM [Warehouse].[StockItems] AS si\r\n",
                "LEFT JOIN [Warehouse].[StockItemStockGroups] as sisg\r\n",
                "ON si.[StockItemID] = sisg.[StockItemID]\r\n",
                "LEFT JOIN [Warehouse].[StockGroups] sg \r\n",
                "ON sg.[StockGroupID] = sisg.[StockGroupID]\r\n",
                "ORDER BY si.[UnitPrice] DESC\r\n",
                "FOR JSON PATH, ROOT('topItems');"
            ],
            "metadata": {
                "azdata_cell_guid": "3e662edc-5f7b-447e-8bfb-327481dd1486"
            },
            "outputs": [
                {
                    "output_type": "display_data",
                    "data": {
                        "text/html": "(2 rows affected)"
                    },
                    "metadata": {}
                },
                {
                    "output_type": "display_data",
                    "data": {
                        "text/html": "Total execution time: 00:00:00.024"
                    },
                    "metadata": {}
                },
                {
                    "output_type": "execute_result",
                    "execution_count": 5,
                    "data": {
                        "application/vnd.dataresource+json": {
                            "schema": {
                                "fields": [
                                    {
                                        "name": "JSON_F52E2B61-18A1-11d1-B105-00805F49916B"
                                    }
                                ]
                            },
                            "data": [
                                {
                                    "0": "{\"topItems\":[{\"item\":{\"itemId\":215,\"name\":\"Air cushion machine (Blue)\",\"price\":1899.00},\"itemgroup\":{\"name\":\"Packaging Materials\"}},{\"item\":{\"itemId\":75,\"name\":\"Ride on big wheel monster truck (Black) 1\\/12 scale\",\"price\":345.00},\"itemgroup\":{\"name\":\"Novelty Items\"}}]}"
                                }
                            ]
                        },
                        "text/html": "<table><tr><th>JSON_F52E2B61-18A1-11d1-B105-00805F49916B</th></tr><tr><td>{&quot;topItems&quot;:[{&quot;item&quot;:{&quot;itemId&quot;:215,&quot;name&quot;:&quot;Air cushion machine (Blue)&quot;,&quot;price&quot;:1899.00},&quot;itemgroup&quot;:{&quot;name&quot;:&quot;Packaging Materials&quot;}},{&quot;item&quot;:{&quot;itemId&quot;:75,&quot;name&quot;:&quot;Ride on big wheel monster truck (Black) 1\\/12 scale&quot;,&quot;price&quot;:345.00},&quot;itemgroup&quot;:{&quot;name&quot;:&quot;Novelty Items&quot;}}]}</td></tr></table>"
                    },
                    "metadata": {}
                }
            ],
            "execution_count": 5
        },
        {
            "cell_type": "markdown",
            "source": [
                "The result is as follows:\r\n",
                "````JSON\r\n",
                "{\r\n",
                "    \"topItems\": [\r\n",
                "        {\r\n",
                "            \"item\": {\r\n",
                "                \"itemId\": 215,\r\n",
                "                \"name\": \"Air cushion machine (Blue)\",\r\n",
                "                \"price\": 1899\r\n",
                "            },\r\n",
                "            \"itemgroup\": {\r\n",
                "                \"name\": \"Packaging Materials\"\r\n",
                "            }\r\n",
                "        },\r\n",
                "        {\r\n",
                "            \"item\": {\r\n",
                "                \"itemId\": 75,\r\n",
                "                \"name\": \"Ride on big wheel monster truck (Black) 1/12 scale\",\r\n",
                "                \"price\": 345\r\n",
                "            },\r\n",
                "            \"itemgroup\": {\r\n",
                "                \"name\": \"Novelty Items\"\r\n",
                "            }\r\n",
                "        }\r\n",
                "    ]\r\n",
                "}\r\n",
                "````\r\n",
                "That's how it works with the web developer... \r\n",
                "And if you're more old-fashioned and still need XML output, simply replace the 'JSON' with an 'XML' and you can continue to indulge in tag madness.\r\n",
                "\r\n",
                "### References\r\n",
                "- [Official Microsoft documentation](https://docs.microsoft.com/de-de/sql/t-sql/queries/from-transact-sql?view=sql-server-2017)"
            ],
            "metadata": {
                "azdata_cell_guid": "08bb7fd7-17e2-44d2-be8b-7586f95bbd7e"
            }
        }
    ]
}