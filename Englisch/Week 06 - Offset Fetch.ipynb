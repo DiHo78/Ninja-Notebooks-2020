{
    "metadata": {
        "kernelspec": {
            "name": "SQL",
            "display_name": "SQL",
            "language": "sql"
        },
        "language_info": {
            "name": "sql",
            "version": ""
        }
    },
    "nbformat_minor": 2,
    "nbformat": 4,
    "cells": [
        {
            "cell_type": "markdown",
            "source": [
                "# Week 6: OFFSET FETCH\r\n",
                "## What is OFFSET FETCH? \r\n",
                "Almost everyone limits their query results by adding the `TOP` keyword. But what if my application doesn't want to query the first 1000 records, but always tens of blocks, for example to display them sorted in pages? Since SQL Server 2012 there is `OFFSET FETCH` for this purpose.\r\n",
                "\r\n",
                "## How can you use OFFSET FETCH?\r\n",
                "To understand how to use `OFFSET FETCH`, we query the Wide World Importers database for the most frequently sold products:"
            ],
            "metadata": {
                "azdata_cell_guid": "4231b86b-91e6-4b54-aea6-a02e0886f076"
            }
        },
        {
            "cell_type": "code",
            "source": [
                "SELECT \r\n",
                "     COUNT(*) as NumberOfSales\r\n",
                "    ,si.[StockItemID] as ItemId\r\n",
                "    ,si.[StockItemName] as Item\r\n",
                "FROM [Sales].[OrderLines] AS ol\r\n",
                "LEFT JOIN [Warehouse].[Stockitems] as si\r\n",
                "ON ol.[StockItemID] = si.StockItemID\r\n",
                "GROUP BY si.StockItemID, si.StockItemName\r\n",
                "ORDER BY 1 DESC"
            ],
            "metadata": {
                "azdata_cell_guid": "cd1f5aa4-f370-4d79-bff2-01cc68491d3c"
            },
            "outputs": [],
            "execution_count": 0
        },
        {
            "cell_type": "markdown",
            "source": [
                "This query returns 227 lines, too many if you want to display them clearly in an application. If we only want to see the 10 most sold products, we would add a `TOP(10)`:"
            ],
            "metadata": {
                "azdata_cell_guid": "8ae2362a-20d0-455b-b167-121c4b36b123"
            }
        },
        {
            "cell_type": "code",
            "source": [
                "SELECT TOP(10)\r\n",
                "     COUNT(*) as NumberOfSales\r\n",
                "    ,si.[StockItemID] as ItemId\r\n",
                "    ,si.[StockItemName] as Item\r\n",
                "FROM [Sales].[OrderLines] AS ol\r\n",
                "LEFT JOIN [Warehouse].[Stockitems] as si\r\n",
                "ON ol.[StockItemID] = si.StockItemID\r\n",
                "GROUP BY si.StockItemID, si.StockItemName\r\n",
                "ORDER BY 1 DESC"
            ],
            "metadata": {
                "azdata_cell_guid": "93a81df6-3755-40e8-b0a7-1c5d01317f48"
            },
            "outputs": [],
            "execution_count": 0
        },
        {
            "cell_type": "markdown",
            "source": [
                "But if we were to browse through the application, we would have to skip the first 10 products and display the second 10 products. We can use `OFFSET` for this, but since the use of `TOP` is then no longer allowed, we have to limit the number of lines via `FETCH`:"
            ],
            "metadata": {
                "azdata_cell_guid": "bb658c6f-5870-4367-94d5-330d64d88c13"
            }
        },
        {
            "cell_type": "code",
            "source": [
                "SELECT \r\n",
                "     COUNT(*) as NumberOfSales\r\n",
                "    ,si.[StockItemID] as ItemId\r\n",
                "    ,si.[StockItemName] as Item\r\n",
                "FROM [Sales].[OrderLines] AS ol\r\n",
                "LEFT JOIN [Warehouse].[Stockitems] as si\r\n",
                "ON ol.[StockItemID] = si.StockItemID\r\n",
                "GROUP BY si.StockItemID, si.StockItemName\r\n",
                "ORDER BY 1 DESC\r\n",
                "OFFSET 10 ROWS FETCH NEXT 10 ROWS ONLY;"
            ],
            "metadata": {
                "azdata_cell_guid": "0fbc687e-4224-4179-894a-88c7065505aa"
            },
            "outputs": [],
            "execution_count": 0
        },
        {
            "cell_type": "markdown",
            "source": [
                "That's quite nice now. We could now put this into a stored procedure, parameterize the offset and enjoy it for life, but we wouldn't be ninjas if we didn't want to make it better and use the procedure if the developers decide to show 15 products or, worse, 10 products in the mobile app and 15 in the desktop application. Therefore we parameterize our query:"
            ],
            "metadata": {
                "azdata_cell_guid": "4fa3f6ba-9f67-4dc8-a76d-cc7c513adb73"
            }
        },
        {
            "cell_type": "code",
            "source": [
                "DECLARE @pagenumber int = 3, @pagesize int = 15\r\n",
                "SELECT \r\n",
                "     COUNT(*) as NumberOfSales\r\n",
                "    ,si.[StockItemID] as ItemId\r\n",
                "    ,si.[StockItemName] as Item\r\n",
                "FROM [Sales].[OrderLines] AS ol\r\n",
                "LEFT JOIN [Warehouse].[Stockitems] as si\r\n",
                "ON ol.[StockItemID] = si.StockItemID\r\n",
                "GROUP BY si.StockItemID, si.StockItemName\r\n",
                "ORDER BY 1 DESC\r\n",
                "OFFSET (@pagenumber-1)*@pagesize ROWS FETCH NEXT @pagesize ROWS ONLY;"
            ],
            "metadata": {
                "azdata_cell_guid": "2f7cac30-d17d-4a39-8a75-82a40aa1f45c"
            },
            "outputs": [],
            "execution_count": 0
        },
        {
            "cell_type": "markdown",
            "source": [
                "For example, we could get the page size value from another table in a subquery. The front end developers will be happy and you won't have to worry about changing the page size anymore, but can continue working on your ninja skills.\r\n",
                "\r\n",
                "### References\r\n",
                "- [Official Microsoft Documentation](https://docs.microsoft.com/de-de/sql/t-sql/queries/select-order-by-clause-transact-sql?view=sql-server-2017#Offset)"
            ],
            "metadata": {
                "azdata_cell_guid": "8593a7de-be74-4e4b-8602-0af30f80ceab"
            }
        }
    ]
}