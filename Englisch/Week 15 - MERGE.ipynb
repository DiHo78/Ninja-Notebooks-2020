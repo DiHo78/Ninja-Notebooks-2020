{
    "metadata": {
        "kernelspec": {
            "name": "SQL",
            "display_name": "SQL",
            "language": "sql"
        },
        "language_info": {
            "name": "sql",
            "version": ""
        }
    },
    "nbformat_minor": 2,
    "nbformat": 4,
    "cells": [
        {
            "cell_type": "markdown",
            "source": [
                "# Week 15: MERGE\r\n",
                "\r\n",
                "## What's MERGE? \r\n",
                "You could almost write a book about merge statements. But as real ninjas, we want to use the katana to split the subject cleanly. A MERGE statement performs insert, delete or update operations in a table within a statement. It can be used, for example, to synchronize tables, i.e. to insert the contents of a table into a second table if it does not already exist, to update if it already exists and to delete from the second table if it does not exist in the first table. \r\n",
                "\r\n",
                "What you should keep in mind with the `MERGE` statement is that it uses a relatively complex syntax, and that it is not easy for others to tune such statements if you have a choice, so separate `INSERT`, `UPDATE` and `DELETE` statements are often the better choice.\r\n",
                "\r\n",
                "## How can you work with MERGE?\r\n",
                "Actually, the use of `MERGE` statements is not that complicated, but we don't know of any ninja who can reproduce them from the mind. Let's start by creating data from which we want to update the database. We do this by creating a copy of the `StockItem` table: "
            ],
            "metadata": {
                "azdata_cell_guid": "ec872a88-d06a-4e8d-a6af-73aa7e427e56"
            }
        },
        {
            "cell_type": "code",
            "source": [
                "SELECT [StockItemID]\r\n",
                "      ,[StockItemName]\r\n",
                "      ,[SupplierID]\r\n",
                "      ,[ColorID]\r\n",
                "      ,[UnitPackageID]\r\n",
                "      ,[OuterPackageID]\r\n",
                "      ,[Brand]\r\n",
                "      ,[Size]\r\n",
                "      ,[LeadTimeDays]\r\n",
                "      ,[QuantityPerOuter]\r\n",
                "      ,[IsChillerStock]\r\n",
                "      ,[Barcode]\r\n",
                "      ,[TaxRate]\r\n",
                "      ,[UnitPrice] = [UnitPrice]+2.0\r\n",
                "      ,[RecommendedRetailPrice] = [RecommendedRetailPrice]+2.0\r\n",
                "      ,[TypicalWeightPerUnit]\r\n",
                "      ,[MarketingComments]\r\n",
                "      ,[InternalComments]\r\n",
                "      ,[Photo]\r\n",
                "      ,[CustomFields]\r\n",
                "      ,[LastEditedBy]\r\n",
                "  INTO [Warehouse].[StockItemUpdate] \r\n",
                "  FROM [Warehouse].[StockItems]\r\n",
                "  WHERE StockItemID > 5"
            ],
            "metadata": {
                "azdata_cell_guid": "0aa098b1-2a6b-4230-974a-da7e82ab52ae"
            },
            "outputs": [],
            "execution_count": 0
        },
        {
            "cell_type": "markdown",
            "source": [
                "We have adjusted the prices and filtered out the items with the lowest `StockItemIDs`. So now we have a table with adjusted item prices which does not contain all items. Since the `StockItems` table contains foreign key relationships, which would make life difficult in this case, we make a copy of the table again: "
            ],
            "metadata": {
                "azdata_cell_guid": "036d2772-3444-4471-b72b-7b5445ee1e19"
            }
        },
        {
            "cell_type": "code",
            "source": [
                "SELECT [StockItemID]\r\n",
                "      ,[StockItemName]\r\n",
                "      ,[SupplierID]\r\n",
                "      ,[ColorID]\r\n",
                "      ,[UnitPackageID]\r\n",
                "      ,[OuterPackageID]\r\n",
                "      ,[Brand]\r\n",
                "      ,[Size]\r\n",
                "      ,[LeadTimeDays]\r\n",
                "      ,[QuantityPerOuter]\r\n",
                "      ,[IsChillerStock]\r\n",
                "      ,[Barcode]\r\n",
                "      ,[TaxRate]\r\n",
                "      ,[UnitPrice]\r\n",
                "      ,[RecommendedRetailPrice]\r\n",
                "      ,[TypicalWeightPerUnit]\r\n",
                "      ,[MarketingComments]\r\n",
                "      ,[InternalComments]\r\n",
                "      ,[Photo]\r\n",
                "      ,[CustomFields]\r\n",
                "      ,[LastEditedBy]\r\n",
                "  INTO [Warehouse].[StockItemCopy] \r\n",
                "  FROM [Warehouse].[StockItems]"
            ],
            "metadata": {
                "azdata_cell_guid": "8ec75e44-0d89-4e81-98ae-9ab83b98cc45"
            },
            "outputs": [],
            "execution_count": 0
        },
        {
            "cell_type": "markdown",
            "source": [
                "Now we want to synchronize the update table with the copy of the `StockItem` table. For this we use the `MERGE` statement. Basically it is structured as follows: It starts with a `MERGE` command, followed by the definition of the target and source and an `ON` condition how to find the matching rows in source and target. This is followed by one or more blocks that define what happens if the source and destination `MATCH` or not (although these blocks may also contain additional conditions). Concretely we proceed as follows: if we find matching rows, we update the prices (we can update all other columns here, of course), if the row is present in the source (i.e. the update table) but not in the target, then we insert it, if it is present in the target but not in the source, then we delete it from the target. \r\n",
                "The update table contained 222 rows out of 227 that were in the `StockItems` table (we finally filtered for the `StockItemID`. Now let's execute the following `MERGE` statement: "
            ],
            "metadata": {
                "azdata_cell_guid": "3c077d3b-ba74-47b8-acbd-a4b24a01be4a"
            }
        },
        {
            "cell_type": "code",
            "source": [
                "MERGE [Warehouse].[StockitemCopy] AS tgt  \r\n",
                "    USING (SELECT [StockItemID]\r\n",
                "      ,[StockItemName]\r\n",
                "      ,[SupplierID]\r\n",
                "      ,[ColorID]\r\n",
                "      ,[UnitPackageID]\r\n",
                "      ,[OuterPackageID]\r\n",
                "      ,[Brand]\r\n",
                "      ,[Size]\r\n",
                "      ,[LeadTimeDays]\r\n",
                "      ,[QuantityPerOuter]\r\n",
                "      ,[IsChillerStock]\r\n",
                "      ,[Barcode]\r\n",
                "      ,[TaxRate]\r\n",
                "      ,[UnitPrice]\r\n",
                "      ,[RecommendedRetailPrice]\r\n",
                "      ,[TypicalWeightPerUnit]\r\n",
                "      ,[MarketingComments]\r\n",
                "      ,[InternalComments]\r\n",
                "      ,[Photo]\r\n",
                "      ,[CustomFields]\r\n",
                "      ,[LastEditedBy] from [Warehouse].[StockItemUpdate]) AS src\r\n",
                "    ON (tgt.[StockItemID] = src.[StockItemID])  \r\n",
                "    WHEN MATCHED THEN\r\n",
                "        UPDATE SET \r\n",
                "             [UnitPrice] = src.[UnitPrice]\r\n",
                "            ,[RecommendedRetailPRice] = src.[RecommendedRetailPRice]\r\n",
                "    WHEN NOT MATCHED BY TARGET THEN \r\n",
                "        INSERT ([StockItemID]\r\n",
                "      ,[StockItemName]\r\n",
                "      ,[SupplierID]\r\n",
                "      ,[ColorID]\r\n",
                "      ,[UnitPackageID]\r\n",
                "      ,[OuterPackageID]\r\n",
                "      ,[Brand]\r\n",
                "      ,[Size]\r\n",
                "      ,[LeadTimeDays]\r\n",
                "      ,[QuantityPerOuter]\r\n",
                "      ,[IsChillerStock]\r\n",
                "      ,[Barcode]\r\n",
                "      ,[TaxRate]\r\n",
                "      ,[UnitPrice]\r\n",
                "      ,[RecommendedRetailPrice]\r\n",
                "      ,[TypicalWeightPerUnit]\r\n",
                "      ,[MarketingComments]\r\n",
                "      ,[InternalComments]\r\n",
                "      ,[Photo]\r\n",
                "      ,[CustomFields]\r\n",
                "      ,[LastEditedBy])\r\n",
                "      VALUES \r\n",
                "      (src.[StockItemID]\r\n",
                "      ,src.[StockItemName]\r\n",
                "      ,src.[SupplierID]\r\n",
                "      ,src.[ColorID]\r\n",
                "      ,src.[UnitPackageID]\r\n",
                "      ,src.[OuterPackageID]\r\n",
                "      ,src.[Brand]\r\n",
                "      ,src.[Size]\r\n",
                "      ,src.[LeadTimeDays]\r\n",
                "      ,src.[QuantityPerOuter]\r\n",
                "      ,src.[IsChillerStock]\r\n",
                "      ,src.[Barcode]\r\n",
                "      ,src.[TaxRate]\r\n",
                "      ,src.[UnitPrice]\r\n",
                "      ,src.[RecommendedRetailPrice]\r\n",
                "      ,src.[TypicalWeightPerUnit]\r\n",
                "      ,src.[MarketingComments]\r\n",
                "      ,src.[InternalComments]\r\n",
                "      ,src.[Photo]\r\n",
                "      ,src.[CustomFields]\r\n",
                "      ,src.[LastEditedBy]) \r\n",
                "    WHEN NOT MATCHED BY SOURCE THEN\r\n",
                "        DELETE;"
            ],
            "metadata": {
                "azdata_cell_guid": "8f3a0a38-1347-4be7-92ad-9f200a511ac1"
            },
            "outputs": [],
            "execution_count": 0
        },
        {
            "cell_type": "markdown",
            "source": [
                "If we now check the copy of the `StockItems` table, it contains exactly 222 rows, where the prices are all 2 Euro higher than in the original `StockItems` table.  \n",
                "\n",
                "## References:\n",
                "- [Official documentation from Microsoft](https://docs.microsoft.com/de-de/sql/t-sql/statements/merge-transact-sql?view=sql-server-ver15)"
            ],
            "metadata": {
                "azdata_cell_guid": "bf355682-390e-4b30-a5e9-51d1a3aaeb33"
            }
        }
    ]
}