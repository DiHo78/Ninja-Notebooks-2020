{
    "metadata": {
        "kernelspec": {
            "name": "SQL",
            "display_name": "SQL",
            "language": "sql"
        },
        "language_info": {
            "name": "sql",
            "version": ""
        }
    },
    "nbformat_minor": 2,
    "nbformat": 4,
    "cells": [
        {
            "cell_type": "markdown",
            "source": [
                "# Week 19: Batches\r\n",
                "## What are batches? \r\n",
                "Sometimes you may need to do operations on very large tables. In these cases, due to the transactional behavior of your database, there may be no space left in the TempDB. This is because relational databases follow the ACID principles that operations should be atomic, so for example a `DELETE' statement will be completely executed or rolled back, intermediate states where only some records have been deleted may not occur.  \r\n",
                "## How can you work with batches?\r\n",
                "To work with batches, you need `WHILE` statements, which we introduced last week. The basic idea is: delete the next N records until there are no more left. \r\n",
                "Let's first look for the largest table in our WideWorldImporters database for this question. To find it, we query the metadata of the database: \r\n",
                ""
            ],
            "metadata": {
                "azdata_cell_guid": "6cc777d0-689b-4257-879c-07fbabad1b1b"
            }
        },
        {
            "cell_type": "code",
            "source": [
                "SELECT \r\n",
                "     SCHEMA_NAME(A.schema_id) + '.' + A.Name AS [TableName]\r\n",
                "    ,B.rows as [RowCount]\r\n",
                "FROM sys.objects A\r\n",
                "INNER JOIN sys.partitions B \r\n",
                "ON A.object_id = B.object_id\r\n",
                "WHERE A.type = 'U'\r\n",
                "ORDER BY B.[rows] DESC"
            ],
            "metadata": {
                "azdata_cell_guid": "f3a24102-435f-4407-aa10-c0a6566d645a"
            },
            "outputs": [],
            "execution_count": 0
        },
        {
            "cell_type": "markdown",
            "source": [
                "The largest table with over 3.5 million records is the Warehouse.ColdRoomTemperatures_Archive table. If we take a look at this table, we can see that it contains the records from the period 20.12.2015 to 31.05.2016: "
            ],
            "metadata": {
                "azdata_cell_guid": "8cdb0099-4405-4d17-8813-d929ea5012dc"
            }
        },
        {
            "cell_type": "code",
            "source": [
                "SELECT \r\n",
                " MIN(RecordedWhen)\r\n",
                ",MAX(RecordedWhen) \r\n",
                "FROM Warehouse.ColdRoomTemperatures_Archive "
            ],
            "metadata": {
                "azdata_cell_guid": "307a5c99-81b1-45ca-a0f0-d35cd03fb389"
            },
            "outputs": [],
            "execution_count": 0
        },
        {
            "cell_type": "markdown",
            "source": [
                "From this we now want to delete all data records older than 2017-04-01. When we count them, we find that there are 2.2 million records:"
            ],
            "metadata": {
                "azdata_cell_guid": "953b70b2-15a6-4c56-9b92-ca65f7bedb5c"
            }
        },
        {
            "cell_type": "code",
            "source": [
                "SELECT \r\n",
                "    COUNT(*)\r\n",
                "FROM Warehouse.ColdRoomTemperatures_Archive \r\n",
                "WHERE RecordedWhen < '2016-04-01'"
            ],
            "metadata": {
                "azdata_cell_guid": "9533bae4-15e0-44ab-9917-333f95f9841d"
            },
            "outputs": [],
            "execution_count": 0
        },
        {
            "cell_type": "markdown",
            "source": [
                "However, since the table is a temporal table (system versioned table), we cannot delete directly from it, so we copy it into a temporary object where we can delete at will: "
            ],
            "metadata": {
                "azdata_cell_guid": "65da05c7-6394-4b4c-98d6-6518368adf72"
            }
        },
        {
            "cell_type": "code",
            "source": [
                "DROP TABLE IF EXISTS #WarehouseDeleteTest\r\n",
                "SELECT * INTO #WarehouseDeleteTest FROM Warehouse.ColdRoomTemperatures_Archive"
            ],
            "metadata": {
                "azdata_cell_guid": "8c0443f1-2dbd-49c8-a256-c3c016edc3bd"
            },
            "outputs": [],
            "execution_count": 0
        },
        {
            "cell_type": "markdown",
            "source": [
                "In order to delete them now for the TempDB and the transaction log in a resource-saving way, we can now apply the pattern described above. To do this, we first create a variable in which we store how many records we have deleted in the last step. Then we always delete 100,000 records from the table until this number is zero, i.e. there are no records left to delete. We do this in one transaction at a time to avoid overloading the transaction log: "
            ],
            "metadata": {
                "azdata_cell_guid": "c08b4248-a933-47d8-a6fa-4e965675ddef"
            }
        },
        {
            "cell_type": "code",
            "source": [
                "DECLARE @deletedRows int = 1\r\n",
                "\r\n",
                "WHILE @deletedRows > 0\r\n",
                "BEGIN\r\n",
                "    BEGIN TRANSACTION\r\n",
                "    DELETE TOP(100000) \r\n",
                "        #WarehouseDeleteTest\r\n",
                "    WHERE RecordedWhen < '2016-04-01'\r\n",
                "    \r\n",
                "    SET @deletedRows = @@ROWCOUNT\r\n",
                "    COMMIT TRANSACTION\r\n",
                "END"
            ],
            "metadata": {
                "azdata_cell_guid": "fb672f15-8007-4dcf-9859-b3c06eb60b7e"
            },
            "outputs": [],
            "execution_count": 0
        },
        {
            "cell_type": "markdown",
            "source": [
                "We see several rows in the output telling us that 100,000 records have been deleted (`100000 rows affected`). Then at the end a row where less than 100,000 records are affected (`96324 rows affected`) and at the very end a row where there are no records left to delete (`0 rows affected`). \r\n",
                "If we now count, we have only 1.3 million records left in our temporary table: "
            ],
            "metadata": {
                "azdata_cell_guid": "a9bc2d41-35b0-4ad1-aa90-bdbd36e4aa52"
            }
        },
        {
            "cell_type": "code",
            "source": [
                "select count(*) \r\n",
                "FROM #WarehouseDeleteTest"
            ],
            "metadata": {
                "azdata_cell_guid": "12784327-e7d0-4c4c-9773-b3b75bab4214"
            },
            "outputs": [],
            "execution_count": 0
        },
        {
            "cell_type": "markdown",
            "source": [
                "And finally, if we check what the maximum and minimum dates of these records are, we find that, as expected, all records were deleted before April 1, 2016: "
            ],
            "metadata": {
                "azdata_cell_guid": "71f288de-1953-4cfd-b760-4a709c5dc59b"
            }
        },
        {
            "cell_type": "code",
            "source": [
                "SELECT \r\n",
                " MIN(RecordedWhen)\r\n",
                ",MAX(RecordedWhen)\r\n",
                "FROM #WarehouseDeleteTest"
            ],
            "metadata": {
                "azdata_cell_guid": "d1ff5678-fcb9-4edd-983a-8998a3c7d478"
            },
            "outputs": [],
            "execution_count": 0
        },
        {
            "cell_type": "markdown",
            "source": [
                "This procedure is always useful if you want to process large amounts of data, but transactional security is not so important to you that this must be done in an atomic step. For example, it can be used in data warehousing if you want to merge from a staging table into a DWH table (we described `MERGE` statements in week 15) and the source table contains so many records that the `MERGE` statement bursts all hardware resources. The important thing is that you are aware that you are disabling ACID principles here and that you are taking care of appropriate error handling and restartability. \n",
                "## References\n",
                "- [Blog post about Batched Deletes](https://sqlperformance.com/2013/03/io-subsystem/chunk-deletes)"
            ],
            "metadata": {
                "azdata_cell_guid": "b7ff4c07-c6d5-420d-944f-2970ab4f1317"
            }
        }
    ]
}