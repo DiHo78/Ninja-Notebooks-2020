{
    "metadata": {
        "kernelspec": {
            "name": "SQL",
            "display_name": "SQL",
            "language": "sql"
        },
        "language_info": {
            "name": "sql",
            "version": ""
        }
    },
    "nbformat_minor": 2,
    "nbformat": 4,
    "cells": [
        {
            "cell_type": "markdown",
            "source": [
                "# Week 11: ROW_NUMBER\r\n",
                "\r\n",
                "## What does ROW_NUMBER do?\r\n",
                "The `ROW_NUMBER` function is a window function, i.e. a function that sorts the data into so-called \"windows\" or \"partitions\". You define the sorting and the partitions by using the keywords `ORDER BY` and `PARTITION BY` after the function call. The `ROW_NUMBER` function then numbers all rows in the result set, starting at 1 in ascending order. Each partition then starts at 1 again. \r\n",
                "\r\n",
                "## How can you work with ROW_NUMBER?\r\n",
                "You can use the `ROW_NUMBER` function in the column list of your query if you want to see the assigned numbers:"
            ],
            "metadata": {
                "azdata_cell_guid": "eca04df7-a5ce-46b1-9083-d3eb60034270"
            }
        },
        {
            "cell_type": "code",
            "source": [
                "SELECT\r\n",
                "     [CountryID]\r\n",
                "    ,ROW_NUMBER() OVER (ORDER BY [CountryID]) as [RowNumber]\r\n",
                "    ,[CountryName]\r\n",
                "    ,[FormalName]\r\n",
                "    ,[IsoAlpha3Code]\r\n",
                "FROM [WideWorldImporters].[Application].[Countries]"
            ],
            "metadata": {
                "azdata_cell_guid": "3d1bc3a0-94a7-4f4f-9843-24055cd48711"
            },
            "outputs": [],
            "execution_count": 0
        },
        {
            "cell_type": "markdown",
            "source": [
                "You will now see a column with the heading `RowNumber` and a consecutive number in the content. Great. Well. Let's see if we can do anything with it. If you look at the result, you can see that already early in the row of Albania the `CountryID` differs from the `RowNumber`. Now you can of course use the `ROW_NUMBER` function to find the records (well, the record) where both values match:"
            ],
            "metadata": {
                "azdata_cell_guid": "39964731-fa73-42aa-98f0-b01b5a35512a"
            }
        },
        {
            "cell_type": "code",
            "source": [
                "; WITH cte_rn as (\r\n",
                "    SELECT\r\n",
                "         [CountryID]\r\n",
                "        ,ROW_NUMBER() OVER (ORDER BY [CountryID]) as [RowNumber]\r\n",
                "        ,[CountryName]\r\n",
                "        ,[FormalName]\r\n",
                "        ,[IsoAlpha3Code]\r\n",
                "    FROM [WideWorldImporters].[Application].[Countries]\r\n",
                ")\r\n",
                "SELECT \r\n",
                "     [CountryId]\r\n",
                "    ,[CountryName]\r\n",
                "    ,[FormalName]\r\n",
                "    ,[IsoAlpha3Code]\r\n",
                "FROM cte_rn \r\n",
                "WHERE [CountryID] = [RowNumber]"
            ],
            "metadata": {
                "azdata_cell_guid": "b0792c55-8560-4947-a028-c93b0803fe00"
            },
            "outputs": [],
            "execution_count": 0
        },
        {
            "cell_type": "markdown",
            "source": [
                "You can see that at the end there is only one line left, the one for Afghanistan. For all other lines, the number of lines differs from the ID. If you would want consecutive IDs, you could now update the table with the CTE and set the `CountryID` accordingly (provided that no `IDENTITY` column has been defined here, otherwise you have to work with `IDENTITY INSERT`).\r\n",
                "\r\n",
                "This is all quite nice, but what can you really do with the `ROW_NUMBER` function? Probably the most common use of the `ROW_NUMBER` function in combination with CTE's is to filter duplicate rows from a result. One (admittedly quite stupid) query to see this is the following, from which we now want to filter the duplicates for the countries: "
            ],
            "metadata": {
                "azdata_cell_guid": "02c1740b-bb36-4ff9-81dd-448d457f41d7"
            }
        },
        {
            "cell_type": "code",
            "source": [
                "SELECT \r\n",
                "     c.[CountryId]\r\n",
                "    ,c.[CountryName]\r\n",
                "    ,c.[FormalName]\r\n",
                "    ,s.[StateProvinceID]\r\n",
                "FROM [Application].[Countries] as c\r\n",
                "LEFT JOIN [Application].[StateProvinces] as s \r\n",
                "ON c.[CountryID] = s.[CountryID]\r\n",
                "ORDER BY c.CountryID"
            ],
            "metadata": {
                "azdata_cell_guid": "bd1aead3-b302-40f6-a8aa-ec47020e2cbb"
            },
            "outputs": [],
            "execution_count": 0
        },
        {
            "cell_type": "markdown",
            "source": [
                "In the result set, you can see here that the USA appears several times (because several states are defined in the StateProvinces table). So now let's add a `ROW_NUMBER` that numbers the states within a country consecutively: "
            ],
            "metadata": {
                "azdata_cell_guid": "c3dd4a60-4659-494c-a96f-0facc48d907a"
            }
        },
        {
            "cell_type": "code",
            "source": [
                "SELECT \r\n",
                "     c.[CountryId]\r\n",
                "    ,c.[CountryName]\r\n",
                "    ,c.[FormalName]\r\n",
                "    ,s.[StateProvinceID]\r\n",
                "    ,ROW_NUMBER() OVER (PARTITION BY c.[CountryID] ORDER BY s.[StateProvinceID]) as [RowNumber]\r\n",
                "FROM [Application].[Countries] as c\r\n",
                "LEFT JOIN [Application].[StateProvinces] as s \r\n",
                "ON c.[CountryID] = s.[CountryID]"
            ],
            "metadata": {
                "azdata_cell_guid": "efb3385a-f82e-40b6-ba14-896fe83fa7c1"
            },
            "outputs": [],
            "execution_count": 0
        },
        {
            "cell_type": "markdown",
            "source": [
                "You can see in the result set that for all countries that do not know any states, only a `NULL` value appears as a state (so the `LEFT JOIN` had no hit), but for the USA 53 lines were entered (what a coincidence). Note that we have specified a `PARTITION BY` (unlike in the previous examples). This means that if the `CountryID` changes in the result set, our 'ROW_NUMBER' function will start counting from 1 again. \r\n",
                "\r\n",
                "If you now want to filter a row from this, you can take advantage of this behavior by keeping only the entries with a `ROW_NUMBER` of 1: "
            ],
            "metadata": {
                "azdata_cell_guid": "3ae9bcb9-1f72-4801-a30d-ac75af6cef12"
            }
        },
        {
            "cell_type": "code",
            "source": [
                "; with cte_rn as ( \r\n",
                "    SELECT \r\n",
                "         c.[CountryId]\r\n",
                "        ,c.[CountryName]\r\n",
                "        ,c.[FormalName]\r\n",
                "        ,s.[StateProvinceID]\r\n",
                "        ,ROW_NUMBER() OVER (PARTITION BY c.[CountryID] ORDER BY s.[StateProvinceID]) as [RowNumber]\r\n",
                "    FROM [Application].[Countries] as c\r\n",
                "    LEFT JOIN [Application].[StateProvinces] as s \r\n",
                "    ON c.[CountryID] = s.[CountryID]\r\n",
                ")\r\n",
                "select \r\n",
                "     [CountryID]\r\n",
                "    ,[CountryName]\r\n",
                "    ,[FormalName]\r\n",
                "    ,[StateProvinceID]\r\n",
                "    ,[RowNumber]\r\n",
                "FROM cte_rn\r\n",
                "WHERE [RowNumber] = 1"
            ],
            "metadata": {
                "azdata_cell_guid": "24d615cc-2913-4d19-a90b-39f8bc1016dd"
            },
            "outputs": [],
            "execution_count": 0
        },
        {
            "cell_type": "markdown",
            "source": [
                "Your found set now again contains only one row for the USA. \r\n",
                "With the help of this pattern you can now filter duplicates from tables in all possible and impossible situations. Note, however, that it would be better to write your queries in such a way that no unwanted duplicates occur. \r\n",
                "### References\r\n",
                "- [Official Documentation from Microsoft](https://docs.microsoft.com/de-de/sql/t-sql/functions/row-number-transact-sql?view=sql-server-2017)\r\n",
                ""
            ],
            "metadata": {
                "azdata_cell_guid": "2f2eed98-ff57-4a6e-8613-133a2bdb7ca2"
            }
        }
    ]
}