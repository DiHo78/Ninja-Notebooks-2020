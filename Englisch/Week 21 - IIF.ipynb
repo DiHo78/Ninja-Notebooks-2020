{
    "metadata": {
        "kernelspec": {
            "name": "SQL",
            "display_name": "SQL",
            "language": "sql"
        },
        "language_info": {
            "name": "sql",
            "version": ""
        }
    },
    "nbformat_minor": 2,
    "nbformat": 4,
    "cells": [
        {
            "cell_type": "markdown",
            "source": [
                "# Week 21: IIF\r\n",
                "## What is IIF? \r\n",
                "The function 'IIF' is a logical function that is passed three arguments. It evaluates the first argument to a boolean expression and returns the second argument if the first argument is evaluated to 'TRUE', otherwise it returns the third. This is similar to the ternary notation in programming languages such as C#, which evaluates with question marks and colons. The C# expression `string result = (i < 3? \"less than\": \"more than\")` would then be equivalent to the TSQL extract `@Result = IIF(@i<3, \"less than\", \"greater than\")`.\r\n",
                "## What can you use IIF for?\r\n",
                "First of all, the `IIF` function is a shorter notation for `CASE`-`WHEN`-query constructs. Let's take the Wide World Importers database as an example and query the `StockItemTransaction` table in it. Let's take a closer look at the `TransactionTypeID`. We notice that the table contains only three transaction types: "
            ],
            "metadata": {
                "azdata_cell_guid": "7de0f522-4981-4422-99c7-dac738af40b5"
            }
        },
        {
            "cell_type": "code",
            "source": [
                "SELECT DISTINCT TransactionTypeID \r\n",
                "FROM Warehouse.StockItemTransactions"
            ],
            "metadata": {
                "azdata_cell_guid": "c7bd5c74-8769-44ca-a675-f6550be5520d"
            },
            "outputs": [],
            "execution_count": 0
        },
        {
            "cell_type": "markdown",
            "source": [
                "If we now wanted to resolve the transaction type, we could of course execute a join to the corresponding table to resolve the name: "
            ],
            "metadata": {
                "azdata_cell_guid": "4da2a67b-9e4b-404e-bbdc-27ddb8e725a4"
            }
        },
        {
            "cell_type": "code",
            "source": [
                "SELECT\r\n",
                "     StockItemTransactionID\r\n",
                "    ,StockItemID\r\n",
                "    ,TransactionTypeName\r\n",
                "    ,CustomerID\r\n",
                "    ,InvoiceID\r\n",
                "    ,SupplierID\r\n",
                "    ,PurchaseOrderID\r\n",
                "FROM Warehouse.StockItemTransactions sit\r\n",
                "LEFT JOIN Application.TransactionTypes tt\r\n",
                "on sit.TransactionTypeID = tt.TransactionTypeID"
            ],
            "metadata": {
                "azdata_cell_guid": "55ef2c29-76dc-435e-bf9f-e8fa42b2157b"
            },
            "outputs": [],
            "execution_count": 0
        },
        {
            "cell_type": "markdown",
            "source": [
                "If we don't want to join for only three values in a column, we could use a `CASE` statement instead:"
            ],
            "metadata": {
                "azdata_cell_guid": "a48cd81c-7373-4ea2-841c-a983103949a9"
            }
        },
        {
            "cell_type": "code",
            "source": [
                "SELECT \r\n",
                "     StockItemTransactionID\r\n",
                "    ,StockItemID\r\n",
                "    ,TransactionTypeName = \r\n",
                "        CASE TransactionTypeID \r\n",
                "        WHEN 10 THEN 'Stock Issue' \r\n",
                "        WHEN 11 THEN 'Stock Receipt' \r\n",
                "        WHEN 12 THEN 'Stock Adjustment at Stocktake' \r\n",
                "        ELSE 'Unknown' END\r\n",
                "    ,CustomerID\r\n",
                "    ,InvoiceID\r\n",
                "    ,SupplierID\r\n",
                "    ,PurchaseOrderID\r\n",
                "FROM Warehouse.StockItemTransactions "
            ],
            "metadata": {
                "azdata_cell_guid": "8ee94263-d3df-452b-bcbb-54ab85c0c5f1"
            },
            "outputs": [],
            "execution_count": 0
        },
        {
            "cell_type": "markdown",
            "source": [
                "That in turn we could paraphrase to:"
            ],
            "metadata": {
                "azdata_cell_guid": "b60139b3-d723-423d-88ae-0db0acbe9a67"
            }
        },
        {
            "cell_type": "code",
            "source": [
                "SELECT \r\n",
                "     StockItemTransactionID\r\n",
                "    ,StockItemID\r\n",
                "    ,TransactionTypeName = IIF(TransactionTypeID = 10, 'Stock Issue',\r\n",
                "        IIF(TransactionTypeID = 11, 'Stock Receipt',\r\n",
                "            IIF(TransactionTypeID = 12, 'Stock Adjustment at Stocktake', \r\n",
                "                'Unknown')))\r\n",
                "    ,CustomerID\r\n",
                "    ,InvoiceID\r\n",
                "    ,SupplierID\r\n",
                "    ,PurchaseOrderID\r\n",
                "FROM Warehouse.StockItemTransactions "
            ],
            "metadata": {
                "azdata_cell_guid": "d8d7c14f-88dc-4e56-844f-039e6aee1d7b"
            },
            "outputs": [],
            "execution_count": 0
        },
        {
            "cell_type": "markdown",
            "source": [
                "Why all this effort, when we can map everything with `CASE` statements? Very simple: because an inline function often reads better than a `CASE` statement. As an example we take the following query: "
            ],
            "metadata": {
                "azdata_cell_guid": "987b8232-175d-4b45-b809-61d7cbbf7cbc"
            }
        },
        {
            "cell_type": "code",
            "source": [
                "SELECT \r\n",
                "     NStockIssues       = SUM(IIF(TransactionTypeID = 10, 1, 0))\r\n",
                "    ,NStockReceipts     = SUM(IIF(TransactionTypeID = 11, 1, 0))\r\n",
                "    ,NStockAdjustments  = SUM(IIF(TransactionTypeID = 12, 1, 0)) \r\n",
                "FROM Warehouse.StockItemTransactions"
            ],
            "metadata": {
                "azdata_cell_guid": "584505ab-cfe3-4cd5-917c-c8fe101f64a4"
            },
            "outputs": [],
            "execution_count": 0
        },
        {
            "cell_type": "markdown",
            "source": [
                "Here many ninjas find the interaction of `IIF` with `SUM` much more readable than the corresponding `CASE` formulation:"
            ],
            "metadata": {
                "azdata_cell_guid": "765d74ec-c600-415b-9ac7-ba5fcbb1a948"
            }
        },
        {
            "cell_type": "code",
            "source": [
                "SELECT \r\n",
                "     NStockIssues       = SUM(CASE TransactionTypeID WHEN 10 THEN 1 ELSE 0 END)\r\n",
                "    ,NStockReceipts     = SUM(CASE TransactionTypeID WHEN 11 THEN 1 ELSE 0 END)\r\n",
                "    ,NStockAdjustments  = SUM(CASE TransactionTypeID WHEN 12 THEN 1 ELSE 0 END) \r\n",
                "FROM Warehouse.StockItemTransactions"
            ],
            "metadata": {
                "azdata_cell_guid": "dc3895a1-49d1-42bd-8399-e8009120db47"
            },
            "outputs": [],
            "execution_count": 0
        },
        {
            "cell_type": "markdown",
            "source": [
                "Whether you prefer the first or the last form is of course a matter of taste, but you should be aware that IIF is not ANSI SQL functionality (and is only included in T-SQL since 2012, rumor has it that this might have something to do with the integration of Access databases into SQL Server). So if compatibility with other database systems is important to you (or you are using older SQL Server versions), you should avoid the short form with IIF and write CASE statements instead.   \n",
                "## References\n",
                "- [Documentation from Microsoft](https://docs.microsoft.com/de-de/sql/t-sql/functions/logical-functions-iif-transact-sql?view=sql-server-ver15)"
            ],
            "metadata": {
                "azdata_cell_guid": "ed0a9ddd-de24-402f-86a5-f0baac606b40"
            }
        }
    ]
}