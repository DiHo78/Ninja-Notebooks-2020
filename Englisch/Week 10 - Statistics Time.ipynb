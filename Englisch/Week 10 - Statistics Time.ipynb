{
    "metadata": {
        "kernelspec": {
            "name": "SQL",
            "display_name": "SQL",
            "language": "sql"
        },
        "language_info": {
            "name": "sql",
            "version": ""
        }
    },
    "nbformat_minor": 2,
    "nbformat": 4,
    "cells": [
        {
            "cell_type": "markdown",
            "source": [
                "# Week 10 - STATISTICS TIME\r\n",
                "\r\n",
                "## What is tSTATISTICS TIME? \r\n",
                "Last week you got to know `STATISTICS IO`, a tool that tells you how much data a query needs to read from disk to answer a query. How does `STATISTICS TIME` differ from `STATISTICS IO`? While `STATISTICS IO` logs disk accesses, `STATISTICS TIME` returns the CPU time required for a query. That is, the time that was used to read and understand the query and to find an execution plan for the query on the one hand, and the time that the CPU was busy calculating values during the execution of the query, for example. \r\n",
                "## How can you work with STATISTICS TIME?\r\n",
                "If you want to see how many disk accesses a query causes, you can get this information by sending a 'SET STATISTICS TIME ON' before the query. What you will then see is a set of information that we will examine a bit more closely below. \r\n",
                "\r\n",
                "Let's use the statistics to query the StockItems table in the Wide World Importers database: \r\n",
                ""
            ],
            "metadata": {
                "azdata_cell_guid": "eca04df7-a5ce-46b1-9083-d3eb60034270"
            }
        },
        {
            "cell_type": "code",
            "source": [
                "SET STATISTICS TIME ON\r\n",
                "SELECT \r\n",
                "       [StockItemID]\r\n",
                "      ,[StockItemName]\r\n",
                "      ,[UnitPrice]\r\n",
                "FROM [Warehouse].[StockItems]"
            ],
            "metadata": {
                "azdata_cell_guid": "3d1bc3a0-94a7-4f4f-9843-24055cd48711"
            },
            "outputs": [],
            "execution_count": 0
        },
        {
            "cell_type": "markdown",
            "source": [
                "In addition to the results, the Messages tab contains information about the execution: \r\n",
                "\r\n",
                "`SQL Server Execution Times:`\r\n",
                "\r\n",
                "`CPU time = 1 ms, elapsed time = 0 ms`\r\n",
                "\r\n",
                "`Total execution time: 00:00:00.019`\r\n",
                "\r\n",
                "Here you can see that the SQL Server had to spend a millisecond CPU time for the query. \r\n",
                "It is clear that the CPU did not have much to do here, only 3 values of a table were read and returned. So let's give the CPU something to do by performing a calculation on one of the columns:\r\n",
                ""
            ],
            "metadata": {
                "azdata_cell_guid": "39964731-fa73-42aa-98f0-b01b5a35512a"
            }
        },
        {
            "cell_type": "code",
            "source": [
                "SET STATISTICS TIME ON\r\n",
                "SELECT \r\n",
                "       sin([StockItemID])\r\n",
                "      ,[StockItemName]\r\n",
                "      ,[UnitPrice]\r\n",
                "FROM [Warehouse].[StockItems]"
            ],
            "metadata": {
                "azdata_cell_guid": "b0792c55-8560-4947-a028-c93b0803fe00"
            },
            "outputs": [],
            "execution_count": 0
        },
        {
            "cell_type": "markdown",
            "source": [
                "So now we calculate the sine of the `StockItemID`. The ninja doesn't want to say a word about how useful this is, but instead we'd rather talk about what happens to our statistics. The output now looks like this:\r\n",
                "\r\n",
                "`SQL Server parse and compile time: `\r\n",
                "\r\n",
                "`CPU time = 0 ms, elapsed time = 0 ms.`\r\n",
                "\r\n",
                "`(227 rows affected)`\r\n",
                "\r\n",
                "`SQL Server Execution Times:`\r\n",
                "\r\n",
                "`CPU time = 0 ms, elapsed time = 0 ms.`\r\n",
                "\r\n",
                "Here you can see that the SQL Server now needs one more step in the query execution to read the query and determine an execution plan. However, the time required for this is so small that it is of no consequence and takes zero milliseconds for such a simple query. Even calculating the sine doesn't seem to make the CPU glow at the moment, since the CPU time for the 227 lines isn't even measurable, so according to the training principles of the ninja, we increase the complexity once again and try to get the CPU to calculate. To do this, we come up with something new and join to a larger table, doing a calculation on the columns we want to join. \r\n",
                "\r\n",
                "Such a query would be, for example: \r\n",
                ""
            ],
            "metadata": {
                "azdata_cell_guid": "02c1740b-bb36-4ff9-81dd-448d457f41d7"
            }
        },
        {
            "cell_type": "code",
            "source": [
                "SET STATISTICS TIME ON\r\n",
                "SELECT \r\n",
                "       si.[StockItemID]\r\n",
                "      ,[StockItemName]\r\n",
                "      ,[UnitPrice]\r\n",
                "FROM [Warehouse].[StockItems] si\r\n",
                "LEFT JOIN Warehouse.StockItemTransactions sit \r\n",
                "ON sin(si.[StockItemID]) = cos(sit.[StockItemID])"
            ],
            "metadata": {
                "azdata_cell_guid": "bd1aead3-b302-40f6-a8aa-ec47020e2cbb"
            },
            "outputs": [],
            "execution_count": 0
        },
        {
            "cell_type": "markdown",
            "source": [
                "It is clear that this query is also completely meaningless, but it serves its purpose, because if you now look at the statistics, you should see an output that looks something like this:\r\n",
                "\r\n",
                "`SQL Server Execution Times:`\r\n",
                "\r\n",
                "`CPU time = 97 ms, elapsed time = 373 ms`\r\n",
                "\r\n",
                "`Total execution time: 00:00:00.453`\r\n",
                "\r\n",
                "Here you can see that the CPU of your computer actually had to perform some arithmetic operations for this query, which took 97 milliseconds of the 373 milliseconds your query took. \r\n",
                "\r\n",
                "Similar to IO statistics, tuning queries using time statistics is a science in itself that would go beyond a simple ninja contribution. However, it's worth taking a look at this, because even a parse and compile time of 10 milliseconds for a query that is executed 1000 times per minute will cause a difference in runtime of 10 seconds. Again, the Ninja in awe refers to the acknowledged tuning experts of this world. \r\n",
                "\r\n",
                "### References\r\n",
                "- [Official Microsoft documentation]( https://docs.microsoft.com/de-de/sql/t-sql/statements/set-statistics-time-transact-sql?view=sql-server-2017 )\r\n",
                "\r\n",
                ""
            ],
            "metadata": {
                "azdata_cell_guid": "c3dd4a60-4659-494c-a96f-0facc48d907a"
            }
        }
    ]
}