{
    "metadata": {
        "kernelspec": {
            "name": "SQL",
            "display_name": "SQL",
            "language": "sql"
        },
        "language_info": {
            "name": "sql",
            "version": ""
        }
    },
    "nbformat_minor": 2,
    "nbformat": 4,
    "cells": [
        {
            "cell_type": "markdown",
            "source": [
                "# Week 8: sp_MSforeachtable\r\n",
                "### What is sp_MSforeachtable?\r\n",
                "The stored procedure `sp_MSforeachtable` is one of the system procedures defined in SQL Server. You can find it when you connect to a server with Management Studio or Data Studio and then look under \"System Databases\" in the \"master\" database under \"Programmability\" in the \"System Stored Procedures\". There you will find a whole bunch of procedures. Some of them are not officially documented, like the `sp_MSforeachtable`, which you will now get to know. You shouldn't use it in a productive environment, but it can save you a lot of work in development. So let's take a look at it. \r\n",
                "### How can you use sp_MSforeachtable?\r\n",
                "To iterate over the tables in your database and execute a command for each table, you can write your own queries that find your tables in the sys tables, iterate them and generate dynamic SQL statements that you want to execute. Or you can rely on the preliminary work that Microsoft has done for you at this point and use the sp_MSforeachtable.\r\n",
                "\r\n",
                "This procedure has the following arguments: \r\n",
                "- `@command1`: the first SQL command you want to execute for each table\r\n",
                "- `@replacechar`: the symbol you want to replace with the respective table name in the query. The default is the question mark, if you do not pass this parameter, the question mark will be replaced by the table name in your query. \r\n",
                "- `@command2` and `@command3`: additional SQL commands you want to execute for each table\r\n",
                "- `@whereand`: a `WHERE` condition that selects the tables you iterate over. \r\n",
                "- @precommand and `@postcommand`: commands you want to execute before or after iterating over the tables. \r\n",
                "\r\n",
                "Many of the parameters become clearer as you start using the procedure, so let's start with a simple example on the WideWorldImporters database. The following command will give you all the tables in the database:"
            ],
            "metadata": {
                "azdata_cell_guid": "16a85aa3-4b6c-4f6b-889b-f822def6d5aa"
            }
        },
        {
            "cell_type": "code",
            "source": [
                "exec sp_MSforeachtable @command1='print ''?'''"
            ],
            "metadata": {
                "azdata_cell_guid": "5c62cc74-4ce9-44e0-aee3-62a11e17cd27"
            },
            "outputs": [],
            "execution_count": 0
        },
        {
            "cell_type": "markdown",
            "source": [
                "Now let's take care of the where-condition to filter the tables. With the following query you can only display the tables from the application schema:"
            ],
            "metadata": {
                "azdata_cell_guid": "f04cb2dc-dc9c-4e48-9c54-7628cd585dc5"
            }
        },
        {
            "cell_type": "code",
            "source": [
                "exec sp_MSforeachtable \r\n",
                "     @command1='print ''?'''\r\n",
                "    ,@whereand = 'AND schema_name(schema_id) = ''Application'''"
            ],
            "metadata": {
                "azdata_cell_guid": "c8dc661c-9c05-4bf2-b4e9-955cfdceb551"
            },
            "outputs": [],
            "execution_count": 0
        },
        {
            "cell_type": "markdown",
            "source": [
                "You will see later that the `sp_MSforeachtable` will join the `sysobjects` table with the `sys.all_objects` table, so you can use all the attributes of these tables to write your where condition. If you want to go deeper into using the `sp_MSforeachtable' procedure than you would in a ninja post, you should definitely take another look at these tables. \r\n",
                "\r\n",
                "However, let's go one step further and work with the tables we filtered here. Now, contrary to all best practices, we create a table in the `dbo` schema called tables, in which we enter the table names:"
            ],
            "metadata": {
                "azdata_cell_guid": "a683b209-f036-4b7e-883b-a4de7f444f9c"
            }
        },
        {
            "cell_type": "code",
            "source": [
                "exec sp_MSforeachtable \r\n",
                "     @command1='INSERT INTO dbo.tables (fullname) VALUES (''?'')'\r\n",
                "    ,@whereand = 'AND schema_name(schema_id) = ''Application'''\r\n",
                "    ,@precommand = 'DROP TABLE IF EXISTS dbo.tables; CREATE TABLE dbo.tables (fullname varchar(500))'"
            ],
            "metadata": {
                "azdata_cell_guid": "ac42743e-925d-449c-94a3-082ada10f695",
                "tags": [
                    "hide_input"
                ]
            },
            "outputs": [],
            "execution_count": 0
        },
        {
            "cell_type": "markdown",
            "source": [
                "Now we can query `dbo.tables`:"
            ],
            "metadata": {
                "azdata_cell_guid": "3b580881-b3e2-435e-a72d-aa45fac610f1"
            }
        },
        {
            "cell_type": "code",
            "source": [
                "SELECT fullname \r\n",
                "FROM dbo.tables"
            ],
            "metadata": {
                "azdata_cell_guid": "b2b114c2-f24a-49cb-ab81-8620a05ce9e0"
            },
            "outputs": [],
            "execution_count": 0
        },
        {
            "cell_type": "markdown",
            "source": [
                "But of course we can also clear the table right after we filled it, for that we use the `@postcommand`:"
            ],
            "metadata": {
                "azdata_cell_guid": "ce1cee8e-b941-4c93-95e9-7332ebfa5ff4"
            }
        },
        {
            "cell_type": "code",
            "source": [
                "exec sp_MSforeachtable \r\n",
                "     @command1='INSERT INTO dbo.tables (fullname) VALUES (''?'')'\r\n",
                "    ,@whereand = 'AND schema_name(schema_id) = ''Application'''\r\n",
                "    ,@precommand = 'DROP TABLE IF EXISTS dbo.tables; CREATE TABLE dbo.tables (fullname varchar(500))'\r\n",
                "    ,@postcommand = 'SELECT fullname FROM dbo.tables; DROP TABLE dbo.tables'"
            ],
            "metadata": {
                "azdata_cell_guid": "51f36a01-f41c-4012-a0de-af9bdfc9ca20"
            },
            "outputs": [],
            "execution_count": 0
        },
        {
            "cell_type": "markdown",
            "source": [
                "As a result we see again the table names in our select, but if we now want to query the `dbo.tables` table after the procedure is finished, we find that it no longer exists: "
            ],
            "metadata": {
                "azdata_cell_guid": "f9186b38-2223-44cc-b3a9-67a54e27f1a3"
            }
        },
        {
            "cell_type": "code",
            "source": [
                "SELECT fullname \r\n",
                "FROM dbo.tables"
            ],
            "metadata": {
                "azdata_cell_guid": "8c49c970-930f-4a5c-a429-dc84380fd446"
            },
            "outputs": [],
            "execution_count": 0
        },
        {
            "cell_type": "markdown",
            "source": [
                "It was in fact cleaned up by the `@postcommand` as expected.\r\n",
                "\r\n",
                "Now, completely unconventionally and not at all recommended in productive environments, we want to re-index all these tables. For this we can use the second command, which we can pass to `sp_MSforeachtable`:"
            ],
            "metadata": {
                "azdata_cell_guid": "5bace06d-5985-4aee-8397-0f12b7788a51"
            }
        },
        {
            "cell_type": "code",
            "source": [
                "exec sp_MSforeachtable \r\n",
                "     @command1='INSERT INTO dbo.tables (fullname) VALUES (''?'')'\r\n",
                "    ,@command2='DBCC DBREINDEX(''?'')'\r\n",
                "    ,@whereand = 'AND schema_name(schema_id) = ''Application'''\r\n",
                "    ,@precommand = 'DROP TABLE IF EXISTS dbo.tables; CREATE TABLE dbo.tables (fullname varchar(500))'\r\n",
                "    ,@postcommand = 'SELECT fullname FROM dbo.tables; DROP TABLE dbo.tables'"
            ],
            "metadata": {
                "azdata_cell_guid": "29f29e87-e599-492e-8994-0ce88a005db0"
            },
            "outputs": [],
            "execution_count": 0
        },
        {
            "cell_type": "markdown",
            "source": [
                "Since the procedure itself is not documented, there is of course no official documentation. How can you find out what exactly will happen when you call the procedure? Simple: find the procedure in the Management Studio or Azure Data Studio, right click on it and then click on \"Script as create\", then you will see the source code of the procedure and can analyze it for yourself, take it apart and understand how the parameters work. So to speak, Microsoft provides you with a Dojo for the use of system tables for free. So Katana will be pulled out and you will face the enemy.  \n",
                "## Further reading:\n",
                "- [Blog post with some usage examples](https://www.sqlservercurry.com/2009/04/8-common-uses-of-undocumented-stored.html)"
            ],
            "metadata": {
                "azdata_cell_guid": "a7dbd8e9-11dd-4c26-9a42-9faa2495af3b"
            }
        }
    ]
}