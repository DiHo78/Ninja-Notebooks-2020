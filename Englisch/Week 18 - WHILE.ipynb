{
    "metadata": {
        "kernelspec": {
            "name": "SQL",
            "display_name": "SQL",
            "language": "sql"
        },
        "language_info": {
            "name": "sql",
            "version": ""
        }
    },
    "nbformat_minor": 2,
    "nbformat": 4,
    "cells": [
        {
            "cell_type": "markdown",
            "source": [
                "# Week 18: WHILE\r\n",
                "## What's WHILE?\r\n",
                "Unlike Data Definition Language statements for creating views, tables or indexes, query statements for inserting and retrieving data into these structures, the `WHILE` keyword is part of the flow control. This means that this keyword can be used in SQL statements to control processes and execute certain queries multiple times.\r\n",
                "## How can you use WHILE statements?\r\n",
                "`WHILE` statements are especially useful if you want to execute a task multiple times, i.e. until a certain condition is met. To demonstrate how this works, let's start by creating a small table that shows how deadly different ninjas of our dojo are:"
            ],
            "metadata": {
                "azdata_cell_guid": "11c189c2-83b3-4a81-a156-f900936ce35c"
            }
        },
        {
            "cell_type": "code",
            "source": [
                "DROP TABLE IF EXISTS #NinjaDemo\r\n",
                "\r\n",
                "CREATE TABLE #NinjaDemo\r\n",
                "(\r\n",
                "     NinjaId INT IDENTITY(1,1)\r\n",
                "    ,Deadlyness float NOT NULL\r\n",
                ")"
            ],
            "metadata": {
                "azdata_cell_guid": "be2de329-ff5d-4687-85b4-bd327c565d60"
            },
            "outputs": [],
            "execution_count": 0
        },
        {
            "cell_type": "markdown",
            "source": [
                "Now we want to fill this table with the first five ninjas, but since we only use demo records, to protect the identity of our ninjas, we fill the `Deadliness` column with random numbers. \r\n",
                "We can then do this as follows: "
            ],
            "metadata": {
                "azdata_cell_guid": "c5ce8853-462b-4bdc-ae4e-166b6043bcea"
            }
        },
        {
            "cell_type": "code",
            "source": [
                "INSERT INTO #NinjaDemo (Deadlyness)\r\n",
                "VALUES\r\n",
                " (RAND())\r\n",
                ",(RAND())\r\n",
                ",(RAND())\r\n",
                ",(RAND())\r\n",
                ",(RAND())"
            ],
            "metadata": {
                "azdata_cell_guid": "f0a3d3a4-907a-4d13-99cb-8d5dbd8c1ba5"
            },
            "outputs": [],
            "execution_count": 0
        },
        {
            "cell_type": "markdown",
            "source": [
                "If we now look at the records, we see five entries with random values for deadlyness. But if we want to do this for a larger dojo and need 200 entries instead of the five ninjas, we could either copy and paste a very long (and confusing) statement or we could use a `WHILE` statement to create the records. This would be done as follows: "
            ],
            "metadata": {
                "azdata_cell_guid": "fa4599b2-7222-412a-9f59-adfc24344490"
            }
        },
        {
            "cell_type": "code",
            "source": [
                "DECLARE @nRows int = 0;\r\n",
                "\r\n",
                "SELECT @nRows = COUNT(*) FROM #NinjaDemo\r\n",
                "WHILE @nRows < 200\r\n",
                "BEGIN\r\n",
                "    INSERT INTO #NinjaDemo (Deadlyness) VALUES (RAND())\r\n",
                "    SELECT @nRows = COUNT(*) FROM #NinjaDemo\r\n",
                "END\r\n",
                "\r\n",
                "SELECT * FROM #NinjaDemo"
            ],
            "metadata": {
                "azdata_cell_guid": "4e8822d5-248f-4ffc-9014-8c6ec1b16723"
            },
            "outputs": [],
            "execution_count": 0
        },
        {
            "cell_type": "markdown",
            "source": [
                "Now the table has 200 entries, but if we want 500 or 5000 entries instead, we would only have to change a number in the `WHILE` condition in this statement. \r\n",
                "But to fill large tables with random numbers, a separate language construct would certainly not be worth it. The `WHILE` statement can of course do more than that. Suppose we want to rebuild all clustered indexes in our database. Let's first write a query that lists all clustered indexes: "
            ],
            "metadata": {
                "azdata_cell_guid": "b2a5baac-7cb8-41a5-b553-36f5ce4cd792"
            }
        },
        {
            "cell_type": "code",
            "source": [
                "SELECT \r\n",
                "    i.[name] as index_name\r\n",
                "    ,schema_name(t.schema_id) + '.' + t.[name] as table_view\r\n",
                "FROM sys.objects t\r\n",
                "INNER JOIN sys.indexes i\r\n",
                "    ON t.object_id = i.object_id\r\n",
                "WHERE t.[type] = 'U'\r\n",
                "    AND i.[type] = 1"
            ],
            "metadata": {
                "azdata_cell_guid": "b71e7af1-7cbf-4742-a185-5a1b76603926"
            },
            "outputs": [],
            "execution_count": 0
        },
        {
            "cell_type": "markdown",
            "source": [
                "To rebuild all these indexes, we generate dynamic SQL statements that we want to execute - __ATTENTION__, of course you should try this in the Dojo before you compete in the real competition (or don't execute it on production servers!). We can do this with a `WHILE` statement, by always rebuilding an index until there is no index to rebuild. To do this we first create a temporary table with the indexes we want to rebuild: \r\n",
                ""
            ],
            "metadata": {
                "azdata_cell_guid": "f9ad8e4b-aff8-469d-9de9-53e312270ae2"
            }
        },
        {
            "cell_type": "code",
            "source": [
                "DROP TABLE IF EXISTS #sqlReorg\r\n",
                "\r\n",
                "SELECT \r\n",
                "    'ALTER INDEX ['+i.[name]+'] ON ['+schema_name(t.schema_id) + '].[' + t.[name]+'] REORGANIZE ;' as Stmt\r\n",
                "INTO #sqlReorg FROM sys.objects t\r\n",
                "INNER JOIN sys.indexes i\r\n",
                "    ON t.object_id = i.object_id\r\n",
                "WHERE t.[type] = 'U'\r\n",
                "    AND i.[type] = 1"
            ],
            "metadata": {
                "azdata_cell_guid": "8596da1b-b2bf-4448-80c3-4e9296d9bfa7"
            },
            "outputs": [],
            "execution_count": 0
        },
        {
            "cell_type": "markdown",
            "source": [
                "Now we fetch an index from this table, generate the corresponding statement and delete the index from the table:"
            ],
            "metadata": {
                "azdata_cell_guid": "3109df8d-bbf2-437b-b8ae-ac30702d6dfb"
            }
        },
        {
            "cell_type": "code",
            "source": [
                "DECLARE @stmt NVARCHAR(500)\r\n",
                "WHILE (SELECT COUNT(*) FROM #sqlReorg) > 0\r\n",
                "BEGIN\r\n",
                "    SELECT top(1) @stmt = [stmt] FROM #sqlReorg\r\n",
                "    DELETE FROM #sqlReorg WHERE [Stmt] = @stmt\r\n",
                "    PRINT 'Running '+@stmt\r\n",
                "    EXEC sp_Executesql @stmt\r\n",
                "END"
            ],
            "metadata": {
                "azdata_cell_guid": "af2c14f5-c67c-408d-ab70-6114504bc8ca"
            },
            "outputs": [],
            "execution_count": 0
        },
        {
            "cell_type": "markdown",
            "source": [
                "This is not best practice, of course, as it does not include error handling, but it shows how the `WHILE` statement can be used to execute multiple statements.\n",
                "Important: SQL is always efficient when working with data sets. By definition, `WHILE` statements work with single records first, so what you do here is potentially always a slow solution to your problem. Often there are better and more efficient solutions, so before you start with a `WHILE` statement, think carefully if this is really the best solution and if you can somehow allow the server to work efficiently with multiple records... \n",
                "## References\n",
                "- [Official Microsoft Documentation](https://docs.microsoft.com/de-de/sql/t-sql/language-elements/while-transact-sql?view=sql-server-ver15)"
            ],
            "metadata": {
                "azdata_cell_guid": "ae119ce2-7bb7-4e4d-94c9-dc2d26aaa814"
            }
        }
    ]
}