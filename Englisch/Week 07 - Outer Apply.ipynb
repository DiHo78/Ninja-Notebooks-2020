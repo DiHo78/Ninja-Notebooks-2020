{
    "metadata": {
        "kernelspec": {
            "name": "SQL",
            "display_name": "SQL",
            "language": "sql"
        },
        "language_info": {
            "name": "sql",
            "version": ""
        }
    },
    "nbformat_minor": 2,
    "nbformat": 4,
    "cells": [
        {
            "cell_type": "markdown",
            "source": [
                "# Week 7: OUTER APPLY\r\n",
                "## What is OUTER APPLY? \r\n",
                "`OUTER APPLY` is a means of first formulating subqueries, which are executed for each line in the result, and is then joined to the result. This is, of course, a means to be used with extreme caution, because since an `OUTER APPLY` is executed for every row in the result, even a cheap (sub-)query here can lead to high overall query costs.\r\n",
                "## How can you use OUTER APPLY?\r\n",
                "Imagine that you want to know in the Wide World Importers database for every item in stock when it was last ordered. If you would now join the items with the orders, you would have a huge result set, where you get every order for every item. From these you would then have to pick the last ones. Thereby you would work with a much larger amount of data than you actually want. This means that you would need more memory, more temp DB and more CPU time to process the query than the actual amount of data justifies. \r\n",
                "If you want to avoid this, you can use `OUTER APPLY` to execute a subquery for each line that completes this value. The whole thing will look like this:"
            ],
            "metadata": {
                "azdata_cell_guid": "2a3d2910-8c15-4da7-9570-701ceef07e35"
            }
        },
        {
            "cell_type": "code",
            "source": [
                "SELECT \r\n",
                "     si.[StockItemID]\r\n",
                "    ,si.[StockItemName]\r\n",
                "    ,si.[UnitPrice] \r\n",
                "    ,od.[LastOrderDate] \r\n",
                "FROM [Warehouse].[StockItems] si\r\n",
                "OUTER APPLY (\r\n",
                "    SELECT TOP 1 \r\n",
                "        o.[OrderDate] as LastOrderDate \r\n",
                "    FROM [Sales].[Orders] as o \r\n",
                "    LEFT JOIN [Sales].[OrderLines] as ol \r\n",
                "    ON o.[OrderID]= ol.[OrderID] \r\n",
                "    WHERE ol.StockItemID = si.StockItemID \r\n",
                "    ORDER BY o.[OrderDate] desc \r\n",
                ") od"
            ],
            "metadata": {
                "azdata_cell_guid": "f3936e1f-136f-4450-a413-630d2abf43fa"
            },
            "outputs": [],
            "execution_count": 0
        },
        {
            "cell_type": "markdown",
            "source": [
                "If you now look at the execution plan for this query, you will see in the plan the subquery with 277 executions, as many as the query returns rows.\r\n",
                "\r\n",
                "## #HERE'S ANOTHER IMAGE COMING #\r\n",
                "This is of course not very efficient. In this example you can work with a CTE instead (you can read more about this in the first part of the series). The query would look like this:"
            ],
            "metadata": {
                "azdata_cell_guid": "7b9ac7cf-17ac-407d-b5cf-681abda3f35e"
            }
        },
        {
            "cell_type": "code",
            "source": [
                ";WITH cte_lastOrder as (\r\n",
                "    SELECT \r\n",
                "         MAX(o.[OrderDate]) as LastOrderDate \r\n",
                "        ,ol.[StockItemID]\r\n",
                "    FROM [Sales].[Orders] as o \r\n",
                "    LEFT JOIN [Sales].[OrderLines] as ol \r\n",
                "    ON o.[OrderID]= ol.[OrderID] \r\n",
                "    GROUP BY ol.StockItemID\r\n",
                ")\r\n",
                "SELECT \r\n",
                "     si.[StockItemID]\r\n",
                "    ,si.[StockItemName]\r\n",
                "    ,si.[UnitPrice] \r\n",
                "    ,lo.[LastOrderDate] \r\n",
                "FROM [Warehouse].[StockItems] si\r\n",
                "LEFT JOIN cte_lastOrder lo \r\n",
                "ON si.StockItemID = lo.StockItemID"
            ],
            "metadata": {
                "azdata_cell_guid": "83ba7981-88fd-43d1-baeb-073136f787d0"
            },
            "outputs": [],
            "execution_count": 0
        },
        {
            "cell_type": "markdown",
            "source": [
                "Now you may ask yourself: if this also works with CTEs, what do we need an `APPLY` operator for anyway? It's simple: you don't always want to merge tables, `APPLY` also gives you the possibility to execute a table valued function for each row of a query result and to join the result to the row, so you get the freedom to do many more operations than normal `JOIN` operations. \r\n",
                "By the way, an `OUTER APPLY` corresponds to a `LEFT JOIN`, while a `CROSS APPLY` corresponds to an `INNER JOIN` operation.\r\n",
                "### References\r\n",
                "- [Official Microsoft documentation](https://docs.microsoft.com/de-de/sql/t-sql/queries/from-transact-sql?view=sql-server-2017)"
            ],
            "metadata": {
                "azdata_cell_guid": "864520f2-978e-4ff1-8d0a-8dd1b582ee64"
            }
        }
    ]
}