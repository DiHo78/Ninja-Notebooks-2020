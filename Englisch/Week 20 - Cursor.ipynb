{
    "metadata": {
        "kernelspec": {
            "name": "SQL",
            "display_name": "SQL",
            "language": "sql"
        },
        "language_info": {
            "name": "sql",
            "version": ""
        }
    },
    "nbformat_minor": 2,
    "nbformat": 4,
    "cells": [
        {
            "cell_type": "markdown",
            "source": [
                "# Week 20: CURSOR\r\n",
                "## What are CURSORs?\r\n",
                "In the last two weeks you had learned about the `WHILE` statement in the Dojo and used it to delete batches of lines. We had given you the warning that the SQL Server (like almost every relational database engine) is primarily designed to operate with data sets, i.e. with multiple rows. But what if you really need to process individual rows in a result set for some reason? Some of our `WHILE` constructs have already done just that, and some of you will have flinched and instinctively closed the page. If that's you, you can do that for this week, because today we'll be covering `CURSOR`. A `CURSOR` can be thought of as a pointer pointing to the first row of the result set, which you can always jump to the next row. \r\n",
                "\r\n",
                "## How can you work with CURSORs?\r\n",
                "To define a cursor, you must first define a variable that holds the line. You do this by declaring a variable that is your `SELECT` statement as type `CURSOR FOR`. So let's first write a statement that gives us a result set that we can iterate on. For example, let's take the set of databases on our server: "
            ],
            "metadata": {
                "azdata_cell_guid": "714b3f6b-5097-49ee-becc-8878202b7d5b"
            }
        },
        {
            "cell_type": "code",
            "source": [
                "USE master; \r\n",
                "\r\n",
                "SELECT [name] \r\n",
                "FROM dbo.sysdatabases"
            ],
            "metadata": {
                "azdata_cell_guid": "32f99e22-9529-433c-abb6-2abadfeedc78"
            },
            "outputs": [],
            "execution_count": 0
        },
        {
            "cell_type": "markdown",
            "source": [
                "Now we want to iterate over this result set and perform a meaningful operation for each database. We did something similar two weeks ago when we wanted to iterate over all indexes of a database. At that time we had always selected the first row with `TOP(1)` and deleted it from the result set. Today we do it differently and define a `CURSOR` to iterate over the result set. In concrete terms, this could look like the following: "
            ],
            "metadata": {
                "azdata_cell_guid": "acd8c385-f078-40b4-af5a-1b1a6290fbcf"
            }
        },
        {
            "cell_type": "code",
            "source": [
                "DECLARE my_cursor \r\n",
                "CURSOR FOR \r\n",
                "SELECT [name] \r\n",
                "FROM dbo.sysdatabases"
            ],
            "metadata": {
                "azdata_cell_guid": "84b54fc8-64da-4e39-8198-1f9bad3539ca"
            },
            "outputs": [],
            "execution_count": 0
        },
        {
            "cell_type": "markdown",
            "source": [
                "Now we have to execute the query and point the cursor to the first row of the result set, for this we first define a variable that holds the result:"
            ],
            "metadata": {
                "azdata_cell_guid": "11663d1b-3f1e-4039-93ab-725913bc64d5"
            }
        },
        {
            "cell_type": "code",
            "source": [
                "DECLARE @name varchar(255)"
            ],
            "metadata": {
                "azdata_cell_guid": "804af166-837b-4b71-876c-c6de06d6d149"
            },
            "outputs": [],
            "execution_count": 0
        },
        {
            "cell_type": "markdown",
            "source": [
                "Now we can open the cursor and write the next line in the variable (if your select contains several columns, you can map each to a separate variable)"
            ],
            "metadata": {
                "azdata_cell_guid": "1d597e65-c18f-498d-8e63-b9971d3fb598"
            }
        },
        {
            "cell_type": "code",
            "source": [
                "OPEN my_cursor  \r\n",
                "FETCH NEXT FROM my_cursor INTO @name"
            ],
            "metadata": {
                "azdata_cell_guid": "c8a5f26b-b290-4450-b470-a21a1acadde6"
            },
            "outputs": [],
            "execution_count": 0
        },
        {
            "cell_type": "markdown",
            "source": [
                "To now read one line after the other into the variable, we use a `WHILE` loop again. The loop condition is that one more line could be read from the cursor. This looks like the following: "
            ],
            "metadata": {
                "azdata_cell_guid": "8d8f808f-68d6-4070-b401-ca74b146076a"
            }
        },
        {
            "cell_type": "code",
            "source": [
                "WHILE @@FETCH_STATUS = 0  \r\n",
                "BEGIN  \r\n",
                "      FETCH NEXT FROM my_cursor INTO @name \r\n",
                "END "
            ],
            "metadata": {
                "azdata_cell_guid": "998decc5-a21c-48b8-bbf9-0883b1e5f886"
            },
            "outputs": [],
            "execution_count": 0
        },
        {
            "cell_type": "markdown",
            "source": [
                "When you are done with this, you must first close the `CURSOR`, i.e. make sure that it no longer points to a result set, and then delete it, which is done with the `DEALLOCATE` command: "
            ],
            "metadata": {
                "azdata_cell_guid": "4cfd76f8-60b2-4230-bdac-865f97f9e335"
            }
        },
        {
            "cell_type": "code",
            "source": [
                "CLOSE my_cursor  \r\n",
                "DEALLOCATE my_cursor "
            ],
            "metadata": {
                "azdata_cell_guid": "b5f7a6ef-b1cc-4b79-b5a3-951f7d6afd44"
            },
            "outputs": [],
            "execution_count": 0
        },
        {
            "cell_type": "markdown",
            "source": [
                "In the loop you can now do what you want with the database name stored in `@name`. For example, you can make backups of all databases. The whole code would look like this: "
            ],
            "metadata": {
                "azdata_cell_guid": "17e6fa47-7762-413f-a26b-d0a341c9a29d"
            }
        },
        {
            "cell_type": "code",
            "source": [
                "DECLARE @name varchar(255)\r\n",
                "DECLARE @backuppath varchar(255)\r\n",
                "DECLARE @backupfullfile varchar(510)\r\n",
                "\r\n",
                "SET @backuppath = '~/'\r\n",
                "\r\n",
                "OPEN my_cursor  \r\n",
                "FETCH NEXT FROM my_cursor INTO @name  \r\n",
                "\r\n",
                "WHILE @@FETCH_STATUS = 0  \r\n",
                "BEGIN  \r\n",
                "    SET @backupfullfile = @backuppath+@name+'.bak'\r\n",
                "    BACKUP DATABASE @name TO DISK =  @backupfullfile\r\n",
                "    FETCH NEXT FROM my_cursor INTO @name \r\n",
                "END \r\n",
                "\r\n",
                "CLOSE my_cursor  \r\n",
                "DEALLOCATE my_cursor "
            ],
            "metadata": {
                "azdata_cell_guid": "d00f9ff9-fb9b-4c1b-bf0f-b567a66cecdb"
            },
            "outputs": [],
            "execution_count": 0
        },
        {
            "cell_type": "markdown",
            "source": [
                "For safety's sake, let me warn you again: unlike a Katana, a `CURSOR` is a double-edged sword. On the one hand, it allows you to do many things more than once, especially in the area of database maintenance, and on the other hand this line-by-line approach is not an efficient way to work in relational database systems. But if you are aware of this, you can use `CURSOR`s to automate many of your daily tasks...  \n",
                "## References\n",
                "- [Documentation from Microsoft](https://docs.microsoft.com/de-de/sql/t-sql/language-elements/declare-cursor-transact-sql?view=sql-server-ver15)\n",
                ""
            ],
            "metadata": {
                "azdata_cell_guid": "d492bd3a-438b-4081-88ec-195efc448e57"
            }
        }
    ]
}