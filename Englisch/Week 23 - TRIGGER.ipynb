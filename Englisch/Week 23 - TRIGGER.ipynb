{
    "metadata": {
        "kernelspec": {
            "name": "SQL",
            "display_name": "SQL",
            "language": "sql"
        },
        "language_info": {
            "name": "sql",
            "version": ""
        }
    },
    "nbformat_minor": 2,
    "nbformat": 4,
    "cells": [
        {
            "cell_type": "markdown",
            "source": [
                "# Week 23: TRIGGER\r\n",
                "## What are TRIGGERS?\r\n",
                "Now, you've heard many times in the Dojo that SQL is always effective when operating on records, and that SQL is a language that allows set operations. That's why the possibilities for flow control in SQL are rather sparse compared to other programming languages, some of which you have already got to know here. But what about function calls? How can you react when a line is inserted into a table? The answer to these questions is `TRIGGER`.  \r\n",
                "## What can you use TRIGGER for?\r\n",
                "Most of you probably know `TRIGGER` as a construct that takes effect whenever a record is inserted, modified or deleted. There are also `TRIGGER` constructs that are used when objects are created, modified, or deleted in databases. There are also `LOGIN TRIGGERS`. \r\n",
                "But what does 'take effect' mean? Often - in analogy to the trigger as a trigger of a firearm - it is also called 'firing'. To understand, what exactly is meant by this, we first create a `TRIGGER`. First we need two tables, one on which we define the trigger and one in which we write data when the trigger \"fires\". For these tables we create our own schema: "
            ],
            "metadata": {
                "azdata_cell_guid": "1ef255c2-5869-41c5-be09-c94ca89aa4a1"
            }
        },
        {
            "cell_type": "code",
            "source": [
                "CREATE SCHEMA Trig\r\n",
                "GO"
            ],
            "metadata": {
                "azdata_cell_guid": "d00fb4ea-40d5-44d4-a93b-fc7ac9f82e13"
            },
            "outputs": [],
            "execution_count": 0
        },
        {
            "cell_type": "markdown",
            "source": [
                "Two tables are now added to this schema, as already mentioned: "
            ],
            "metadata": {
                "azdata_cell_guid": "ce0812a9-dd9c-4ca9-932a-cdb7425fb067"
            }
        },
        {
            "cell_type": "code",
            "source": [
                "DROP TABLE IF EXISTS Trig.FirstNames\r\n",
                "DROP TABLE IF EXISTS Trig.FullNames\r\n",
                "\r\n",
                "CREATE TABLE Trig.FirstNames (\r\n",
                "     FirstNameId INT IDENTITY(1,1)\r\n",
                "    ,FirstName varchar(250) not null\r\n",
                ")\r\n",
                "\r\n",
                "CREATE TABLE Trig.FullNames (\r\n",
                "     FullNameId INT IDENTITY(10,10)\r\n",
                "    ,FirstNameId INT NULL\r\n",
                "    ,LastNameId INT NULL\r\n",
                "    ,FirstName varchar(250) NULL\r\n",
                "    ,LastName varchar(250) NULL\r\n",
                ")\r\n",
                "\r\n",
                "GO "
            ],
            "metadata": {
                "azdata_cell_guid": "2c99137a-60cc-459c-94c5-bf7317512deb"
            },
            "outputs": [],
            "execution_count": 0
        },
        {
            "cell_type": "markdown",
            "source": [
                "Now we are done with the preparations so far that we can define a trigger: "
            ],
            "metadata": {
                "azdata_cell_guid": "b0457f24-51f7-420d-840a-fc4f1214487d"
            }
        },
        {
            "cell_type": "code",
            "source": [
                "CREATE TRIGGER Trig.TestInsertTrigger \r\n",
                "ON Trig.FirstNames\r\n",
                "AFTER INSERT AS \r\n",
                "BEGIN\r\n",
                "    SET NOCOUNT ON;\r\n",
                "    INSERT INTO Trig.FullNames \r\n",
                "        (FirstName, FirstNameId) \r\n",
                "    SELECT \r\n",
                "        i.FirstName, i.FirstNameId \r\n",
                "    FROM inserted i \r\n",
                "END\r\n",
                "\r\n",
                "GO"
            ],
            "metadata": {
                "azdata_cell_guid": "097d6eb4-db2c-4259-8f70-8a23755c3849"
            },
            "outputs": [],
            "execution_count": 0
        },
        {
            "cell_type": "markdown",
            "source": [
                "If you look at this statement, you will see that it consists of four parts, which we would like to look at now: \r\n",
                "- `CREATE TRIGGER` followed by the name of the trigger defines what kind of object we want to create and what it should be called. \r\n",
                "- `ON` defines the table to which the trigger should react\r\n",
                "- `AFTER INSERT` indicates when the trigger should fire, there is here beside `INSERT` also the possibility to react to `DELETE` or `UPDATE` or to specify combinations of them (separated by commas). A trigger that fires on `INSERT`, `UPDATE` and `DELETE` is a \"touch trigger\" that registers every change to the table. `AFTER INSERT` means that the `TRIGGER` is not executed until all parts of the inserting statement have been successfully completed. \r\n",
                "- Then follows with `BEGIN` and `END` a block which defines what should happen after the `INSERT`. Here you can access the newly inserted or deleted or overwritten values with `inserted` or `deleted`. \r\n",
                " This is how easy you defined your first trigger. Now insert records into the FirstName table:"
            ],
            "metadata": {
                "azdata_cell_guid": "d604ff0a-654f-4689-8df1-19c7081777bf"
            }
        },
        {
            "cell_type": "code",
            "source": [
                "INSERT INTO Trig.FirstNames\r\n",
                "    (FirstName)\r\n",
                "VALUES \r\n",
                "    ('Akasuki'), ('Emiko'), ('Saeko')"
            ],
            "metadata": {
                "azdata_cell_guid": "29c149e1-b4c7-4f18-bca1-f07bcf51ae68"
            },
            "outputs": [],
            "execution_count": 0
        },
        {
            "cell_type": "markdown",
            "source": [
                "If you now query the `FirstNames` table, you will not surprisingly see three entries with the IDs 1, 2 and 3, but the trigger has now written these records to the FullNames table. But here in reverse order, so that \"Saeko\" with the `FirstNameId` 3 has the `FullNameId` 10 while \"Akasuki\" with the `FirstNameId` 1 has the `FullNameId` 30. This is because we had defined our trigger as `AFTER INSERT`, which means that the `TRIGGER` statements are only executed when all three `INSERT`s have been successful. The order in which the records are then inserted into the `FullName` table is left up to the SQL Server, which places the statements fired by the trigger on a LIFO call stack that is processed after the `INSERT` statement is successfully completed. \r\n",
                "Just as we have now defined an `AFTER INSERT` trigger, you can write `INSTEAD OF INSERT` Triggers that intercept and redirect the `INSERT` statement. For this we modify our insert trigger again: "
            ],
            "metadata": {
                "azdata_cell_guid": "d19024d0-f33f-4346-b516-2c823f68a05d"
            }
        },
        {
            "cell_type": "code",
            "source": [
                "ALTER TRIGGER Trig.TestInsertTrigger \r\n",
                "ON Trig.FirstNames\r\n",
                "INSTEAD OF INSERT AS \r\n",
                "BEGIN\r\n",
                "    SET NOCOUNT ON;\r\n",
                "    INSERT INTO Trig.FullNames \r\n",
                "        (FirstName, FirstNameId) \r\n",
                "    SELECT \r\n",
                "        i.FirstName, i.FirstNameId \r\n",
                "    FROM inserted i \r\n",
                "END"
            ],
            "metadata": {
                "azdata_cell_guid": "6381389d-3a0d-4f89-bf89-e03220ae7679"
            },
            "outputs": [],
            "execution_count": 0
        },
        {
            "cell_type": "markdown",
            "source": [
                "Now we add another row to the `FirstName` table:"
            ],
            "metadata": {
                "azdata_cell_guid": "db125e1f-1528-4dcb-a166-389ecc88ec24"
            }
        },
        {
            "cell_type": "code",
            "source": [
                "INSERT INTO Trig.FirstNames\r\n",
                "    (FirstName)\r\n",
                "VALUES \r\n",
                "    ('Sato')"
            ],
            "metadata": {
                "azdata_cell_guid": "c113711c-d2d3-401f-b3ea-8893f19aa71e"
            },
            "outputs": [],
            "execution_count": 0
        },
        {
            "cell_type": "markdown",
            "source": [
                "If you now query the two tables, you will see three entries (\"Akasuki\", \"Emiko\" and \"Saeko\") in the `FirstNames` table, but in the `FullNames` table you will also see the entry of \"Sato\":"
            ],
            "metadata": {
                "azdata_cell_guid": "4082e5b9-bbcd-43b9-b094-d6c5e495f8e9"
            }
        },
        {
            "cell_type": "code",
            "source": [
                "SELECT * FROM Trig.FirstNames\r\n",
                "SELECT * FROM Trig.FullNames"
            ],
            "metadata": {
                "azdata_cell_guid": "98f9cea4-9e73-466a-a1b3-5d053fe9f2a7"
            },
            "outputs": [],
            "execution_count": 0
        },
        {
            "cell_type": "markdown",
            "source": [
                "Important when working with triggers: Since triggers operate line-by-line, they can be fatal for the performance of a database. If a simple `INSERT` results in many other `INSERT`s, the end user cannot understand why. It is therefore recommended that you use `TRIGGER`s sparingly in your databases. \n",
                "\n",
                "Furthermore, the comprehensibility of your application will be considerably reduced if data suddenly appears in table B instead of table A when `INSERT` in table A. However, `INSTEAD OF DELETE` triggers can also be useful if you want to work with IsDeleted flags instead of deleting records, because the `INSTEAD OF DELETE` trigger can prevent accidental deletion of data. Be careful when working with TRIGGERS anyway. \n",
                "## References\n",
                "- [Documentation from Microsoft](https://docs.microsoft.com/de-de/sql/t-sql/statements/create-trigger-transact-sql?view=sql-server-ver15)\n",
                ""
            ],
            "metadata": {
                "azdata_cell_guid": "7cfcaffa-13ec-4f04-b7fd-28c7eee4bf4d"
            }
        }
    ]
}