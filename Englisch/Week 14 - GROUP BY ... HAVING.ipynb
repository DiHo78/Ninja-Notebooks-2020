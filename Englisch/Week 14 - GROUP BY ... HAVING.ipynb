{
    "metadata": {
        "kernelspec": {
            "name": "SQL",
            "display_name": "SQL",
            "language": "sql"
        },
        "language_info": {
            "name": "sql",
            "version": ""
        }
    },
    "nbformat_minor": 2,
    "nbformat": 4,
    "cells": [
        {
            "cell_type": "markdown",
            "source": [
                "# Week 14: GROUP BY... HAVING\r\n",
                "## What's GROUP BY? \r\n",
                "`GROUP BY` and `HAVING` belong to the absolute basics of SQL syntax, but every ninja should also know the basics and not only be familiar with Jutsu, so let's have a look at the construct. A query that aggregates data, for example by making a sum, doesn't always have to make the sum over all rows, it can also make the sum over certain subsets of the table. What these subsets look like is determined by the `GROUP BY` construct. \r\n",
                "## How can you work with GROUP BY?\r\n",
                "To write a query with `GROUP BY`, we take a table from the Wide World Importers database. Suppose we want to find financial figures from the database and we use the `CustomerTransactions` table. We can see a sum of the sales as follows: "
            ],
            "metadata": {
                "azdata_cell_guid": "b89d45b5-7e84-4ea2-9d1e-1e84bbdb6d76"
            }
        },
        {
            "cell_type": "code",
            "source": [
                "SELECT\r\n",
                "       SUM(TransactionAmount)\r\n",
                "      ,SUM(TaxAmount)\r\n",
                "      ,SUM(OutstandingBalance)\r\n",
                "FROM Sales.CustomerTransactions"
            ],
            "metadata": {
                "azdata_cell_guid": "08e61243-3d79-47b4-af66-1cdeab937a1d"
            },
            "outputs": [],
            "execution_count": 0
        },
        {
            "cell_type": "markdown",
            "source": [
                "The result of this query is nice, but not very helpful, because we don't know yet in which period of time the transactions were made, so we have to add the `TransactionDate`: "
            ],
            "metadata": {
                "azdata_cell_guid": "9507ff00-7ea5-4faa-b9ab-687e771ce0c0"
            }
        },
        {
            "cell_type": "code",
            "source": [
                "SELECT\r\n",
                "       SUM([TransactionAmount])\r\n",
                "      ,SUM([TaxAmount])\r\n",
                "      ,SUM([OutstandingBalance])\r\n",
                "      ,[TransactionDate]\r\n",
                "  FROM [Sales].[CustomerTransactions]"
            ],
            "metadata": {
                "azdata_cell_guid": "3c079d80-f232-4852-a918-20f4cf3c8731"
            },
            "outputs": [],
            "execution_count": 0
        },
        {
            "cell_type": "markdown",
            "source": [
                "Here, the database immediately informs us that the `TransactionDate` is not allowed in this query because it does not occur in an aggregating function or a `GROUP BY`: \r\n",
                "\r\n",
                "`Column 'Sales.CustomerTransactions.TransactionDate' is invalid in the select list because it is not contained in either an aggregate function or the GROUP BY clause.`\r\n",
                "\r\n",
                "What does this mean? The server uses the `SUM` aggregation to combine the remaining columns into a single line. Of course we could aggregate the date using the `MIN` or the `MAX` function, but that's not what we want. Instead, we want to aggregate the sales per day. We can then do this using `GROUP BY` as follows: "
            ],
            "metadata": {
                "azdata_cell_guid": "b02775f1-f257-4caa-b4b8-e3af872bc113"
            }
        },
        {
            "cell_type": "code",
            "source": [
                "SELECT\r\n",
                "       SUM([TransactionAmount])\r\n",
                "      ,SUM([TaxAmount])\r\n",
                "      ,SUM([OutstandingBalance])\r\n",
                "      ,[TransactionDate]\r\n",
                "  FROM [Sales].[CustomerTransactions]\r\n",
                "  GROUP BY [TransactionDate]"
            ],
            "metadata": {
                "azdata_cell_guid": "d0e8bcaa-f1ea-4aac-a6b3-eef1261e3fdc",
                "tags": []
            },
            "outputs": [],
            "execution_count": 0
        },
        {
            "cell_type": "markdown",
            "source": [
                "Here we now receive, as requested, the turnover broken down to individual days. We can also sort by days:"
            ],
            "metadata": {
                "azdata_cell_guid": "d9cfccdd-e09a-454f-a258-a3f23dea4f81"
            }
        },
        {
            "cell_type": "code",
            "source": [
                "SELECT\r\n",
                "       SUM([TransactionAmount])\r\n",
                "      ,SUM([TaxAmount])\r\n",
                "      ,SUM([OutstandingBalance])\r\n",
                "      ,[TransactionDate]\r\n",
                "  FROM [Sales].[CustomerTransactions]\r\n",
                "  GROUP BY [TransactionDate]\r\n",
                "  ORDER BY [TransactionDate]"
            ],
            "metadata": {
                "azdata_cell_guid": "32cdc2b8-3c6a-4c32-aa90-dbc3c1cbf73c"
            },
            "outputs": [],
            "execution_count": 0
        },
        {
            "cell_type": "markdown",
            "source": [
                "Of course, we could also sort only by columns that are contained in the output and thus either in an aggregating function or in a `GROUP BY` construct. \r\n",
                "What is possible, however, is to display only the year from the `TransactionDate`:"
            ],
            "metadata": {
                "azdata_cell_guid": "bf3a5e51-3790-4df8-9526-d90d77f5663b"
            }
        },
        {
            "cell_type": "code",
            "source": [
                " SELECT\r\n",
                "       SUM([TransactionAmount]) as [TransactionAmount]\r\n",
                "      ,SUM([TaxAmount]) as [TaxAmount]\r\n",
                "      ,SUM([OutstandingBalance]) as [OutstandingBalance]\r\n",
                "      ,DATEPART(YEAR, [TransactionDate]) as [Year]\r\n",
                "  FROM [Sales].[CustomerTransactions]\r\n",
                "  GROUP BY [TransactionDate]\r\n",
                "  ORDER BY [TransactionDate]"
            ],
            "metadata": {
                "azdata_cell_guid": "33b86366-160b-4bb7-9ddf-05bf07b06694"
            },
            "outputs": [],
            "execution_count": 0
        },
        {
            "cell_type": "markdown",
            "source": [
                "However, the result here is not quite the desired one. A line still appears for each day of the year, but the year column only contains the year of the respective date. To get year totals here, we have to group (and sort) by the years: "
            ],
            "metadata": {
                "azdata_cell_guid": "1e9083f2-e567-40b9-8005-ce02dacced09"
            }
        },
        {
            "cell_type": "code",
            "source": [
                "SELECT\r\n",
                "       SUM([TransactionAmount]) as [TransactionAmount]\r\n",
                "      ,SUM([TaxAmount]) as [TaxAmount]\r\n",
                "      ,SUM([OutstandingBalance]) as [OutstandingBalance]\r\n",
                "      ,DATEPART(YEAR, [TransactionDate]) as [Year]\r\n",
                "  FROM [Sales].[CustomerTransactions]\r\n",
                "  GROUP BY DATEPART(YEAR, [TransactionDate])\r\n",
                "  ORDER BY DATEPART(YEAR, [TransactionDate])"
            ],
            "metadata": {
                "azdata_cell_guid": "c786898c-4224-44ba-89f0-138bc70aabd2"
            },
            "outputs": [],
            "execution_count": 0
        },
        {
            "cell_type": "markdown",
            "source": [
                "So what's the \"having\" about? That's also relatively simple. Let's start by calculating monthly sums: "
            ],
            "metadata": {
                "azdata_cell_guid": "b6d02653-08ee-4b47-ad10-79d57ca8ec88"
            }
        },
        {
            "cell_type": "code",
            "source": [
                "SELECT\r\n",
                "       SUM([TransactionAmount]) as [TransactionAmount]\r\n",
                "      ,SUM([TaxAmount]) as [TaxAmount]\r\n",
                "      ,SUM([OutstandingBalance]) as [OutstandingBalance]\r\n",
                "      ,DATEPART(MONTH, [TransactionDate]) as [Month] \r\n",
                "      ,DATEPART(YEAR, [TransactionDate]) as [Year]\r\n",
                "  FROM [Sales].[CustomerTransactions]\r\n",
                "  GROUP BY DATEPART(YEAR, [TransactionDate]), DATEPART(MONTH, [TransactionDate])\r\n",
                "  ORDER BY DATEPART(YEAR, [TransactionDate]), DATEPART(MONTH, [TransactionDate])"
            ],
            "metadata": {
                "azdata_cell_guid": "02148ae0-2cd1-42ce-a682-570df6dd4572"
            },
            "outputs": [],
            "execution_count": 0
        },
        {
            "cell_type": "markdown",
            "source": [
                "In the query you will see that it is possible to group by multiple columns. With this query, it is not possible to omit one of the two groupings... \r\n",
                "\r\n",
                "If you now want to restrict this query to see only the year 2016, you can do so with a `WHERE` condition:\r\n",
                ""
            ],
            "metadata": {
                "azdata_cell_guid": "2aef64ac-41cc-4412-8f5b-80b0ebcbc19e"
            }
        },
        {
            "cell_type": "code",
            "source": [
                "SELECT\r\n",
                "       SUM([TransactionAmount]) as [TransactionAmount]\r\n",
                "      ,SUM([TaxAmount]) as [TaxAmount]\r\n",
                "      ,SUM([OutstandingBalance]) as [OutstandingBalance]\r\n",
                "      ,DATEPART(MONTH, [TransactionDate]) as [Month] \r\n",
                "      ,DATEPART(YEAR, [TransactionDate]) as [Year]\r\n",
                "  FROM [Sales].[CustomerTransactions]\r\n",
                "  WHERE DATEPART(YEAR, [TransactionDate]) = 2016\r\n",
                "  GROUP BY DATEPART(YEAR, [TransactionDate]), DATEPART(MONTH, [TransactionDate])\r\n",
                "  ORDER BY DATEPART(YEAR, [TransactionDate]), DATEPART(MONTH, [TransactionDate])"
            ],
            "metadata": {
                "azdata_cell_guid": "3258f734-a0b5-47a0-9590-a18d2b218d18"
            },
            "outputs": [],
            "execution_count": 0
        },
        {
            "cell_type": "markdown",
            "source": [
                "But what if you only want to find the months where the OutstandingBalance is not zero? This no longer works with the `WHERE` condition, since aggregating functions are not allowed in the `WHERE` condition: "
            ],
            "metadata": {
                "azdata_cell_guid": "12387df3-d8f1-4d4f-99f0-314e659a0db9"
            }
        },
        {
            "cell_type": "code",
            "source": [
                "SELECT\r\n",
                "       SUM([TransactionAmount]) as [TransactionAmount]\r\n",
                "      ,SUM([TaxAmount]) as [TaxAmount]\r\n",
                "      ,SUM([OutstandingBalance]) as [OutstandingBalance]\r\n",
                "      ,DATEPART(MONTH, [TransactionDate]) as [Month] \r\n",
                "      ,DATEPART(YEAR, [TransactionDate]) as [Year]\r\n",
                "  FROM [Sales].[CustomerTransactions]\r\n",
                "  WHERE SUM([OutstandingBalance]) <> 0 \r\n",
                "  GROUP BY DATEPART(YEAR, [TransactionDate]), DATEPART(MONTH, [TransactionDate])\r\n",
                "  ORDER BY DATEPART(YEAR, [TransactionDate]), DATEPART(MONTH, [TransactionDate])"
            ],
            "metadata": {
                "azdata_cell_guid": "cec17588-b47e-4dae-8c3b-d1df72dd1c5a"
            },
            "outputs": [],
            "execution_count": 0
        },
        {
            "cell_type": "markdown",
            "source": [
                "The server now reports: \r\n",
                "`An aggregate may only appear in the WHERE clause if it is contained in a subquery in a HAVING clause or a select list and the column to be aggregated is an external reference.`\r\n",
                "\r\n",
                "The error message immediately gives the appropriate hint here: `HAVING` is the magic word we need: \r\n",
                ""
            ],
            "metadata": {
                "azdata_cell_guid": "61949391-d202-42a5-977b-6d83502cb6b0"
            }
        },
        {
            "cell_type": "code",
            "source": [
                "SELECT\r\n",
                "       SUM([TransactionAmount]) as [TransactionAmount]\r\n",
                "      ,SUM([TaxAmount]) as [TaxAmount]\r\n",
                "      ,SUM([OutstandingBalance]) as [OutstandingBalance]\r\n",
                "      ,DATEPART(MONTH, [TransactionDate]) as [Month] \r\n",
                "      ,DATEPART(YEAR, [TransactionDate]) as [Year]\r\n",
                "  FROM [Sales].[CustomerTransactions]\r\n",
                "  GROUP BY DATEPART(YEAR, [TransactionDate]), DATEPART(MONTH, [TransactionDate])\r\n",
                "  HAVING SUM([OutstandingBalance]) <> 0 \r\n",
                "  ORDER BY DATEPART(YEAR, [TransactionDate]), DATEPART(MONTH, [TransactionDate])"
            ],
            "metadata": {
                "azdata_cell_guid": "34144df5-4aae-489f-bee8-c16e5c326679"
            },
            "outputs": [],
            "execution_count": 0
        },
        {
            "cell_type": "markdown",
            "source": [
                "For the old, experienced ninjas among you, this may come as little surprise, but we have seen many young warriors fail to formulate an aggregated query correctly... They should also remember the order of `SELECT` ... `FROM` ... `GROUP BY` ... `HAVING` ... `ORDER BY` \r\n",
                "\r\n",
                " ### References\r\n",
                "- [Official Documentation from Microsoft](https://docs.microsoft.com/de-de/sql/t-sql/queries/select-having-transact-sql?view=sql-server-2017)"
            ],
            "metadata": {
                "azdata_cell_guid": "1fe28f79-f0d7-4462-aad5-14706d4bdc02"
            }
        }
    ]
}