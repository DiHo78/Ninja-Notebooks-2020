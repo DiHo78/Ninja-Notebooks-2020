{
    "metadata": {
        "kernelspec": {
            "name": "SQL",
            "display_name": "SQL",
            "language": "sql"
        },
        "language_info": {
            "name": "sql",
            "version": ""
        }
    },
    "nbformat_minor": 2,
    "nbformat": 4,
    "cells": [
        {
            "cell_type": "markdown",
            "source": [
                "# Week 9: Statistics IO\r\n",
                "\r\n",
                "## What is STATISTICS IO? \r\n",
                "\"Yoo-hoo, ninja, I have this query, it's really slow, it wasn't like that yesterday, for sure\". With queries like this one every ninja will be surprised sooner or later and this proves that the other users have certain ninja skills, too, because you are certainly never prepared for this situation. So what to do? Of course we'll see what the query does. First search for victims in the Execution Plan, but how much data is read at all? The Katana that decomposes this question is STATISTICS IO.  \r\n",
                "## How can you work with STATISTICS IO?\r\n",
                "If you want to see how many disk accesses a query causes, you can get this information by sending a `SET STATISTICS IO ON` before the query. What you will then see is a set of information that we would like to explore a bit in the following. \r\n",
                "Let's use the statistics to query the `StockItems` table in the Wide World Importers database: "
            ],
            "metadata": {
                "azdata_cell_guid": "512b3daa-074a-43f2-991a-b620e12a383d"
            }
        },
        {
            "cell_type": "code",
            "source": [
                "SET STATISTICS IO ON\r\n",
                "SELECT \r\n",
                "       [StockItemID]\r\n",
                "      ,[StockItemName]\r\n",
                "      ,[UnitPrice]\r\n",
                "FROM [Warehouse].[StockItems]"
            ],
            "metadata": {
                "azdata_cell_guid": "6ccee348-ac1d-42be-b406-e4322fc1e76c"
            },
            "outputs": [],
            "execution_count": 0
        },
        {
            "cell_type": "markdown",
            "source": [
                "In addition to the results, the Messages tab also contains information about the execution: \r\n",
                "\r\n",
                "`Table 'StockItems'. Scan count 1, logical reads 16, physical reads 0, read-ahead reads 0, lob logical reads 0, lob physical reads 0, lob read-ahead reads 0.`\r\n",
                "\r\n",
                "If we now break down this information, we see that the table has been scanned once, which is not surprising given that we are querying the entire table. We also learn that 16 _logical reads_ have taken place. This means that there were 16 data pages in the query that the server read from the cache. The physical reads are data pages that were read from disk for the query, so they were not in the cache.\r\n",
                "Now let's restrict the result set a bit: "
            ],
            "metadata": {
                "azdata_cell_guid": "accabe2a-d4de-482b-8e78-a2616a9c925d"
            }
        },
        {
            "cell_type": "code",
            "source": [
                "SET STATISTICS IO ON\r\n",
                "SELECT \r\n",
                "       [StockItemID]\r\n",
                "      ,[StockItemName]\r\n",
                "      ,[UnitPrice]\r\n",
                "FROM [Warehouse].[StockItems]\r\n",
                "WHERE UnitPrice > 50.0"
            ],
            "metadata": {
                "azdata_cell_guid": "14f7fc4f-456a-4b4b-9a95-859e1139ac7c"
            },
            "outputs": [],
            "execution_count": 0
        },
        {
            "cell_type": "markdown",
            "source": [
                "Here we also see the information that 16 database pages have been read: `Table 'StockItems'. Scan count 1, logical reads 16, physical reads 0, read-ahead reads 0, lob logical reads 0, lob physical reads 0, lob read-ahead reads 0.`\r\n",
                " \r\n",
                "Why is that, now that we only get 23 lines back? This is because UnitPrice is not an index column, so we still have to read every database page to find out whether a row is included in the result set or not. \r\n",
                "It looks different if we restrict to an index column: "
            ],
            "metadata": {
                "azdata_cell_guid": "a37de956-05b1-4dd2-a542-fd53c0cd53c1"
            }
        },
        {
            "cell_type": "code",
            "source": [
                "SET STATISTICS IO ON\r\n",
                "SELECT \r\n",
                "       [StockItemID]\r\n",
                "      ,[StockItemName]\r\n",
                "      ,[UnitPrice]\r\n",
                "FROM [Warehouse].[StockItems]\r\n",
                "WHERE StockItemID = 150"
            ],
            "metadata": {
                "azdata_cell_guid": "68ff5423-d5b7-46db-a5e9-16adc289abad"
            },
            "outputs": [],
            "execution_count": 0
        },
        {
            "cell_type": "markdown",
            "source": [
                "This time, to find the entry we are interested in, not all data pages of the table had to be read, but only  2: \r\n",
                "\r\n",
                "`Table 'StockItems'. Scan count 0, logical reads 2, physical reads 0, read-ahead reads 0, lob logical reads 0, lob physical reads 0, lob read-ahead reads 0.`\r\n",
                "\r\n",
                "Accordingly, there is no scan here and we see a scan count of 0. The two pages that had to be read are the two index levels of the primary key. \r\n",
                "But when do we see more than 1 scan? Therefore we look at the following query:"
            ],
            "metadata": {
                "azdata_cell_guid": "dce574c1-b688-4bf8-81aa-bdc058ac20c5"
            }
        },
        {
            "cell_type": "code",
            "source": [
                "SET STATISTICS IO ON\r\n",
                "SELECT \r\n",
                "       [StockItemID]\r\n",
                "      ,[StockItemName]\r\n",
                "      ,[UnitPrice]\r\n",
                "FROM [Warehouse].[StockItems]\r\n",
                "WHERE StockItemID = 150 or StockItemID = 120"
            ],
            "metadata": {
                "azdata_cell_guid": "d04a02d1-b59f-4398-b876-7c936af20b08"
            },
            "outputs": [],
            "execution_count": 0
        },
        {
            "cell_type": "markdown",
            "source": [
                "Here, the correct line must be searched for twice using the primary key. And while the execution plan here shows an Index Seek, in Statistics IO we see two scan processes. \r\n",
                "\r\n",
                "__SCREENSHOT__\r\n",
                "\r\n",
                "This apparent contradiction is one that is based on pure naming only, since according to the documentation, the scan count is defined as follows: \"The number of searches or scans started in any direction after reaching the sheet level to retrieve all values to create the last dataset for output.\"\r\n",
                "\r\n",
                "Finally we come back to the search for the price, let's create an index here now: "
            ],
            "metadata": {
                "azdata_cell_guid": "c63c0605-137a-4bdf-ac92-05ea74ecb54b"
            }
        },
        {
            "cell_type": "code",
            "source": [
                "BEGIN TRY DROP INDEX idx_StockItemUnitPrice ON [Warehouse].[StockItems] END TRY BEGIN CATCH END CATCH \r\n",
                "CREATE NONCLUSTERED INDEX idx_StockItemUnitPrice \r\n",
                "ON [Warehouse].[StockItems] (UnitPrice) \r\n",
                "INCLUDE ([StockItemID], [StockItemName])"
            ],
            "metadata": {
                "azdata_cell_guid": "796d6b6e-fc09-4814-89c8-5e1036722553"
            },
            "outputs": [],
            "execution_count": 0
        },
        {
            "cell_type": "markdown",
            "source": [
                "Since this index contains all columns needed to answer the query, only the index needs to be accessed here. Of course we see this in our IO statistics: \r\n",
                "\r\n",
                "`Table 'StockItems'. Scan count 1, logical reads 2, physical reads 0, read-ahead reads 0, lob logical reads 0, lob physical reads 0, lob read-ahead reads 0.`\r\n",
                "\r\n",
                "For this simple query with our index, we have reduced the number of reads from 16 to 2 database pages, that is, by 87%. However, optimizing the number of reads for different queries is a science in itself, which would go beyond a simple ninja contribution. Here the ninja bows in fear towards the great ninja master Uwe Ricken-San, in whose [Blog](https://www.db-berater.de/sql-server-blog/) you can find more detailed information on this topic.\r\n",
                "\r\n",
                "### References\r\n",
                "- [Official Documentation from Microsoft](https://docs.microsoft.com/de-de/sql/t-sql/statements/set-statistics-io-transact-sql?view=sql-server-2017)"
            ],
            "metadata": {
                "azdata_cell_guid": "51091808-ce74-4978-aec4-775fc84e83d6"
            }
        }
    ]
}