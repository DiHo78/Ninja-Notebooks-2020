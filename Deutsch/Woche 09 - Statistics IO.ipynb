{
    "metadata": {
        "kernelspec": {
            "name": "SQL",
            "display_name": "SQL",
            "language": "sql"
        },
        "language_info": {
            "name": "sql",
            "version": ""
        }
    },
    "nbformat_minor": 2,
    "nbformat": 4,
    "cells": [
        {
            "cell_type": "markdown",
            "source": [
                "# Woche 9: Statistics IO\r\n",
                "\r\n",
                "### Was ist STATISTICS IO? \r\n",
                "\"Duuuhuuu, Ninja, ich hab da so ne Abfrage, die ist total langsam, gestern war das noch nicht so, ganz sicher\". Mit Anfragen wie dieser wird jeder Ninja früher oder später überrascht und das beweist, dass auch die anderen User gewisse Ninja-Skills haben, denn auf diese Situation vorbereitet ist man mit Sicherheit nie. Was also tun? Natürlich mal schauen, was die Abfrage so macht. Zuerst im Execution Plan nach Opfern suchen, doch wieviele Daten werden überhaupt gelesen? Das Katana, das diese Frage zerlegt, ist STATISTICS IO.  \r\n",
                "### Wie könnt ihr mit STATISTICS IO arbeiten?\r\n",
                "Wenn ihr sehen wollt, wie viele Zugriffe auf die Festplatte eine Abfrage verursacht, dann könnt ihr diese Information erlangen, indem ihr vor der Abfrage ein `SET STATISTICS IO ON` abschickt. Was ihr dann seht ist eine Reihe von Informationen, die wir im Folgenden ein wenig untersuchen möchten. \r\n",
                "Fragen wir dafür nun mit den Statistiken die `StockItems`-Tabelle in der Wide World Importers Datenbank ab: \r\n",
                ""
            ],
            "metadata": {
                "azdata_cell_guid": "512b3daa-074a-43f2-991a-b620e12a383d"
            }
        },
        {
            "cell_type": "code",
            "source": [
                "SET STATISTICS IO ON\r\n",
                "SELECT \r\n",
                "       [StockItemID]\r\n",
                "      ,[StockItemName]\r\n",
                "      ,[UnitPrice]\r\n",
                "FROM [Warehouse].[StockItems]"
            ],
            "metadata": {
                "azdata_cell_guid": "6ccee348-ac1d-42be-b406-e4322fc1e76c"
            },
            "outputs": [],
            "execution_count": 0
        },
        {
            "cell_type": "markdown",
            "source": [
                "Neben den Resultaten erhalten wir im Messages-Reiter noch Informationen über die Ausführung: \r\n",
                "\r\n",
                "`Table 'StockItems'. Scan count 1, logical reads 16, physical reads 0, read-ahead reads 0, lob logical reads 0, lob physical reads 0, lob read-ahead reads 0.`\r\n",
                "\r\n",
                "Zerlegen wir nun diese Informationen, so sehen wir, dass die Tabelle einmal gescannt wurde, was angesichts der Tatsache, dass wir die gesamte Tabelle abfragen wenig überraschend ist. Darüber hinaus erfahren wir, dass 16 _logische Reads_ stattgefunden haben. Damit ist gemeint, dass es 16 Datenseiten in der Abfrage gab, die der Server aus dem Cache gelesen hat. Die Physical Reads sind Datenseiten, die für die Abfrage von der Festplatte gelesen wurden, also nicht im Cache vorhanden waren.\r\n",
                "Schränken wir nun die Ergebnismenge etwas ein: \r\n",
                ""
            ],
            "metadata": {
                "azdata_cell_guid": "accabe2a-d4de-482b-8e78-a2616a9c925d"
            }
        },
        {
            "cell_type": "code",
            "source": [
                "SET STATISTICS IO ON\r\n",
                "SELECT \r\n",
                "       [StockItemID]\r\n",
                "      ,[StockItemName]\r\n",
                "      ,[UnitPrice]\r\n",
                "FROM [Warehouse].[StockItems]\r\n",
                "WHERE UnitPrice > 50.0"
            ],
            "metadata": {
                "azdata_cell_guid": "14f7fc4f-456a-4b4b-9a95-859e1139ac7c"
            },
            "outputs": [],
            "execution_count": 0
        },
        {
            "cell_type": "markdown",
            "source": [
                "Auch hier sehen wir die Information, dass 16 Datenbankseiten gelesen wurden:\r\n",
                " `Table 'StockItems'. Scan count 1, logical reads 16, physical reads 0, read-ahead reads 0, lob logical reads 0, lob physical reads 0, lob read-ahead reads 0.`\r\n",
                " \r\n",
                "Warum ist das so, wo wir nun doch nur noch 23 Zeilen zurückbekommen? Das liegt daran, dass der UnitPrice keine Index-Spalte ist, deshalb muss noch immer jede Datenbankseite gelesen werden, um herauszufinden, ob eine Zeile in der Ergebnismenge enthalten ist oder nicht. \r\n",
                "Anders sieht das aus, wenn wir auf eine Index-Spalte einschränken: \r\n",
                ""
            ],
            "metadata": {
                "azdata_cell_guid": "a37de956-05b1-4dd2-a542-fd53c0cd53c1"
            }
        },
        {
            "cell_type": "code",
            "source": [
                "SET STATISTICS IO ON\r\n",
                "SELECT \r\n",
                "       [StockItemID]\r\n",
                "      ,[StockItemName]\r\n",
                "      ,[UnitPrice]\r\n",
                "FROM [Warehouse].[StockItems]\r\n",
                "WHERE StockItemID = 150"
            ],
            "metadata": {
                "azdata_cell_guid": "68ff5423-d5b7-46db-a5e9-16adc289abad"
            },
            "outputs": [],
            "execution_count": 0
        },
        {
            "cell_type": "markdown",
            "source": [
                "Dieses Mal mussten, um den Eintrag zu finden für den wir uns interessieren nicht alle Datenseiten der Tabelle gelesen werden, sondern nur \r\n",
                "\r\n",
                "`2: Table 'StockItems'. Scan count 0, logical reads 2, physical reads 0, read-ahead reads 0, lob logical reads 0, lob physical reads 0, lob read-ahead reads 0.` \r\n",
                "\r\n",
                "Dementsprechend liegt hier auch kein Scan mehr vor und wir sehen einen Scan count von 0. Die zwei Seiten, die gelesen werden mussten, sind dabei die beiden Index-Ebenen des Primärschlüssels. \r\n",
                "Doch wann sehen wir nun mehr als 1 Scan? Dafür sehen wir uns folgende Abfrage einmal an:"
            ],
            "metadata": {
                "azdata_cell_guid": "dce574c1-b688-4bf8-81aa-bdc058ac20c5"
            }
        },
        {
            "cell_type": "code",
            "source": [
                "SET STATISTICS IO ON\r\n",
                "SELECT \r\n",
                "       [StockItemID]\r\n",
                "      ,[StockItemName]\r\n",
                "      ,[UnitPrice]\r\n",
                "FROM [Warehouse].[StockItems]\r\n",
                "WHERE StockItemID = 150 or StockItemID = 120"
            ],
            "metadata": {
                "azdata_cell_guid": "d04a02d1-b59f-4398-b876-7c936af20b08"
            },
            "outputs": [],
            "execution_count": 0
        },
        {
            "cell_type": "markdown",
            "source": [
                "Hier muss zweimal über den Primärschlüssel die richtige Zeile gesucht werden. Und während der Ausführungsplan hier einen Index Seek zeigt, sehen wir in Statistics IO zwei Scan-Vorgänge. \r\n",
                "\r\n",
                "__SCREENSHOT__\r\n",
                "\r\n",
                "Dieser scheinbare Wiederspruch ist einer, der nur im reinen Naming begründet ist, da die Scan-Anzahl laut der Doku wie folgt definiert ist: \"Die Anzahl von Suchen oder Scans, die nach Erreichen der Blattebene in beliebiger Richtung gestartet wurden, um alle Werte zum Erstellen des letzten Datasets für die Ausgabe abzurufen.\"\r\n",
                "\r\n",
                "Zum Schluss kommen wir noch einmal zur Suche nach dem Preis zurück, legen wir hier jetzt einen Index an: "
            ],
            "metadata": {
                "azdata_cell_guid": "c63c0605-137a-4bdf-ac92-05ea74ecb54b"
            }
        },
        {
            "cell_type": "code",
            "source": [
                "BEGIN TRY DROP INDEX idx_StockItemUnitPrice ON [Warehouse].[StockItems] END TRY BEGIN CATCH END CATCH \r\n",
                "CREATE NONCLUSTERED INDEX idx_StockItemUnitPrice \r\n",
                "ON [Warehouse].[StockItems] (UnitPrice) \r\n",
                "INCLUDE ([StockItemID], [StockItemName])"
            ],
            "metadata": {
                "azdata_cell_guid": "796d6b6e-fc09-4814-89c8-5e1036722553"
            },
            "outputs": [],
            "execution_count": 0
        },
        {
            "cell_type": "markdown",
            "source": [
                "Da dieser Index alle zur Beantwortung der Abfrage benötigten Spalten enthält, muss hier nur noch auf den Index zugegriffen werden. Das sehen wir natürlich auch in unseren IO Statistiken: \r\n",
                "\r\n",
                "`Table 'StockItems'. Scan count 1, logical reads 2, physical reads 0, read-ahead reads 0, lob logical reads 0, lob physical reads 0, lob read-ahead reads 0.`\r\n",
                "\r\n",
                "Wir haben für diese einfache Abfrage mit unserem Index die Anzahl der Reads also von 16 auf 2 Datenbankseiten, also um 87% reduziert. Die Anzahl der Reads für verschiedene Abfragen zu optimieren ist allerdings eine Wissenschaft für sich, die einen einfachen Ninja-Beitrag sprengen würde. Hier verneigt der Ninja sich in Erfurcht in Richtung des großen Ninja-Meisters Uwe Ricken-San, in dessen [Blog](https://www.db-berater.de/sql-server-blog/) sich reihenweise tiefergehende Informationen zu diesem Thema befinden.\r\n",
                "\r\n",
                "### Referenzen\r\n",
                "- [Offizielle Dokumentation von Microsoft](https://docs.microsoft.com/de-de/sql/t-sql/statements/set-statistics-io-transact-sql?view=sql-server-2017)"
            ],
            "metadata": {
                "azdata_cell_guid": "51091808-ce74-4978-aec4-775fc84e83d6"
            }
        }
    ]
}