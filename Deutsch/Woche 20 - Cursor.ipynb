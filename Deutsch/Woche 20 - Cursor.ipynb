{
    "metadata": {
        "kernelspec": {
            "name": "SQL",
            "display_name": "SQL",
            "language": "sql"
        },
        "language_info": {
            "name": "sql",
            "version": ""
        }
    },
    "nbformat_minor": 2,
    "nbformat": 4,
    "cells": [
        {
            "cell_type": "markdown",
            "source": [
                "# Woche 20: Cursor\r\n",
                "## Was sind Cursor?\r\n",
                "In den letzten beiden Wochen hattet ihr im Dojo das `WHILE`-Statement kennengelernt und angewendet um Batches von Zeilen zu löschen. Wir hatten euch dabei den Warnhinweis gegeben, dass der SQL Server (so wie fast jede relationale Datenbankengine) primär darauf ausgelegt ist, mit Datenmengen, also mit mehreren Zeilen zu operieren. Doch was ist, wenn ihr wirklich aus irgendwelchen Gründen gezwungen seid, einzelne Zeilen einer Ergebnismenge zu verarbeiten? Einige unserer `WHILE`-Konstrukte haben bereits genau das getan und einige von euch werden zusammengezuckt sein und die Seite instinktiv geschlossen haben. Wenn ihr das seid, könnt ihr das für diese Woche auch tun, denn heute behandeln wir `CURSOR`. Einen `CURSOR` könnt ihr euch wie einen Zeiger vorstellen, der auf die erste Zeile der Ergebnismenge zeigt und den ihr immer eine Zeile weiter springen lassen könnt. \r\n",
                "\r\n",
                "## Wie könnt ihr mit Cursorn arbeiten?\r\n",
                "Um einen Cursor zu definieren, müsst ihr zunächst eine Variable definieren, die die Zeile hält. Das tut ihr, indem ihr eine Variable deklariert, die als Typ `CURSOR FOR` euer `SELECT` Statement ist. Schreiben wir also zunächst ein Statement, das uns eine Ergebnismenge liefert, über die wir sinnvollerweise iterieren können. Nehmen wir beispielsweise einmal die Menge der Datenbanken auf unserem Server: "
            ],
            "metadata": {
                "azdata_cell_guid": "714b3f6b-5097-49ee-becc-8878202b7d5b"
            }
        },
        {
            "cell_type": "code",
            "source": [
                "USE master; \r\n",
                "\r\n",
                "SELECT [name] \r\n",
                "FROM dbo.sysdatabases"
            ],
            "metadata": {
                "azdata_cell_guid": "32f99e22-9529-433c-abb6-2abadfeedc78"
            },
            "outputs": [],
            "execution_count": 0
        },
        {
            "cell_type": "markdown",
            "source": [
                "Nun wollen wir über diese Ergebnismenge iterieren und für jede Datenbank eine sinnvolle Operation durchführen. Wir hatten etwas ähnliches vor zwei Wochen schon getan, als wir über alle Indexe einer Datenbank iterieren wollten. Damals hatten wir immer mit `TOP(1)` die erste Zeile ausgewählt und aus der Ergebnismenge gelöscht. Heute gehen wir anders vor und definieren uns einen `CURSOR` um über die Ergebnismenge zu iterieren. Konkret könnte das wie folgt aussehen: "
            ],
            "metadata": {
                "azdata_cell_guid": "acd8c385-f078-40b4-af5a-1b1a6290fbcf"
            }
        },
        {
            "cell_type": "code",
            "source": [
                "DECLARE my_cursor \r\n",
                "CURSOR FOR \r\n",
                "SELECT [name] \r\n",
                "FROM dbo.sysdatabases"
            ],
            "metadata": {
                "azdata_cell_guid": "84b54fc8-64da-4e39-8198-1f9bad3539ca"
            },
            "outputs": [],
            "execution_count": 0
        },
        {
            "cell_type": "markdown",
            "source": [
                "Nun müssen wir die Abfrage ausführen und den Cursor auf die erste Zeile der Ergebnismenge setzen, dafür definieren wir zunächst eine Variable, die das Ergebnis hält:"
            ],
            "metadata": {
                "azdata_cell_guid": "11663d1b-3f1e-4039-93ab-725913bc64d5"
            }
        },
        {
            "cell_type": "code",
            "source": [
                "DECLARE @name varchar(255)"
            ],
            "metadata": {
                "azdata_cell_guid": "804af166-837b-4b71-876c-c6de06d6d149"
            },
            "outputs": [],
            "execution_count": 0
        },
        {
            "cell_type": "markdown",
            "source": [
                "Nun können wir den Cursor öffnen und die nächste Zeile in die Variable schreiben (wenn euer Select mehreren Spalten enthält, könnt ihr jede auf eine eigene Variable mappen)."
            ],
            "metadata": {
                "azdata_cell_guid": "1d597e65-c18f-498d-8e63-b9971d3fb598"
            }
        },
        {
            "cell_type": "code",
            "source": [
                "OPEN my_cursor  \r\n",
                "FETCH NEXT FROM my_cursor INTO @name"
            ],
            "metadata": {
                "azdata_cell_guid": "c8a5f26b-b290-4450-b470-a21a1acadde6"
            },
            "outputs": [],
            "execution_count": 0
        },
        {
            "cell_type": "markdown",
            "source": [
                "Um nun eine Zeile nach der anderen in die Variable zu lesen, verwenden wir wieder eine `WHILE`-Schleife. Die Schleifenbedingung ist dabei, dass noch eine Zeile vom Cursor gelesen werden konnte. Das sieht dann wie folgt aus: "
            ],
            "metadata": {
                "azdata_cell_guid": "8d8f808f-68d6-4070-b401-ca74b146076a"
            }
        },
        {
            "cell_type": "code",
            "source": [
                "WHILE @@FETCH_STATUS = 0  \r\n",
                "BEGIN  \r\n",
                "      FETCH NEXT FROM my_cursor INTO @name \r\n",
                "END "
            ],
            "metadata": {
                "azdata_cell_guid": "998decc5-a21c-48b8-bbf9-0883b1e5f886"
            },
            "outputs": [],
            "execution_count": 0
        },
        {
            "cell_type": "markdown",
            "source": [
                "Wenn ihr damit fertig seid, müsst ihr den `CURSOR` zunächst schließen, also dafür sorgen, dass er nicht mehr auf eine Ergebnismenge zeigt und ihn dann löschen, was über den Befehl `DEALLOCATE` geht: "
            ],
            "metadata": {
                "azdata_cell_guid": "4cfd76f8-60b2-4230-bdac-865f97f9e335"
            }
        },
        {
            "cell_type": "code",
            "source": [
                "CLOSE my_cursor  \r\n",
                "DEALLOCATE my_cursor "
            ],
            "metadata": {
                "azdata_cell_guid": "b5f7a6ef-b1cc-4b79-b5a3-951f7d6afd44"
            },
            "outputs": [],
            "execution_count": 0
        },
        {
            "cell_type": "markdown",
            "source": [
                "In der Schleife könnt ihr nun mit dem Datenbanknamen, der in `@name` gespeichert ist, tun was ihr möchtet. Ihr könnt beispielsweise Backups aller Datenbanken erstellen. In Gänze sähe der Code dafür so aus: "
            ],
            "metadata": {
                "azdata_cell_guid": "17e6fa47-7762-413f-a26b-d0a341c9a29d"
            }
        },
        {
            "cell_type": "code",
            "source": [
                "DECLARE @name varchar(255)\r\n",
                "DECLARE @backuppath varchar(255)\r\n",
                "DECLARE @backupfullfile varchar(510)\r\n",
                "\r\n",
                "SET @backuppath = '~/'\r\n",
                "\r\n",
                "OPEN my_cursor  \r\n",
                "FETCH NEXT FROM my_cursor INTO @name  \r\n",
                "\r\n",
                "WHILE @@FETCH_STATUS = 0  \r\n",
                "BEGIN  \r\n",
                "    SET @backupfullfile = @backuppath+@name+'.bak'\r\n",
                "    BACKUP DATABASE @name TO DISK =  @backupfullfile\r\n",
                "    FETCH NEXT FROM my_cursor INTO @name \r\n",
                "END \r\n",
                "\r\n",
                "CLOSE my_cursor  \r\n",
                "DEALLOCATE my_cursor "
            ],
            "metadata": {
                "azdata_cell_guid": "d00f9ff9-fb9b-4c1b-bf0f-b567a66cecdb"
            },
            "outputs": [],
            "execution_count": 0
        },
        {
            "cell_type": "markdown",
            "source": [
                "Der Sicherheit halber sei hier nochmals gewarnt: anders als ein Katana ist ein `CURSOR` ein zweischneidiges Schwert. Einerseits ermöglicht er es euch, viele Dinge, gerade im Bereich der Wartung von Datenbanken mehrfach auszuführen, andererseits ist genau dieses zeilenweise Vorgehen eben keine Effiziente Art in relationalen Datenbanksystemen zu Arbeiten. Doch wenn euch das bewusst ist, könnt ihr über `CURSOR`s viele eurer täglichen Aufgaben automatisieren…  \n",
                "## Referenzen\n",
                "- [Dokumentation von Microsoft](https://docs.microsoft.com/de-de/sql/t-sql/language-elements/declare-cursor-transact-sql?view=sql-server-ver15)\n",
                ""
            ],
            "metadata": {
                "azdata_cell_guid": "d492bd3a-438b-4081-88ec-195efc448e57"
            }
        }
    ]
}