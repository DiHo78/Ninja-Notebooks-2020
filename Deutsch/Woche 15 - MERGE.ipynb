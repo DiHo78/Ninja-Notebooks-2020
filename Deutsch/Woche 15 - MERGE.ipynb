{
    "metadata": {
        "kernelspec": {
            "name": "SQL",
            "display_name": "SQL",
            "language": "sql"
        },
        "language_info": {
            "name": "sql",
            "version": ""
        }
    },
    "nbformat_minor": 2,
    "nbformat": 4,
    "cells": [
        {
            "cell_type": "markdown",
            "source": [
                "# Woche 15: MERGE\r\n",
                "\r\n",
                "## Was ist MERGE? \r\n",
                "Über Merge-Statements könnte man beinahe ein Buch schreiben. Doch als echte Ninjas möchten wir das Thema mit dem Katana fein säuberlich zerteilen. Ein MERGE Statement führt in einem Statement Einfüge-, Lösch- oder Update-Operationen in einer Tabelle aus. Es kann beispielsweise dafür verwendet werden, Tabellen zu synchronisieren, also die Inhalte einer Tabelle falls noch nicht vorhanden in eine zweite Tabelle einzufügen, zu aktualisieren, falls sie schon vorhanden sind und aus der zweiten Tabelle zu löschen, wenn sie in der ersten Tabelle nicht vorhanden sind. \r\n",
                "\r\n",
                "Was ihr beim `MERGE`-Statement beachten solltet ist, dass es zum Einen eine relativ komplexe Syntax verwendet und dass es um Anderen nicht so einfach ist, derartige Statements zu tunen, wenn ihr eine Wahl habt, sind daher oftmals getrennte `INSERT`, `UPDATE` und `DELETE`-Statements die bessere Wahl.\r\n",
                "\r\n",
                "## Wie könnt ihr mit MERGE arbeiten?\r\n",
                "Eigentlich ist die Verwendung von `MERGE` Statements nicht so besonders kompliziert, allerdings kennen wir keinen Ninja, der sie aus dem Kopf reproduziert bekommt. Beginnen wir zunächst damit, uns Daten zu erzeugen, aus denen wir die Datenbank updaten möchten. Das machen wir, indem wir eine Kopie der `StockItem`-Tabelle erzeugen: "
            ],
            "metadata": {
                "azdata_cell_guid": "ec872a88-d06a-4e8d-a6af-73aa7e427e56"
            }
        },
        {
            "cell_type": "code",
            "source": [
                "SELECT [StockItemID]\r\n",
                "      ,[StockItemName]\r\n",
                "      ,[SupplierID]\r\n",
                "      ,[ColorID]\r\n",
                "      ,[UnitPackageID]\r\n",
                "      ,[OuterPackageID]\r\n",
                "      ,[Brand]\r\n",
                "      ,[Size]\r\n",
                "      ,[LeadTimeDays]\r\n",
                "      ,[QuantityPerOuter]\r\n",
                "      ,[IsChillerStock]\r\n",
                "      ,[Barcode]\r\n",
                "      ,[TaxRate]\r\n",
                "      ,[UnitPrice] = [UnitPrice]+2.0\r\n",
                "      ,[RecommendedRetailPrice] = [RecommendedRetailPrice]+2.0\r\n",
                "      ,[TypicalWeightPerUnit]\r\n",
                "      ,[MarketingComments]\r\n",
                "      ,[InternalComments]\r\n",
                "      ,[Photo]\r\n",
                "      ,[CustomFields]\r\n",
                "      ,[LastEditedBy]\r\n",
                "  INTO [Warehouse].[StockItemUpdate] \r\n",
                "  FROM [Warehouse].[StockItems]\r\n",
                "  WHERE StockItemID > 5"
            ],
            "metadata": {
                "azdata_cell_guid": "0aa098b1-2a6b-4230-974a-da7e82ab52ae"
            },
            "outputs": [],
            "execution_count": 0
        },
        {
            "cell_type": "markdown",
            "source": [
                "Wir haben dabei die Preise angepasst und filtern die Items mit den niedrigsten `StockItemIDs` heraus. Wir haben nun also eine Tabelle mit angepassten Item-Preisen, die nicht alle Items enthält. Da auf der `StockItems`-Tabelle Fremdschlüsselbeziehungen liegen, die uns im vorliegenden Fall das Leben schwer machen würden, legen wir von der Tabelle auch nochmal eine Kopie an: "
            ],
            "metadata": {
                "azdata_cell_guid": "036d2772-3444-4471-b72b-7b5445ee1e19"
            }
        },
        {
            "cell_type": "code",
            "source": [
                "SELECT [StockItemID]\r\n",
                "      ,[StockItemName]\r\n",
                "      ,[SupplierID]\r\n",
                "      ,[ColorID]\r\n",
                "      ,[UnitPackageID]\r\n",
                "      ,[OuterPackageID]\r\n",
                "      ,[Brand]\r\n",
                "      ,[Size]\r\n",
                "      ,[LeadTimeDays]\r\n",
                "      ,[QuantityPerOuter]\r\n",
                "      ,[IsChillerStock]\r\n",
                "      ,[Barcode]\r\n",
                "      ,[TaxRate]\r\n",
                "      ,[UnitPrice]\r\n",
                "      ,[RecommendedRetailPrice]\r\n",
                "      ,[TypicalWeightPerUnit]\r\n",
                "      ,[MarketingComments]\r\n",
                "      ,[InternalComments]\r\n",
                "      ,[Photo]\r\n",
                "      ,[CustomFields]\r\n",
                "      ,[LastEditedBy]\r\n",
                "  INTO [Warehouse].[StockItemCopy] \r\n",
                "  FROM [Warehouse].[StockItems]"
            ],
            "metadata": {
                "azdata_cell_guid": "8ec75e44-0d89-4e81-98ae-9ab83b98cc45"
            },
            "outputs": [],
            "execution_count": 0
        },
        {
            "cell_type": "markdown",
            "source": [
                "Nun möchten wir die Update-Tabelle mit der Kopie der `StockItem`-Tabelle synchronisieren. Dafür verwenden wir das `MERGE` Statement. Grundsätzlich ist das wie folgt aufgebaut: Es beginnt mit einem `MERGE`-Befehl, darauf folgt die Definition des Ziels und der Quelle sowie eine `ON`-Bedingung, wie die passenden Zeilen in Quelle und Ziel gefunden werden. Danach folgen ein oder mehrere Blöcke, die definieren, was passiert, wenn Quelle und Ziel `MATCH`en oder eben nicht (wobei diese Blöcke auch zusätzliche Bedingungen enthalten können). Konkret gehen wir wie folgt vor: wenn wir passende Zeilen finden, dann aktualisieren wir die Preise (wir können hier natürlich auch alle anderen Spalten aktualisieren), wenn die Zeile in der Quelle (also der Update-Tabelle) vorhanden ist, aber nicht im Ziel, dann fügen wir sie ein, wenn sie im Ziel vorhanden ist, aber nicht in der Quelle, dann löschen wir sie aus dem Ziel. \r\n",
                "In der Update-Tabelle waren 222 Zeilen enthalten von 227, die in der `StockItems`-Tabelle liegen (wir hatten schließlich auf die `StockItemID` gefiltert. Führen wir nun folgendes `MERGE`-Statement aus: "
            ],
            "metadata": {
                "azdata_cell_guid": "3c077d3b-ba74-47b8-acbd-a4b24a01be4a"
            }
        },
        {
            "cell_type": "code",
            "source": [
                "MERGE [Warehouse].[StockitemCopy] AS tgt  \r\n",
                "    USING (SELECT [StockItemID]\r\n",
                "      ,[StockItemName]\r\n",
                "      ,[SupplierID]\r\n",
                "      ,[ColorID]\r\n",
                "      ,[UnitPackageID]\r\n",
                "      ,[OuterPackageID]\r\n",
                "      ,[Brand]\r\n",
                "      ,[Size]\r\n",
                "      ,[LeadTimeDays]\r\n",
                "      ,[QuantityPerOuter]\r\n",
                "      ,[IsChillerStock]\r\n",
                "      ,[Barcode]\r\n",
                "      ,[TaxRate]\r\n",
                "      ,[UnitPrice]\r\n",
                "      ,[RecommendedRetailPrice]\r\n",
                "      ,[TypicalWeightPerUnit]\r\n",
                "      ,[MarketingComments]\r\n",
                "      ,[InternalComments]\r\n",
                "      ,[Photo]\r\n",
                "      ,[CustomFields]\r\n",
                "      ,[LastEditedBy] from [Warehouse].[StockItemUpdate]) AS src\r\n",
                "    ON (tgt.[StockItemID] = src.[StockItemID])  \r\n",
                "    WHEN MATCHED THEN\r\n",
                "        UPDATE SET \r\n",
                "             [UnitPrice] = src.[UnitPrice]\r\n",
                "            ,[RecommendedRetailPRice] = src.[RecommendedRetailPRice]\r\n",
                "    WHEN NOT MATCHED BY TARGET THEN \r\n",
                "        INSERT ([StockItemID]\r\n",
                "      ,[StockItemName]\r\n",
                "      ,[SupplierID]\r\n",
                "      ,[ColorID]\r\n",
                "      ,[UnitPackageID]\r\n",
                "      ,[OuterPackageID]\r\n",
                "      ,[Brand]\r\n",
                "      ,[Size]\r\n",
                "      ,[LeadTimeDays]\r\n",
                "      ,[QuantityPerOuter]\r\n",
                "      ,[IsChillerStock]\r\n",
                "      ,[Barcode]\r\n",
                "      ,[TaxRate]\r\n",
                "      ,[UnitPrice]\r\n",
                "      ,[RecommendedRetailPrice]\r\n",
                "      ,[TypicalWeightPerUnit]\r\n",
                "      ,[MarketingComments]\r\n",
                "      ,[InternalComments]\r\n",
                "      ,[Photo]\r\n",
                "      ,[CustomFields]\r\n",
                "      ,[LastEditedBy])\r\n",
                "      VALUES \r\n",
                "      (src.[StockItemID]\r\n",
                "      ,src.[StockItemName]\r\n",
                "      ,src.[SupplierID]\r\n",
                "      ,src.[ColorID]\r\n",
                "      ,src.[UnitPackageID]\r\n",
                "      ,src.[OuterPackageID]\r\n",
                "      ,src.[Brand]\r\n",
                "      ,src.[Size]\r\n",
                "      ,src.[LeadTimeDays]\r\n",
                "      ,src.[QuantityPerOuter]\r\n",
                "      ,src.[IsChillerStock]\r\n",
                "      ,src.[Barcode]\r\n",
                "      ,src.[TaxRate]\r\n",
                "      ,src.[UnitPrice]\r\n",
                "      ,src.[RecommendedRetailPrice]\r\n",
                "      ,src.[TypicalWeightPerUnit]\r\n",
                "      ,src.[MarketingComments]\r\n",
                "      ,src.[InternalComments]\r\n",
                "      ,src.[Photo]\r\n",
                "      ,src.[CustomFields]\r\n",
                "      ,src.[LastEditedBy]) \r\n",
                "    WHEN NOT MATCHED BY SOURCE THEN\r\n",
                "        DELETE;"
            ],
            "metadata": {
                "azdata_cell_guid": "8f3a0a38-1347-4be7-92ad-9f200a511ac1"
            },
            "outputs": [],
            "execution_count": 0
        },
        {
            "cell_type": "markdown",
            "source": [
                "Wenn wir nun die Kopie der `StockItems`-Tabelle prüfen, enthält sie genau 222 Zeilen, bei denen die Preise allesamt 2 Euro höher sind als in der originalen StockItems-Tabelle.  \n",
                "\n",
                "## Referenzen:\n",
                "- [Offizielle Dokumentation von Microsoft](https://docs.microsoft.com/de-de/sql/t-sql/statements/merge-transact-sql?view=sql-server-ver15)"
            ],
            "metadata": {
                "azdata_cell_guid": "bf355682-390e-4b30-a5e9-51d1a3aaeb33"
            }
        }
    ]
}