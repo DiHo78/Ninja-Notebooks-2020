{
    "metadata": {
        "kernelspec": {
            "name": "SQL",
            "display_name": "SQL",
            "language": "sql"
        },
        "language_info": {
            "name": "sql",
            "version": ""
        }
    },
    "nbformat_minor": 2,
    "nbformat": 4,
    "cells": [
        {
            "cell_type": "markdown",
            "source": [
                "# Woche 21: IIF\r\n",
                "## Was ist IIF? \r\n",
                "Die Funktion `IIF` ist eine logische Funktion, die drei Argumente übergeben bekommt. Sie wertet das erste Argument zu einem Bool’schen Ausdruck aus und gibt, wenn das erste Argument zu `TRUE` ausgewertet wird das zweite Argument zurück, sonst das dritte. Das ist ähnlich wie die ternäre Schreibweise in Programmiersprachen wie C# wo mit Fragezeichen und Doppelpunkt ausgewertet wird. Der C#-Ausdruck `string result = (i < 3? \"less than\": \"more than\")` wäre dann gleichbedeutend mit dem TSQL-Ausschnitt `@Result = IIF(@i<3,\"less than\", \"greater than\")`.\r\n",
                "## Wofür könnt ihr IIF verwenden?\r\n",
                "Die `IIF`-Funktion ist also zunächst einmal eine kürzere Schreibweise für `CASE`-`WHEN`-Abfrage-Konstrukte. Nehmen wir uns als Beispiel die Wide World Importers Datenbank und fragen wir darin die `StockItemTransaction`-Tabelle ab. Dabei möchten wir uns einmal die `TransactionTypeID` näher ansehen. Dabei fällt uns auf, dass in der Tabelle nur drei Transaktionstypen vorkommen: "
            ],
            "metadata": {
                "azdata_cell_guid": "7de0f522-4981-4422-99c7-dac738af40b5"
            }
        },
        {
            "cell_type": "code",
            "source": [
                "SELECT DISTINCT TransactionTypeID \r\n",
                "FROM Warehouse.StockItemTransactions"
            ],
            "metadata": {
                "azdata_cell_guid": "c7bd5c74-8769-44ca-a675-f6550be5520d"
            },
            "outputs": [],
            "execution_count": 0
        },
        {
            "cell_type": "markdown",
            "source": [
                "Wenn wir nun den Transaktionstypen auflösen wollten, könnten wir natürlich ein Join auf die entsprechende Tabelle ausführen, um den Namen aufzulösen: "
            ],
            "metadata": {
                "azdata_cell_guid": "4da2a67b-9e4b-404e-bbdc-27ddb8e725a4"
            }
        },
        {
            "cell_type": "code",
            "source": [
                "SELECT\r\n",
                "     StockItemTransactionID\r\n",
                "    ,StockItemID\r\n",
                "    ,TransactionTypeName\r\n",
                "    ,CustomerID\r\n",
                "    ,InvoiceID\r\n",
                "    ,SupplierID\r\n",
                "    ,PurchaseOrderID\r\n",
                "FROM Warehouse.StockItemTransactions sit\r\n",
                "LEFT JOIN Application.TransactionTypes tt\r\n",
                "on sit.TransactionTypeID = tt.TransactionTypeID"
            ],
            "metadata": {
                "azdata_cell_guid": "55ef2c29-76dc-435e-bf9f-e8fa42b2157b"
            },
            "outputs": [],
            "execution_count": 0
        },
        {
            "cell_type": "markdown",
            "source": [
                "Wenn wir nur für drei Werte in einer Spalte keinen Join machen möchten, könnten wir stattdessen auch ein `CASE`-Statement verwenden:"
            ],
            "metadata": {
                "azdata_cell_guid": "a48cd81c-7373-4ea2-841c-a983103949a9"
            }
        },
        {
            "cell_type": "code",
            "source": [
                "SELECT \r\n",
                "     StockItemTransactionID\r\n",
                "    ,StockItemID\r\n",
                "    ,TransactionTypeName = \r\n",
                "        CASE TransactionTypeID \r\n",
                "        WHEN 10 THEN 'Stock Issue' \r\n",
                "        WHEN 11 THEN 'Stock Receipt' \r\n",
                "        WHEN 12 THEN 'Stock Adjustment at Stocktake' \r\n",
                "        ELSE 'Unknown' END\r\n",
                "    ,CustomerID\r\n",
                "    ,InvoiceID\r\n",
                "    ,SupplierID\r\n",
                "    ,PurchaseOrderID\r\n",
                "FROM Warehouse.StockItemTransactions "
            ],
            "metadata": {
                "azdata_cell_guid": "8ee94263-d3df-452b-bcbb-54ab85c0c5f1"
            },
            "outputs": [],
            "execution_count": 0
        },
        {
            "cell_type": "markdown",
            "source": [
                "Das wiederum könnten wir umschreiben zu:"
            ],
            "metadata": {
                "azdata_cell_guid": "b60139b3-d723-423d-88ae-0db0acbe9a67"
            }
        },
        {
            "cell_type": "code",
            "source": [
                "SELECT \r\n",
                "     StockItemTransactionID\r\n",
                "    ,StockItemID\r\n",
                "    ,TransactionTypeName = IIF(TransactionTypeID = 10, 'Stock Issue',\r\n",
                "        IIF(TransactionTypeID = 11, 'Stock Receipt',\r\n",
                "            IIF(TransactionTypeID = 12, 'Stock Adjustment at Stocktake', \r\n",
                "                'Unknown')))\r\n",
                "    ,CustomerID\r\n",
                "    ,InvoiceID\r\n",
                "    ,SupplierID\r\n",
                "    ,PurchaseOrderID\r\n",
                "FROM Warehouse.StockItemTransactions "
            ],
            "metadata": {
                "azdata_cell_guid": "d8d7c14f-88dc-4e56-844f-039e6aee1d7b"
            },
            "outputs": [],
            "execution_count": 0
        },
        {
            "cell_type": "markdown",
            "source": [
                "Warum dieser Aufwand, wenn wir das doch mit `CASE`-Statements alles auch abbilden können? Ganz einfach: weil eine Inline-Funktion sich oftmals besser liest als ein `CASE`-Statement. Als Beispiel nehmen wir folgende Abfrage: "
            ],
            "metadata": {
                "azdata_cell_guid": "987b8232-175d-4b45-b809-61d7cbbf7cbc"
            }
        },
        {
            "cell_type": "code",
            "source": [
                "SELECT \r\n",
                "     NStockIssues       = SUM(IIF(TransactionTypeID = 10, 1, 0))\r\n",
                "    ,NStockReceipts     = SUM(IIF(TransactionTypeID = 11, 1, 0))\r\n",
                "    ,NStockAdjustments  = SUM(IIF(TransactionTypeID = 12, 1, 0)) \r\n",
                "FROM Warehouse.StockItemTransactions"
            ],
            "metadata": {
                "azdata_cell_guid": "584505ab-cfe3-4cd5-917c-c8fe101f64a4"
            },
            "outputs": [],
            "execution_count": 0
        },
        {
            "cell_type": "markdown",
            "source": [
                "Hier empfinden viele Ninjas das Zusammenspiel von `IIF` mit `SUM` sehr viel besser lesbar als die entsprechende `CASE`-Formulierung:"
            ],
            "metadata": {
                "azdata_cell_guid": "765d74ec-c600-415b-9ac7-ba5fcbb1a948"
            }
        },
        {
            "cell_type": "code",
            "source": [
                "SELECT \r\n",
                "     NStockIssues       = SUM(CASE TransactionTypeID WHEN 10 THEN 1 ELSE 0 END)\r\n",
                "    ,NStockReceipts     = SUM(CASE TransactionTypeID WHEN 11 THEN 1 ELSE 0 END)\r\n",
                "    ,NStockAdjustments  = SUM(CASE TransactionTypeID WHEN 12 THEN 1 ELSE 0 END) \r\n",
                "FROM Warehouse.StockItemTransactions"
            ],
            "metadata": {
                "azdata_cell_guid": "dc3895a1-49d1-42bd-8399-e8009120db47"
            },
            "outputs": [],
            "execution_count": 0
        },
        {
            "cell_type": "markdown",
            "source": [
                "Ob man die erste oder die letzte Form bevorzugt, ist natürlich Geschmackssache, ihr solltet euch aber bewusst sein, dass IIF keine ANSI-SQL Funktionalität ist (und auch erst seit 2012 in T-SQL enthalten ist, man munkelt dass das mit der Integration von Access-Datenbanken in den SQL Server zu tun haben könnte). Wenn euch Kompatibilität zu anderen Datenbanksystemen also wichtig sein sollte (oder ihr noch ältere SQL Server Versionen im Einsatz habt), dann solltet ihr auf die Kurzform mit IIF verzichten und lieber CASE Statements schreiben.   \n",
                "## Referenzen\n",
                "- [Dokumentation von Microsoft](https://docs.microsoft.com/de-de/sql/t-sql/functions/logical-functions-iif-transact-sql?view=sql-server-ver15)"
            ],
            "metadata": {
                "azdata_cell_guid": "ed0a9ddd-de24-402f-86a5-f0baac606b40"
            }
        }
    ]
}