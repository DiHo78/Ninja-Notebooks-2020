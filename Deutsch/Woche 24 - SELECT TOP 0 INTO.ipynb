{
    "metadata": {
        "kernelspec": {
            "name": "SQL",
            "display_name": "SQL",
            "language": "sql"
        },
        "language_info": {
            "name": "sql",
            "version": ""
        }
    },
    "nbformat_minor": 2,
    "nbformat": 4,
    "cells": [
        {
            "cell_type": "markdown",
            "source": [
                "# Woche 24: SELECT TOP 0 INTO\r\n",
                "## Was ist SELECT TOP 0 INTO? \r\n",
                "Gelegentlich kommt es vor, dass ihr eine leere Tabelle erzeugen möchtet, um die Daten einer Abfrage zu speichern. Ihr könnt nun natürlich aus allen Quelltabellen die Metadaten aller Spalten in der Abfrage prüfen und ein DDL Statement schreiben. Das kann aber bei Abfragen mit mehreren Joins und möglicherweise noch Manipulationen in den Spalten ziemlich kompliziert werden. Wenn ihr nun Daten in eine neu zu erstellende Tabelle kopieren möchtet, könnt ihr das mit `SELECT INTO` machen. Wenn ihr stattdessen nur die Struktur kopieren möchtet, könnt ihr einfach die `TOP 0` Zeilen kopieren, also keine Zeilen, wodurch ihr eine Tabelle erhaltet, die nur die Struktur des Quellstatements abbildet. \r\n",
                "## Wofür könnt ihr SELECT TOP 0 INTO verwenden?\r\n",
                "Wie bereits oben beschrieben, könnt ihr mit einem `SELECT TOP 0 INTO` eine leere Tabelle erstellen, die strukturgleich mit eurer Abfrage ist. Wir wollen das einmal tun indem wir uns einige Attribute der Customers-Tabelle in der WideworldImporters Datenbank vornehmen, die wir in eine `MainCustomers`-Tabelle speichern möchten: "
            ],
            "metadata": {
                "azdata_cell_guid": "93075409-b6c4-41ca-8fa4-3dd7b3bf274a"
            }
        },
        {
            "cell_type": "code",
            "source": [
                "DROP TABLE IF EXISTS [Sales].[MainCustomers]\r\n",
                "SELECT TOP (0) \r\n",
                "       [CustomerID]\r\n",
                "      ,[CustomerName]\r\n",
                "      ,[CreditLimit]\r\n",
                "      ,[AccountOpenedDate]\r\n",
                "      ,[StandardDiscountPercentage]\r\n",
                "      ,[IsStatementSent]\r\n",
                "      ,[IsOnCreditHold]\r\n",
                "      ,[PaymentDays]\r\n",
                "      ,[PhoneNumber]\r\n",
                "      ,[FaxNumber]\r\n",
                "      ,[DeliveryRun]\r\n",
                "      ,[RunPosition]\r\n",
                "      ,[WebsiteURL]\r\n",
                "      ,[DeliveryAddressLine1]\r\n",
                "      ,[DeliveryAddressLine2]\r\n",
                "      ,[DeliveryPostalCode]\r\n",
                "      ,[DeliveryLocation]\r\n",
                "      ,[PostalAddressLine1]\r\n",
                "      ,[PostalAddressLine2]\r\n",
                "      ,[PostalPostalCode]\r\n",
                "  INTO [Sales].[MainCustomers]\r\n",
                "  FROM [Sales].[Customers]"
            ],
            "metadata": {
                "azdata_cell_guid": "60730b87-7c79-4fcf-a006-fd1e128df86a"
            },
            "outputs": [],
            "execution_count": 0
        },
        {
            "cell_type": "markdown",
            "source": [
                "In eurer Datenbank findet ihr nun eine `MainCustomers`-Tabelle, die genau die hier ausgewählten Felder enthält mit identischen Metadaten. Das Ganze geht natürlich noch etwas komplexer, wenn ihr, statt nur die Metadaten aus einer Tabelle zu kopieren einen `JOIN` ausführt. Dafür ermitteln wir zunächst den Gesamtumsatz und die Anzahl der Bestellungen unserer Kunden: "
            ],
            "metadata": {
                "azdata_cell_guid": "b9872561-7455-488c-955a-e3c0fc46b131"
            }
        },
        {
            "cell_type": "code",
            "source": [
                "SELECT \r\n",
                "[CustomerID]\r\n",
                ",SUM(TransactionAmount) as [TotalCustomerValue]\r\n",
                ",COUNT(Distinct CustomerTransactionId) as [NumberOfTransactions]\r\n",
                "FROM [Sales].[CustomerTransactions]\r\n",
                "GROUP BY [CustomerID]"
            ],
            "metadata": {
                "azdata_cell_guid": "7289dc99-c3ad-4834-88f3-9ba79afdd0c9"
            },
            "outputs": [],
            "execution_count": 0
        },
        {
            "cell_type": "markdown",
            "source": [
                "Diesen führen wir nun in einer CTE aus, die wir an die obige Ergebnismenge joinen und wiederum eine Tabelle anlegen, in die wir das Resultat schreiben könnten:"
            ],
            "metadata": {
                "azdata_cell_guid": "d2c6bf4f-5cfe-4278-b005-b3b314cc2af9"
            }
        },
        {
            "cell_type": "code",
            "source": [
                "DROP TABLE IF EXISTS [Sales].[MainCustomers]\r\n",
                "\r\n",
                ";WITH CTE_SalesPerCustomer AS (\r\n",
                "    SELECT \r\n",
                "         [CustomerID]\r\n",
                "        ,SUM(TransactionAmount) as [TotalCustomerValue]\r\n",
                "        ,COUNT(Distinct CustomerTransactionId) as [NumberOfTransactions]\r\n",
                "    FROM [Sales].[CustomerTransactions]\r\n",
                "    GROUP BY [CustomerID]\r\n",
                ")\r\n",
                "SELECT TOP (0) \r\n",
                "       c.[CustomerID]\r\n",
                "      ,[CustomerName]\r\n",
                "      ,[CreditLimit]\r\n",
                "      ,[AccountOpenedDate]\r\n",
                "      ,[StandardDiscountPercentage]\r\n",
                "      ,[IsStatementSent]\r\n",
                "      ,[IsOnCreditHold]\r\n",
                "      ,[PaymentDays]\r\n",
                "      ,[PhoneNumber]\r\n",
                "      ,[FaxNumber]\r\n",
                "      ,[DeliveryRun]\r\n",
                "      ,[RunPosition]\r\n",
                "      ,[WebsiteURL]\r\n",
                "      ,[DeliveryAddressLine1]\r\n",
                "      ,[DeliveryAddressLine2]\r\n",
                "      ,[DeliveryPostalCode]\r\n",
                "      ,[DeliveryLocation]\r\n",
                "      ,[PostalAddressLine1]\r\n",
                "      ,[PostalAddressLine2]\r\n",
                "      ,[PostalPostalCode]\r\n",
                "      ,[TotalCustomerValue]\r\n",
                "      ,[NumberOfTransactions]\r\n",
                "  INTO [Sales].[MainCustomers]\r\n",
                "  FROM [Sales].[Customers] c\r\n",
                "  LEFT JOIN CTE_SalesPerCustomer spc \r\n",
                "  ON c.CustomerID = spc.CustomerID"
            ],
            "metadata": {
                "azdata_cell_guid": "41fb2ecf-d6fb-4a9f-9e4a-08b5b1636595"
            },
            "outputs": [],
            "execution_count": 0
        },
        {
            "cell_type": "markdown",
            "source": [
                "Im Resultat haben wir nun eine Tabelle, deren Metadaten wir uns ansehen möchten: "
            ],
            "metadata": {
                "azdata_cell_guid": "0920eb6a-d1e2-4e75-be01-b1d4b43d8d44"
            }
        },
        {
            "cell_type": "code",
            "source": [
                "SELECT c.name AS column_name\r\n",
                "    ,c.column_id\r\n",
                "    ,SCHEMA_NAME(t.schema_id) AS type_schema\r\n",
                "    ,t.name AS type_name\r\n",
                "    ,t.is_user_defined\r\n",
                "    ,t.is_assembly_type\r\n",
                "    ,c.max_length\r\n",
                "    ,c.precision\r\n",
                "    ,c.scale\r\n",
                "FROM sys.columns AS c \r\n",
                "JOIN sys.types AS t ON c.user_type_id=t.user_type_id\r\n",
                "WHERE c.object_id = OBJECT_ID('Sales.MainCustomers')\r\n",
                "ORDER BY c.column_id;"
            ],
            "metadata": {
                "azdata_cell_guid": "c39a8366-1a13-40d1-a53d-66317f2cda24"
            },
            "outputs": [],
            "execution_count": 0
        },
        {
            "cell_type": "markdown",
            "source": [
                "Hier seht ihr als letzte Zeile der Ergebnismenge die Einträg `TotalCustomerValue` als `decimal(38,2)`-Spalte und `NumberOfTransactions` als `Int`-Spalte.\r\n",
                "\r\n",
                "Nun möchten wir es aber noch wilder treiben und an die Tabelle eine berechnete Spalte anfügen: "
            ],
            "metadata": {
                "azdata_cell_guid": "faec56fe-d62c-427e-90e5-2b93dd5ad395"
            }
        },
        {
            "cell_type": "code",
            "source": [
                "ALTER TABLE [Sales].[MainCustomers] \r\n",
                "    ADD [AverageTransactionValue] \r\n",
                "    AS [TotalCustomerValue]/CAST(NumberOfTransactions AS Decimal(10,2))"
            ],
            "metadata": {
                "azdata_cell_guid": "59d532ae-0de9-4768-9150-a22f8fc95a87"
            },
            "outputs": [],
            "execution_count": 0
        },
        {
            "cell_type": "markdown",
            "source": [
                "Führen wir nun von dieser Tabelle aus wiederum ein `SELECT TOP 0 INTO` aus:"
            ],
            "metadata": {
                "azdata_cell_guid": "8ff40957-b9b3-49aa-bf42-e78d9ce6ddc2"
            }
        },
        {
            "cell_type": "code",
            "source": [
                "SELECT TOP 0 * \r\n",
                "INTO [Sales].[MainCustomersExtended]\r\n",
                "FROM [Sales].[MainCustomers] "
            ],
            "metadata": {
                "azdata_cell_guid": "a8e45afb-0118-4954-b1a9-4385c503856c"
            },
            "outputs": [],
            "execution_count": 0
        },
        {
            "cell_type": "markdown",
            "source": [
                "Und fragen wir nun die Metadaten beider Tabellen ab:"
            ],
            "metadata": {
                "azdata_cell_guid": "1d84e42d-6726-4fad-b840-d7dbe6808603"
            }
        },
        {
            "cell_type": "code",
            "source": [
                "SELECT c.name AS column_name\r\n",
                "    ,c.column_id\r\n",
                "    ,SCHEMA_NAME(t.schema_id) AS type_schema\r\n",
                "    ,t.name AS type_name\r\n",
                "    ,t.is_user_defined\r\n",
                "    ,t.is_assembly_type\r\n",
                "    ,c.max_length\r\n",
                "    ,c.precision\r\n",
                "    ,c.scale\r\n",
                "FROM sys.columns AS c \r\n",
                "JOIN sys.types AS t ON c.user_type_id=t.user_type_id\r\n",
                "WHERE (\r\n",
                "           c.object_id = OBJECT_ID('Sales.MainCustomers') \r\n",
                "        OR c.object_id = OBJECT_ID('Sales.MainCustomersExtended')\r\n",
                "      ) AND c.name = 'AverageTransactionValue'\r\n",
                "ORDER BY c.column_id;"
            ],
            "metadata": {
                "azdata_cell_guid": "e59227df-47ed-4a03-b415-12cf6f8e8449"
            },
            "outputs": [],
            "execution_count": 0
        },
        {
            "cell_type": "markdown",
            "source": [
                "Dann sehen wir zwei identische Spalten. Wenn wir uns nun allerdings die `CREATE TABLE` Statements beider Tabellen ausgeben lassen, so sehen wir, dass bei `MainCustomers` die Definition der Computed Column übernommen wurde, während die Spalte bei `MainCustomersExtended` einfach nur als leere Spalte existiert. \n",
                "\n",
                "Das bedeutet, dass bei einem `SELECT TOP 0` alle die Informationen, die über die reinen Metadaten (welcher Datentyp wird hier gespeichert) hinausgehen, verloren gehen. Das umfasst natürlich auch Informationen wie Filegroups, Indexe, Primärschlüssel und so weiter. Die schnelle Abhilfe, um stukturgleiche Tabellen anzulegen, ist also ein praktisches Hilfsmittel, am Ende muss bei produktiven Datenbanken aber immer noch auf die Details geachtet werden, denn diese tun euch im Betrieb am Ende möglicherweise ganz schön weh. \n",
                "\n",
                "## Referenzen\n",
                "- Heute mal ohne weiterführende Links. \n",
                ""
            ],
            "metadata": {
                "azdata_cell_guid": "5503af30-1c11-4de1-ae53-0f2e58b290c8"
            }
        }
    ]
}