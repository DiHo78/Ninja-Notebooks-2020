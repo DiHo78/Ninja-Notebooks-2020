{
    "metadata": {
        "kernelspec": {
            "name": "SQL",
            "display_name": "SQL",
            "language": "sql"
        },
        "language_info": {
            "name": "sql",
            "version": ""
        }
    },
    "nbformat_minor": 2,
    "nbformat": 4,
    "cells": [
        {
            "cell_type": "markdown",
            "source": [
                "# Woche 17: Running Totals\r\n",
                "## Was sind Running Totals? \r\n",
                "Mit “Running Total” oder “laufender Summe” ist ein Szenario gemeint, in dem in jeder Zeile die Summe der Werte einer bestimmten Spalte der vorangegangenen Zeilen steht. Ein gutes Beispiel dafür sind Punkte verschiedener Spiele, die aufaddiert werden. Wichtig für eine laufende Summe ist dabei natürlich, dass die Zeilen in einer eindeutigen Sortierung durchlaufen werden, da sonst beliebige Werte bei unserer Berechnung herauskommen werden.  \r\n",
                "## Wie könnt ihr ein Running Total berechnen?\r\n",
                "Eine laufende Summe ist ähnlich wie die bereits behandelten `RANK` und `ROW_NUMBER`-Funktionen eine Window-Funktion, also eine Funktion, die auf einem gewissen Satz an Zeilen operiert und diese zusammenfasst. \r\n",
                "Wir haben also ein [Randori](https://de.wikipedia.org/wiki/Randori) von vier Teams über mehrere Runden und zählen in jeder Runde die Punkte der Teams. Diese speichern wir in einer Tabelle: "
            ],
            "metadata": {
                "azdata_cell_guid": "d1b4f98c-647e-471f-aa8d-df7561c056b5"
            }
        },
        {
            "cell_type": "code",
            "source": [
                "DROP TABLE IF EXISTS #games \r\n",
                "\r\n",
                "CREATE TABLE #games\r\n",
                "(\r\n",
                "     RandoriNumber INT NOT NULL IDENTITY(1,1)\r\n",
                "    ,Team1Score INT NOT NULL DEFAULT 0\r\n",
                "    ,Team2Score INT NOT NULL DEFAULT 0\r\n",
                "    ,Team3Score INT NOT NULL DEFAULT 0\r\n",
                "    ,Team4Score INT NOT NULL DEFAULT 0\r\n",
                ")"
            ],
            "metadata": {
                "azdata_cell_guid": "4bc275e9-57d6-411f-974b-0bafbaaa0d5f"
            },
            "outputs": [],
            "execution_count": 0
        },
        {
            "cell_type": "markdown",
            "source": [
                "Wir haben in dieser Tabelle eine Kampf-Nummer (RandoriNumber) hinterlegt, nach der wir die Zeilen hinterher eineindeutig sortieren können. \r\n",
                "Nun füllen wir über einen Trainingszyklus mit 5 Kämpfen die Resultate in die Tabelle: "
            ],
            "metadata": {
                "azdata_cell_guid": "ac2d970f-09ec-4b4d-be99-a1716b45a3f1"
            }
        },
        {
            "cell_type": "code",
            "source": [
                "DECLARE @nRows int \r\n",
                "SELECT @nRows = COUNT(*) FROM #games\r\n",
                "\r\n",
                "WHILE @nRows < 5 BEGIN\r\n",
                "    INSERT INTO #games \r\n",
                "    (Team1Score, Team2Score, Team3Score, Team4Score)\r\n",
                "    VALUES\r\n",
                "    (CAST(10*RAND()-1 AS INT),  CAST(10*RAND()-1 AS INT), CAST(10*RAND()-1 AS INT),  CAST(10*RAND()-1 AS INT))\r\n",
                "    SELECT @nRows = COUNT(*) FROM #games\r\n",
                "END"
            ],
            "metadata": {
                "azdata_cell_guid": "843f9202-eb18-44fd-9535-a90d9c479e63"
            },
            "outputs": [],
            "execution_count": 0
        },
        {
            "cell_type": "markdown",
            "source": [
                "\r\n",
                "Wir fügen hier Zufallszahlen von Null bis Zehn in die Tabelle ein, Eure Ergebnisse werden am Ende also anders aussehen als die, die wir hier zeigen. Nun möchten wir zu jedem Wettkampf wissen, welche Punktzahl das jeweilige Team an diesem Tag hatte. Dafür bilden wir für jede Zeile die Summen der vier Team-Scores sortiert nach der Randori-Nummer. Das ist sehr einfach, da wir hierfür der SUM-Funktion nur ein `OVER (ORDER BY)` Fenster mitgeben müssen. "
            ],
            "metadata": {
                "azdata_cell_guid": "832a1cf1-ee6a-47e4-8f26-2b92551eadd3"
            }
        },
        {
            "cell_type": "code",
            "source": [
                "SELECT \r\n",
                "     RandoriNumber\r\n",
                "    ,Team1Score\r\n",
                "    ,Team2Score\r\n",
                "    ,Team3Score\r\n",
                "    ,Team4Score\r\n",
                "    ,Team1RunningTotal = SUM(Team1Score) OVER (ORDER BY RandoriNumber)\r\n",
                "    ,Team2RunningTotal = SUM(Team2Score) OVER (ORDER BY RandoriNumber)\r\n",
                "    ,Team3RunningTotal = SUM(Team3Score) OVER (ORDER BY RandoriNumber)\r\n",
                "    ,Team4RunningTotal = SUM(Team4Score) OVER (ORDER BY RandoriNumber)\r\n",
                "FROM #games "
            ],
            "metadata": {
                "azdata_cell_guid": "b765b9b5-4324-4cd1-81a4-6c3da9ea28b5"
            },
            "outputs": [],
            "execution_count": 0
        },
        {
            "cell_type": "markdown",
            "source": [
                "\r\n",
                "Das Ergebnis sollte so ähnlich aussehen, wie hier: \r\n",
                "\r\n",
                "## BILD !!!!!!\r\n",
                "\r\n",
                "Ihr seht bei Team1 in Zeile 2 als Running Total den Wert 5, der sich zusammensetzt aus der Score 5 für den ersten Randori und der Score 1 für den zweiten Randori und so weiter. \r\n",
                "Nun könnten SQL-Shoguns anmerken, dass unklar ist, warum dieses Statement eine laufende Summe bildet, was nicht ganz inkorrekt wäre. Denn immerhin sagen wir dem Fenster für die Summen-Funktion zwar, wie wir sortieren wollen, aber dass nur vorangehende Zeilen summiert werden, geben wir nicht an. Das könnten wir beispielsweise explizit tun, indem wir im Fenster ausdrücklich angeben, dass wir alle vorangegangen Zeilen bis zur aktuellen Zeile auswerten möchten, indem wir ein `ROWS BETWEEN UNBOUNDED PRECEDING AND CURRENT ROW` mit angeben:"
            ],
            "metadata": {
                "azdata_cell_guid": "2c2d204d-0508-45e4-a32f-c52002685503"
            }
        },
        {
            "cell_type": "code",
            "source": [
                "SELECT \r\n",
                "     RandoriNumber\r\n",
                "    ,Team1Score\r\n",
                "    ,Team2Score\r\n",
                "    ,Team3Score\r\n",
                "    ,Team4Score\r\n",
                "    ,Team1RunningTotal = SUM(Team1Score) OVER (ORDER BY RandoriNumber ROWS BETWEEN UNBOUNDED PRECEDING AND CURRENT ROW )\r\n",
                "    ,Team2RunningTotal = SUM(Team2Score) OVER (ORDER BY RandoriNumber ROWS BETWEEN UNBOUNDED PRECEDING AND CURRENT ROW )\r\n",
                "    ,Team3RunningTotal = SUM(Team3Score) OVER (ORDER BY RandoriNumber ROWS BETWEEN UNBOUNDED PRECEDING AND CURRENT ROW )\r\n",
                "    ,Team4RunningTotal = SUM(Team4Score) OVER (ORDER BY RandoriNumber ROWS BETWEEN UNBOUNDED PRECEDING AND CURRENT ROW )\r\n",
                "FROM #games "
            ],
            "metadata": {
                "azdata_cell_guid": "9d990773-f9c2-45c7-b58c-b827bc8fcc82"
            },
            "outputs": [],
            "execution_count": 0
        },
        {
            "cell_type": "markdown",
            "source": [
                "Wir haben aber Glück, in diesem speziellen Fall passiert genau das gleiche, da ein nicht angegebener `ROWS`/`RANGE`-Wert, ein `BETWEEN UNBOUNDED PRECEDING AND CURRENT ROW` angenommen wird, also immer automatisch über die Zeilen summiert wird, die vor der aktuellen Zeile im Window liegen. Das funktioniert natürlich nur, wenn mit der `OVER` clause überhaupt ein Fenster definiert wird. \n",
                "\n",
                "## Referenzen:\n",
                "- [Offizielle Dokumentation von Microsoft](https://docs.microsoft.com/de-de/sql/t-sql/queries/select-over-clause-transact-sql?view=sql-server-ver15)\n",
                "- [Blogbeitrag zu laufenden Summen](https://codingsight.com/calculating-running-total-with-over-clause-and-partition-by-clause-in-sql-server/)"
            ],
            "metadata": {
                "azdata_cell_guid": "5b19906b-84a2-4dac-bdd0-25a5a70b572e"
            }
        }
    ]
}