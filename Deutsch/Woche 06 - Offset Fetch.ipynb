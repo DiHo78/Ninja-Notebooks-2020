{
    "metadata": {
        "kernelspec": {
            "name": "SQL",
            "display_name": "SQL",
            "language": "sql"
        },
        "language_info": {
            "name": "sql",
            "version": ""
        }
    },
    "nbformat_minor": 2,
    "nbformat": 4,
    "cells": [
        {
            "cell_type": "markdown",
            "source": [
                "# Woche 6: OFFSET FETCH\r\n",
                "### Was ist OFFSET FETCH?\r\n",
                "Fast jeder limitiert seine Abfrage-Ergebnisse durch Hinzufügen von `TOP`. Aber was ist, wenn meine Anwendung nun nicht die ersten 1000 Datensätze abfragen möchte, sondern immer zehner-Blöcke, um diese beispielsweise in Seiten sortiert anzuzeigen? Dafür gibt es seit dem SQL Server 2012 `OFFSET FETCH`.\r\n",
                "\r\n",
                "### Wie könnt ihr OFFSET FETCH verwenden?\r\n",
                "Um die Verwendung von `OFFSET FETCH` zu verstehen, fragen wir in der Wide World Importers Datenbank die am häufigsten verkauften Produkte ab:"
            ],
            "metadata": {
                "azdata_cell_guid": "57ea3056-77db-440d-8cee-48be5293f048"
            }
        },
        {
            "cell_type": "code",
            "source": [
                "SELECT \r\n",
                "     COUNT(*) as NumberOfSales\r\n",
                "    ,si.[StockItemID] as ItemId\r\n",
                "    ,si.[StockItemName] as Item\r\n",
                "FROM [Sales].[OrderLines] AS ol\r\n",
                "LEFT JOIN [Warehouse].[Stockitems] as si\r\n",
                "ON ol.[StockItemID] = si.StockItemID\r\n",
                "GROUP BY si.StockItemID, si.StockItemName\r\n",
                "ORDER BY 1 DESC"
            ],
            "metadata": {
                "azdata_cell_guid": "8a728df0-d5aa-458e-a11b-05e7b2569dab"
            },
            "outputs": [],
            "execution_count": 0
        },
        {
            "cell_type": "markdown",
            "source": [
                "Diese Abfrage liefert 227 Zeilen zurück, zu viele, wenn man sie in einer Anwendung übersichtlich darstellen möchte. Wollen wir nur die 10 am häufigsten verkauften Produkte sehen, würden wir ein `TOP(10)` hinzufügen:"
            ],
            "metadata": {
                "azdata_cell_guid": "985437bb-b8ae-4f14-a214-5ac799452857"
            }
        },
        {
            "cell_type": "code",
            "source": [
                "SELECT TOP(10)\r\n",
                "     COUNT(*) as NumberOfSales\r\n",
                "    ,si.[StockItemID] as ItemId\r\n",
                "    ,si.[StockItemName] as Item\r\n",
                "FROM [Sales].[OrderLines] AS ol\r\n",
                "LEFT JOIN [Warehouse].[Stockitems] as si\r\n",
                "ON ol.[StockItemID] = si.StockItemID\r\n",
                "GROUP BY si.StockItemID, si.StockItemName\r\n",
                "ORDER BY 1 DESC"
            ],
            "metadata": {
                "azdata_cell_guid": "610f3c6d-8933-46b4-8884-62e7650b0ee4"
            },
            "outputs": [],
            "execution_count": 0
        },
        {
            "cell_type": "markdown",
            "source": [
                "Doch wenn wir nun in der Anwendung blättern würden, müssten wir ja die ersten 10 Produkte überspringen und die zweiten 10 Produkte anzeigen. Dafür können wir `OFFSET` verwenden, da die Verwendung von `TOP` dann aber nicht mehr erlaubt ist, müssen wir die Zeilenzahl über `FETCH` beschränken:"
            ],
            "metadata": {
                "azdata_cell_guid": "50c9e4dc-41d2-4936-af58-fbcfcd2e392d"
            }
        },
        {
            "cell_type": "code",
            "source": [
                "SELECT \r\n",
                "     COUNT(*) as NumberOfSales\r\n",
                "    ,si.[StockItemID] as ItemId\r\n",
                "    ,si.[StockItemName] as Item\r\n",
                "FROM [Sales].[OrderLines] AS ol\r\n",
                "LEFT JOIN [Warehouse].[Stockitems] as si\r\n",
                "ON ol.[StockItemID] = si.StockItemID\r\n",
                "GROUP BY si.StockItemID, si.StockItemName\r\n",
                "ORDER BY 1 DESC\r\n",
                "OFFSET 10 ROWS FETCH NEXT 10 ROWS ONLY;"
            ],
            "metadata": {
                "azdata_cell_guid": "35837153-06d2-47f4-be87-fb1ef6f0a363"
            },
            "outputs": [],
            "execution_count": 0
        },
        {
            "cell_type": "markdown",
            "source": [
                "Das ist nun ganz schön. Wir könnten das nun in eine gespeicherte Prozedur stecken, den Offset parametrisieren und uns unseres Lebens freuen, allerdings wären wir keine Ninjas, wenn wir es nicht besser machen wollten und die Prozedur auch verwenden, wenn die Entwickler sich entscheiden doch 15 Produkte anzeigen zu wollen oder, schlimmer noch, 10 Produkte in der Mobile App und 15 in der Desktop-Anwendung. Dafür parametrisieren wir unsere Abfrage:"
            ],
            "metadata": {
                "azdata_cell_guid": "7dd869dd-2417-4373-b5b7-8e0582601263"
            }
        },
        {
            "cell_type": "code",
            "source": [
                "DECLARE @pagenumber int = 3, @pagesize int = 15\r\n",
                "SELECT \r\n",
                "     COUNT(*) as NumberOfSales\r\n",
                "    ,si.[StockItemID] as ItemId\r\n",
                "    ,si.[StockItemName] as Item\r\n",
                "FROM [Sales].[OrderLines] AS ol\r\n",
                "LEFT JOIN [Warehouse].[Stockitems] as si\r\n",
                "ON ol.[StockItemID] = si.StockItemID\r\n",
                "GROUP BY si.StockItemID, si.StockItemName\r\n",
                "ORDER BY 1 DESC\r\n",
                "OFFSET (@pagenumber-1)*@pagesize ROWS FETCH NEXT @pagesize ROWS ONLY;"
            ],
            "metadata": {
                "azdata_cell_guid": "6e2cc5b0-a06e-4625-b371-bdd287a21ed2"
            },
            "outputs": [],
            "execution_count": 0
        },
        {
            "cell_type": "markdown",
            "source": [
                "Dabei könnten wir beispielsweise den Wert für die Seitengröße auch in einer Unterabfrage aus einer anderen Tabelle holen. Die Frontendentwickler wird’s freuen und ihr müsst euch keine Gedanken mehr machen, wenn sich die Seitengröße ändert, sondern könnt weiter an euren Ninja-Skills arbeiten.\r\n",
                "\r\n",
                "### Referenzen\r\n",
                "- [Offizielle Dokumentation von Microsoft](https://docs.microsoft.com/de-de/sql/t-sql/queries/select-order-by-clause-transact-sql?view=sql-server-2017#Offset)"
            ],
            "metadata": {
                "azdata_cell_guid": "88803379-3b04-40f7-977b-b78f3bbd0695"
            }
        }
    ]
}