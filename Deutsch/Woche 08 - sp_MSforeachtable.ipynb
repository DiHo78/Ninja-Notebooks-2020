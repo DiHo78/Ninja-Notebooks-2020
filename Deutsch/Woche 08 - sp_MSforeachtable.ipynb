{
    "metadata": {
        "kernelspec": {
            "name": "SQL",
            "display_name": "SQL",
            "language": "sql"
        },
        "language_info": {
            "name": "sql",
            "version": ""
        }
    },
    "nbformat_minor": 2,
    "nbformat": 4,
    "cells": [
        {
            "cell_type": "markdown",
            "source": [
                "# Woche 8: sp_MSforeachtable\r\n",
                "### Was ist sp_MSforeachtable? \r\n",
                "Die gespeicherte Prozedur `sp_MSforeachtable` gehört zu den Systemprozeduren, die im SQL Server definiert sind. Ihr findet sie, wenn ihr euch mit dem Management Studio oder dem Data Studio mit einem Server verbindet und dann unter \"System Databases\" in der \"master\"-Datenbank unter \"Programmability\" in die \"System Stored Procedures\" schaut. Dort findet ihr einen ganzen Haufen an prozeduren. Diese sind teilweise aber nicht offiziell dokumentiert, so auch die `sp_MSforeachtable`, die ihr jetzt kennenlernen werdet. Ihr solltet sie daher nicht in einer produktiven Umgebung verwenden, bei der Entwicklung kann sie euch aber einiges an Arbeit abnehmen. Schauen wir sie uns also einmal an. \r\n",
                "### Wie könnt ihr sp_MSforeachtable verwenden?\r\n",
                "Um über die Tabellen eurer Datenbank zu iterieren und für jede Tabelle ein Kommando auszuführen, könnt ihr euch selber Abfragen schreiben, die eure Tabellen in den sys-Tabellen finden, diese dann iterieren und dynamische SQL Statements zu generieren, die ihr ausführen möchtet. Oder aber ihr könnt euch auf die Vorarbeit verlassen, die Microsoft an der Stelle für euch getan hat und die sp_MSforeachtable verwenden.\r\n",
                "\r\n",
                "Diese Prozedur hat folgende Argumente: \r\n",
                "- `@command1`: das erste SQL Kommando, das ihr für jede Tabelle ausführen möchtet\r\n",
                "- `@replacechar`: das Symbol das ihr in der Abfrage durch den jeweiligen Tabellennamen ersetzen möchtet. Standard hier ist das Fragezeichen, wenn ihr diesen Parameter nicht übergebt, dann wird das Fragezeichen in eurer Abfrage durch den Tabellennamen ersetzt. \r\n",
                "- `@command2` und `@command3`: weitere SQL Kommandos, die ihr für jede Tabelle ausführen möchtet\r\n",
                "- `@whereand`: eine `WHERE`-Bedingung, die die Tabellen auswählt, über die ihr iteriert. \r\n",
                "- @precommand und `@postcommand`: Kommandos die ihr vor oder nach dem Iterieren über die Tabellen ausführen möchtet. \r\n",
                "\r\n",
                "Viele der Parameter werden klarer, wenn ihr anfangt, die Prozedur zu verwenden, starten wir also mit einem einfachen Beispiel auf der WideWorldImporters-Datenbank. Der folgende Befehl gibt euch alle Tabellen in der Datenbank aus:"
            ],
            "metadata": {
                "azdata_cell_guid": "16a85aa3-4b6c-4f6b-889b-f822def6d5aa"
            }
        },
        {
            "cell_type": "code",
            "source": [
                "exec sp_MSforeachtable @command1='print ''?'''"
            ],
            "metadata": {
                "azdata_cell_guid": "5c62cc74-4ce9-44e0-aee3-62a11e17cd27"
            },
            "outputs": [],
            "execution_count": 0
        },
        {
            "cell_type": "markdown",
            "source": [
                "Kümmern wir uns nun um die Where-Bedingung, um die Tabellen zu filtern. Mit folgender Abfrage könnt ihr nur noch die Tabellen aus dem Application-Schema anzeigen:"
            ],
            "metadata": {
                "azdata_cell_guid": "f04cb2dc-dc9c-4e48-9c54-7628cd585dc5"
            }
        },
        {
            "cell_type": "code",
            "source": [
                "exec sp_MSforeachtable \r\n",
                "     @command1='print ''?'''\r\n",
                "    ,@whereand = 'AND schema_name(schema_id) = ''Application'''"
            ],
            "metadata": {
                "azdata_cell_guid": "c8dc661c-9c05-4bf2-b4e9-955cfdceb551"
            },
            "outputs": [],
            "execution_count": 0
        },
        {
            "cell_type": "markdown",
            "source": [
                "Ihr werdet später sehen, dass die `sp_MSforeachtable` die `sysobjects`-Tabelle mit der `sys.all_objects`-Tabelle joint, ihr könnt also alle Attribute dieser Tabellen verwenden, um eure Where-Bedingung zu schreiben. Wenn ihr tiefer in die Verwendung der `sp_MSforeachtable`-Prozedur einsteigen möchtet, als das in einem Ninja-Beitrag der Fall ist, solltet ihr euch diese Tabellen auf jeden Fall nochmal ansehen. \r\n",
                "\r\n",
                "Gehen wir nun jedoch einen Schritt weiter und arbeiten mit den Tabellen, die wir hier gefiltert haben. Nun legen wir uns im `dbo`-Schema entgegen aller best practices eine Tabelle mit dem Namen tables an, in die wir die Tabellennamen eintragen:"
            ],
            "metadata": {
                "azdata_cell_guid": "a683b209-f036-4b7e-883b-a4de7f444f9c"
            }
        },
        {
            "cell_type": "code",
            "source": [
                "exec sp_MSforeachtable \r\n",
                "     @command1='INSERT INTO dbo.tables (fullname) VALUES (''?'')'\r\n",
                "    ,@whereand = 'AND schema_name(schema_id) = ''Application'''\r\n",
                "    ,@precommand = 'DROP TABLE IF EXISTS dbo.tables; CREATE TABLE dbo.tables (fullname varchar(500))'"
            ],
            "metadata": {
                "azdata_cell_guid": "ac42743e-925d-449c-94a3-082ada10f695"
            },
            "outputs": [],
            "execution_count": 0
        },
        {
            "cell_type": "markdown",
            "source": [
                "Jetzt können wir `dbo.tables` abfragen:"
            ],
            "metadata": {
                "azdata_cell_guid": "3b580881-b3e2-435e-a72d-aa45fac610f1"
            }
        },
        {
            "cell_type": "code",
            "source": [
                "SELECT fullname \r\n",
                "FROM dbo.tables"
            ],
            "metadata": {
                "azdata_cell_guid": "b2b114c2-f24a-49cb-ab81-8620a05ce9e0"
            },
            "outputs": [],
            "execution_count": 0
        },
        {
            "cell_type": "markdown",
            "source": [
                "Doch wir können die Tabelle natürlich auch gleich wieder abräumen nachdem wir sie befüllt hatten, dafür verwenden wir das `@postcommand`:"
            ],
            "metadata": {
                "azdata_cell_guid": "ce1cee8e-b941-4c93-95e9-7332ebfa5ff4"
            }
        },
        {
            "cell_type": "code",
            "source": [
                "exec sp_MSforeachtable \r\n",
                "     @command1='INSERT INTO dbo.tables (fullname) VALUES (''?'')'\r\n",
                "    ,@whereand = 'AND schema_name(schema_id) = ''Application'''\r\n",
                "    ,@precommand = 'DROP TABLE IF EXISTS dbo.tables; CREATE TABLE dbo.tables (fullname varchar(500))'\r\n",
                "    ,@postcommand = 'SELECT fullname FROM dbo.tables; DROP TABLE dbo.tables'"
            ],
            "metadata": {
                "azdata_cell_guid": "51f36a01-f41c-4012-a0de-af9bdfc9ca20"
            },
            "outputs": [],
            "execution_count": 0
        },
        {
            "cell_type": "markdown",
            "source": [
                "Als Resultat sehen wir wieder die Tabellennamen in unserem Select, wenn wir nun aber die `dbo.tables`-Tabelle nach dem Beenden der Prozedur abfragen möchten, stellen wir fest dass sie nicht mehr existiert: "
            ],
            "metadata": {
                "azdata_cell_guid": "f9186b38-2223-44cc-b3a9-67a54e27f1a3"
            }
        },
        {
            "cell_type": "code",
            "source": [
                "SELECT fullname \r\n",
                "FROM dbo.tables"
            ],
            "metadata": {
                "azdata_cell_guid": "8c49c970-930f-4a5c-a429-dc84380fd446"
            },
            "outputs": [],
            "execution_count": 0
        },
        {
            "cell_type": "markdown",
            "source": [
                "Sie wurde nämlich wie erwartet vom `@postcommand` wieder aufgeräumt.\r\n",
                "\r\n",
                "Nun möchten wir vollkommen unkonventionell und in produktiven Umgebungen auch überhaupt nicht empfohlen, alle diese Tabellen neu indizieren. Dafür können wir das zweite Command verwenden, das wir an `sp_MSforeachtable` übergeben können:"
            ],
            "metadata": {
                "azdata_cell_guid": "5bace06d-5985-4aee-8397-0f12b7788a51"
            }
        },
        {
            "cell_type": "code",
            "source": [
                "exec sp_MSforeachtable \r\n",
                "     @command1='INSERT INTO dbo.tables (fullname) VALUES (''?'')'\r\n",
                "    ,@command2='DBCC DBREINDEX(''?'')'\r\n",
                "    ,@whereand = 'AND schema_name(schema_id) = ''Application'''\r\n",
                "    ,@precommand = 'DROP TABLE IF EXISTS dbo.tables; CREATE TABLE dbo.tables (fullname varchar(500))'\r\n",
                "    ,@postcommand = 'SELECT fullname FROM dbo.tables; DROP TABLE dbo.tables'"
            ],
            "metadata": {
                "azdata_cell_guid": "29f29e87-e599-492e-8994-0ce88a005db0"
            },
            "outputs": [],
            "execution_count": 0
        },
        {
            "cell_type": "markdown",
            "source": [
                "Da die Prozedur selber nicht dokumentiert ist, gibt es natürlich auch keine offizielle Dokumentation dazu. Wie könnt ihr dennoch herausfinden, was genau passieren wird, wenn ihr die Prozedur aufruft? Einfach: sucht die Prozedur im Management Studio oder im Azure Data Studio, klickt sie mit der rechten Maustaste an und klickt dann auf \"Script as create\", dann seht ihr den Quellcode der Prozedur und könnt sie für euch selber analysieren, auseinandernehmen und verstehen, wie die Parameter funktionieren. Sozusagen bekommt ihr von Microsoft ein Dojo für die Verwendung von Systemtabellen frei Haus geliefert. Also Katana gezückt und stellt euch dem Feind.  \n",
                "## Referenzen:\n",
                "- [Blogbeitrag mit einigen Verwendungsbeispielen](https://www.sqlservercurry.com/2009/04/8-common-uses-of-undocumented-stored.html)"
            ],
            "metadata": {
                "azdata_cell_guid": "a7dbd8e9-11dd-4c26-9a42-9faa2495af3b"
            }
        }
    ]
}