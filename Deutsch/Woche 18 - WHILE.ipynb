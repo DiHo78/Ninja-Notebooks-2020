{
    "metadata": {
        "kernelspec": {
            "name": "SQL",
            "display_name": "SQL",
            "language": "sql"
        },
        "language_info": {
            "name": "sql",
            "version": ""
        }
    },
    "nbformat_minor": 2,
    "nbformat": 4,
    "cells": [
        {
            "cell_type": "markdown",
            "source": [
                "# Woche 18: WHILE\r\n",
                "## Was ist WHILE?\r\n",
                "Im Gegensatz zu Data Definition Language Statements zum Erstellen von Views, Tabellen oder Indexen, Abfrage-Statements, um Daten in diese Strukturen einzufügen und wieder abzurufen, ist das `WHILE`-Schlüsselwort teil der Ablaufsteuerung. Das heißt, mit diesem Schlüsselwort können in SQL Statements Abläufe gesteuert und bestimmte Abfragen mehrfach ausgeführt werden.\r\n",
                "## Wie könnt ihr WHILE Statements verwenden?\r\n",
                "`WHILE`-Statements sind vor allem dann nützlich, wenn ihr eine Aufgabe mehrfach ausführen möchtet, also so lange bis eine bestimmte Bedingung erfüllt ist. Um zu demonstrieren, wie das funktioniert, legen wir uns zunächst eine kleine Tabelle an, in der wir festhalten, wie tödlich verschiedene Ninjas unseres Dojo sind:"
            ],
            "metadata": {
                "azdata_cell_guid": "11c189c2-83b3-4a81-a156-f900936ce35c"
            }
        },
        {
            "cell_type": "code",
            "source": [
                "DROP TABLE IF EXISTS #NinjaDemo\r\n",
                "\r\n",
                "CREATE TABLE #NinjaDemo\r\n",
                "(\r\n",
                "     NinjaId INT IDENTITY(1,1)\r\n",
                "    ,Deadlyness float NOT NULL\r\n",
                ")"
            ],
            "metadata": {
                "azdata_cell_guid": "be2de329-ff5d-4687-85b4-bd327c565d60"
            },
            "outputs": [],
            "execution_count": 0
        },
        {
            "cell_type": "markdown",
            "source": [
                "Nun möchten wir diese Tabelle mit den ersten fünf Ninjas befüllen, da wir aber nur Demo-Datensätze verwenden, um die Identität unserer Ninjas zu schützen, füllen wir die Tödlichkeits-Spalte mit Zufallszahlen. \r\n",
                "Das können wir dann wie folgt tun: "
            ],
            "metadata": {
                "azdata_cell_guid": "c5ce8853-462b-4bdc-ae4e-166b6043bcea"
            }
        },
        {
            "cell_type": "code",
            "source": [
                "INSERT INTO #NinjaDemo (Deadlyness)\r\n",
                "VALUES\r\n",
                " (RAND())\r\n",
                ",(RAND())\r\n",
                ",(RAND())\r\n",
                ",(RAND())\r\n",
                ",(RAND())"
            ],
            "metadata": {
                "azdata_cell_guid": "f0a3d3a4-907a-4d13-99cb-8d5dbd8c1ba5"
            },
            "outputs": [],
            "execution_count": 0
        },
        {
            "cell_type": "markdown",
            "source": [
                "Sehen wir uns die Datensätze nun an, so sehen wir fünf Einträge mit zufälligen Werten für Deadlyness. Wenn wir das nun aber für ein größeres Dojo tun möchten und statt der fünf Ninjas, 200 Einträge benötigen, könnten wir entweder per Copy & Paste ein sehr langes (und unübersichtliches) Statement erzeugen oder aber wir könnten ein `WHILE`-Statement verwenden, um die Datensätze zu erzeugen. Das ginge dann wie folgt: "
            ],
            "metadata": {
                "azdata_cell_guid": "fa4599b2-7222-412a-9f59-adfc24344490"
            }
        },
        {
            "cell_type": "code",
            "source": [
                "DECLARE @nRows int = 0;\r\n",
                "\r\n",
                "SELECT @nRows = COUNT(*) FROM #NinjaDemo\r\n",
                "WHILE @nRows < 200\r\n",
                "BEGIN\r\n",
                "    INSERT INTO #NinjaDemo (Deadlyness) VALUES (RAND())\r\n",
                "    SELECT @nRows = COUNT(*) FROM #NinjaDemo\r\n",
                "END\r\n",
                "\r\n",
                "SELECT * FROM #NinjaDemo"
            ],
            "metadata": {
                "azdata_cell_guid": "4e8822d5-248f-4ffc-9014-8c6ec1b16723"
            },
            "outputs": [],
            "execution_count": 0
        },
        {
            "cell_type": "markdown",
            "source": [
                "Nun hat die Tabelle 200 Einträge, wenn wir stattdessen aber 500 oder 5000 Einträge möchten, müssten wir in diesem Statement nur eine Zahl in der `WHILE`-Bedingung ändern. \r\n",
                "Doch große Tabellen mit Zufallszahlen zu füllen, dafür würde sich ein eigenes Sprachkonstrukt sicher nicht lohnen. Das `WHILE`-Statement kann natürlich noch mehr als das. Angenommen wir möchten alle geclusterten Indexe in unserer Datenbank neu aufbauen. Schreiben wir uns dafür zunächst eine Abfrage, die alle geclusterten Indexe auflistet: "
            ],
            "metadata": {
                "azdata_cell_guid": "b2a5baac-7cb8-41a5-b553-36f5ce4cd792"
            }
        },
        {
            "cell_type": "code",
            "source": [
                "SELECT \r\n",
                "    i.[name] as index_name\r\n",
                "    ,schema_name(t.schema_id) + '.' + t.[name] as table_view\r\n",
                "FROM sys.objects t\r\n",
                "INNER JOIN sys.indexes i\r\n",
                "    ON t.object_id = i.object_id\r\n",
                "WHERE t.[type] = 'U'\r\n",
                "    AND i.[type] = 1"
            ],
            "metadata": {
                "azdata_cell_guid": "b71e7af1-7cbf-4742-a185-5a1b76603926"
            },
            "outputs": [],
            "execution_count": 0
        },
        {
            "cell_type": "markdown",
            "source": [
                "Um nun alle diese Indexe neu aufzubauen, generieren wir uns dynamische SQL Statements, die wir ausführen möchten – __ACHTUNG__, das solltet Ihr natürlich im Dojo ausprobieren bevor ihr damit beim echten Wettkampf antretet (oder deutsch: nicht auf Produktivservern ausführen!). Das können wir mit einem `WHILE`-Statement tun, indem wir immer einen Index neu aufbauen bis kein Index mehr aufzubereiten ist. Dafür erzeugen wir uns zunächst eine temporäre Tabelle mit den Indexen, die wir neu aufbauen möchten: "
            ],
            "metadata": {
                "azdata_cell_guid": "f9ad8e4b-aff8-469d-9de9-53e312270ae2"
            }
        },
        {
            "cell_type": "code",
            "source": [
                "DROP TABLE IF EXISTS #sqlReorg\r\n",
                "\r\n",
                "SELECT \r\n",
                "    'ALTER INDEX ['+i.[name]+'] ON ['+schema_name(t.schema_id) + '].[' + t.[name]+'] REORGANIZE ;' as Stmt\r\n",
                "INTO #sqlReorg FROM sys.objects t\r\n",
                "INNER JOIN sys.indexes i\r\n",
                "    ON t.object_id = i.object_id\r\n",
                "WHERE t.[type] = 'U'\r\n",
                "    AND i.[type] = 1"
            ],
            "metadata": {
                "azdata_cell_guid": "8596da1b-b2bf-4448-80c3-4e9296d9bfa7"
            },
            "outputs": [],
            "execution_count": 0
        },
        {
            "cell_type": "markdown",
            "source": [
                "Nun holen wir uns aus dieser Tabelle immer einen Index, generieren das zugehörige Statement und löschen den Index aus der Tabelle:"
            ],
            "metadata": {
                "azdata_cell_guid": "3109df8d-bbf2-437b-b8ae-ac30702d6dfb"
            }
        },
        {
            "cell_type": "code",
            "source": [
                "DECLARE @stmt NVARCHAR(500)\r\n",
                "WHILE (SELECT COUNT(*) FROM #sqlReorg) > 0\r\n",
                "BEGIN\r\n",
                "    SELECT top(1) @stmt = [stmt] FROM #sqlReorg\r\n",
                "    DELETE FROM #sqlReorg WHERE [Stmt] = @stmt\r\n",
                "    PRINT 'Running '+@stmt\r\n",
                "    EXEC sp_Executesql @stmt\r\n",
                "END"
            ],
            "metadata": {
                "azdata_cell_guid": "af2c14f5-c67c-408d-ab70-6114504bc8ca"
            },
            "outputs": [],
            "execution_count": 0
        },
        {
            "cell_type": "markdown",
            "source": [
                "Das ist natürlich so nicht best practice, da hier beispielsweise komplett auf Fehlerbehandlung verzichtet wurde, es zeigt aber, wie das `WHILE`-Statement verwendet werden kann, um mehrere Statements auszuführen.\n",
                "Wichtig ist: SQL ist immer dann effizient, wenn mit Datenmengen gearbeitet wird. `WHILE`-Statements arbeiten per Definition zunächst mit einzelnen Datensätzen, das bedeutet was ihr hier tut ist potenziell immer eine langsame Lösung für Euer Problem. Oft gibt es bessere und effizientere Lösungen, bevor ihr also mit einem `WHILE`-Statement an den Start geht, überlegt gut, ob das wirklich die beste Lösung ist und ob ihr es dem Server nicht doch irgendwie ermöglichen könnt, effizient mit mehreren Datensätzen zu arbeiten… \n",
                "## Referenzen\n",
                "- [Offizielle Dokumentation von Microsoft](https://docs.microsoft.com/de-de/sql/t-sql/language-elements/while-transact-sql?view=sql-server-ver15)"
            ],
            "metadata": {
                "azdata_cell_guid": "ae119ce2-7bb7-4e4d-94c9-dc2d26aaa814"
            }
        }
    ]
}