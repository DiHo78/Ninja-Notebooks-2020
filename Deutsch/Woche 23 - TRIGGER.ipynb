{
    "metadata": {
        "kernelspec": {
            "name": "SQL",
            "display_name": "SQL",
            "language": "sql"
        },
        "language_info": {
            "name": "sql",
            "version": ""
        }
    },
    "nbformat_minor": 2,
    "nbformat": 4,
    "cells": [
        {
            "cell_type": "markdown",
            "source": [
                "# Woche 23: TRIGGER\r\n",
                "## Was sind TRIGGER?\r\n",
                "Ihr habt im Dojo nun schon oft gehört, dass SQL immer dann effektiv ist, wenn ihr auf Datensätzen operiert und dass SQL eine Sprache ist, die Mengenoperationen ermöglicht. Deshalb sind auch die Möglichkeiten zur Ablaufsteuerung in SQL im Vergleich zu anderen Programmiersprachen eher dünn gesät, einige davon habt ihr bereits an dieser Stelle kennengelernt. Doch wie sieht es mit Funktionsaufrufen aus? Wie könnt ihr reagieren, wenn eine Zeile in eine Tabelle eingefügt wurde? Die Antwort auf diese Fragestellungen lautet `TRIGGER`.  \r\n",
                "## Wofür könnt ihr TRIGGER verwenden?\r\n",
                "Die meisten von euch kennen `TRIGGER` vermutlich als Konstrukt, das immer dann greift, wenn ein Datensatz eingefügt, verändert oder gelöscht wird. Darüber hinaus gibt es auch `TRIGGER`, die immer dann greifen, wenn Objekte in Datenbanken erstellt, verändert oder gelöscht werden. Außerdem gibt es noch `LOGIN-TRIGGER`. \r\n",
                "Was heißt aber nun \"greifen\"? Oft wird hier – in Analogie zum Trigger als Abzug einer Schusswaffe – auch von \"feuern\" gesprochen. Was damit genau gemeint ist, dafür legen wir uns erstmal einen `TRIGGER` an. Zunächst benötigen wir dafür zwei Tabellen, eine auf der wir den Trigger definieren und eine, in die wir Daten schreiben, wenn der Trigger \"feuert\". Für diese Tabellen legen wir uns ein eigenes Schema an: "
            ],
            "metadata": {
                "azdata_cell_guid": "1ef255c2-5869-41c5-be09-c94ca89aa4a1"
            }
        },
        {
            "cell_type": "code",
            "source": [
                "CREATE SCHEMA Trig\r\n",
                "GO"
            ],
            "metadata": {
                "azdata_cell_guid": "d00fb4ea-40d5-44d4-a93b-fc7ac9f82e13"
            },
            "outputs": [],
            "execution_count": 0
        },
        {
            "cell_type": "markdown",
            "source": [
                "In dieses Schema kommen jetzt wie gesagt zwei Tabellen: "
            ],
            "metadata": {
                "azdata_cell_guid": "ce0812a9-dd9c-4ca9-932a-cdb7425fb067"
            }
        },
        {
            "cell_type": "code",
            "source": [
                "DROP TABLE IF EXISTS Trig.FirstNames\r\n",
                "DROP TABLE IF EXISTS Trig.FullNames\r\n",
                "\r\n",
                "CREATE TABLE Trig.FirstNames (\r\n",
                "     FirstNameId INT IDENTITY(1,1)\r\n",
                "    ,FirstName varchar(250) not null\r\n",
                ")\r\n",
                "\r\n",
                "CREATE TABLE Trig.FullNames (\r\n",
                "     FullNameId INT IDENTITY(10,10)\r\n",
                "    ,FirstNameId INT NULL\r\n",
                "    ,LastNameId INT NULL\r\n",
                "    ,FirstName varchar(250) NULL\r\n",
                "    ,LastName varchar(250) NULL\r\n",
                ")\r\n",
                "\r\n",
                "GO "
            ],
            "metadata": {
                "azdata_cell_guid": "2c99137a-60cc-459c-94c5-bf7317512deb"
            },
            "outputs": [],
            "execution_count": 0
        },
        {
            "cell_type": "markdown",
            "source": [
                "Nun sind wir mit den Vorbereitungen soweit fertig, dass wir einen Trigger definieren können: "
            ],
            "metadata": {
                "azdata_cell_guid": "b0457f24-51f7-420d-840a-fc4f1214487d"
            }
        },
        {
            "cell_type": "code",
            "source": [
                "CREATE TRIGGER Trig.TestInsertTrigger \r\n",
                "ON Trig.FirstNames\r\n",
                "AFTER INSERT AS \r\n",
                "BEGIN\r\n",
                "    SET NOCOUNT ON;\r\n",
                "    INSERT INTO Trig.FullNames \r\n",
                "        (FirstName, FirstNameId) \r\n",
                "    SELECT \r\n",
                "        i.FirstName, i.FirstNameId \r\n",
                "    FROM inserted i \r\n",
                "END\r\n",
                "\r\n",
                "GO"
            ],
            "metadata": {
                "azdata_cell_guid": "097d6eb4-db2c-4259-8f70-8a23755c3849"
            },
            "outputs": [],
            "execution_count": 0
        },
        {
            "cell_type": "markdown",
            "source": [
                "Wenn ihr euch dieses Statement anseht, dann seht ihr, dass es aus vier Teilen besteht, die wir uns nun ansehen möchten: \r\n",
                "- `CREATE TRIGGER` mit dem Namen des Triggers definiert, was für ein Objekt wir anlegen möchten und wie es heißen soll. \r\n",
                "- `ON` definiert die Tabelle, auf die der Trigger reagieren soll\r\n",
                "- `AFTER INSERT` gibt an, wann der Trigger feuern soll, es gibt hier neben `INSERT` auch die Möglichkeit, auf `DELETE` oder `UPDATE` zu reagieren oder auf Kombinationen daraus (durch Kommas getrennt) angeben. Ein Trigger, der bei `INSERT`, `UPDATE` und `DELETE` feuert, ist ein \"touch trigger\", der jede Veränderung an der Tabelle registriert. `AFTER INSERT` bedeutet, dass der `TRIGGER` erst ausgeführt wird, wenn alle Teile des einfügenden Statements erfolgreich abgeschlossen wurden. \r\n",
                "- Dann folgt mit `BEGIN` und `END` ein Block, der definiert, was nach dem `INSERT` erfolgen soll, hierbei könnt ihr mit \"inserted\" bzw. \"deleted\" auf die neu eingefügten bzw. gelöschten oder überschriebenen Werte zugreifen. \r\n",
                " So einfach habt ihr euren ersten Trigger definiert. Fügt nun Datensätze in die FirstName-Tabelle ein:"
            ],
            "metadata": {
                "azdata_cell_guid": "d604ff0a-654f-4689-8df1-19c7081777bf"
            }
        },
        {
            "cell_type": "code",
            "source": [
                "INSERT INTO Trig.FirstNames\r\n",
                "    (FirstName)\r\n",
                "VALUES \r\n",
                "    ('Akasuki'), ('Emiko'), ('Saeko')"
            ],
            "metadata": {
                "azdata_cell_guid": "29c149e1-b4c7-4f18-bca1-f07bcf51ae68"
            },
            "outputs": [],
            "execution_count": 0
        },
        {
            "cell_type": "markdown",
            "source": [
                "Fragt ihr nun die `FirstNames`-Tabelle ab, so seht ihr wenig überraschend drei Einträge mit den IDs 1, 2 und 3. Durch den Trigger wurden diese Datensätze nun aber auch in die FullNames-Tabelle geschrieben. Hier allerdings in umgekehrter Reihenfolge, so dass \"Saeko\" mit der `FirstNameId` 3 die `FullNameId` 10 hat während \"Akasuki\" mit der `FirstNameId` 1 die `FullNameId` 30 hat. Das liegt daran, dass wir unseren Trigger als `AFTER INSERT` definiert hatten, was bedeutet, dass die `TRIGGER`-Statements erst ausgeführt werden, wenn alle drei `INSERT`s erfolgreich waren. In welcher Reihenfolge die Datensätze dann in die `FullName`-Tabelle eingefügt werden, ist dem SQL Server überlassen, der die durch den Trigger abgefeuerten Statements auf einen LIFO Call Stack legt, der nach dem erfolgreichen Abschluss des `INSERT` Statements abgearbeitet wird. \r\n",
                "Genauso wie wir nun einen `AFTER INSERT`-`TRIGGER` definiert haben, könnt ihr `INSTEAD OF INSERT`-`Trigger` schreiben, die das `INSERT`-Statement abfangen und umleiten. Dafür modifizieren wir unseren Insert-Trigger noch einmal: "
            ],
            "metadata": {
                "azdata_cell_guid": "d19024d0-f33f-4346-b516-2c823f68a05d"
            }
        },
        {
            "cell_type": "code",
            "source": [
                "ALTER TRIGGER Trig.TestInsertTrigger \r\n",
                "ON Trig.FirstNames\r\n",
                "INSTEAD OF INSERT AS \r\n",
                "BEGIN\r\n",
                "    SET NOCOUNT ON;\r\n",
                "    INSERT INTO Trig.FullNames \r\n",
                "        (FirstName, FirstNameId) \r\n",
                "    SELECT \r\n",
                "        i.FirstName, i.FirstNameId \r\n",
                "    FROM inserted i \r\n",
                "END"
            ],
            "metadata": {
                "azdata_cell_guid": "6381389d-3a0d-4f89-bf89-e03220ae7679"
            },
            "outputs": [],
            "execution_count": 0
        },
        {
            "cell_type": "markdown",
            "source": [
                "Nun fügen wir erneut eine Zeile in die FirstName-Tabelle ein:"
            ],
            "metadata": {
                "azdata_cell_guid": "db125e1f-1528-4dcb-a166-389ecc88ec24"
            }
        },
        {
            "cell_type": "code",
            "source": [
                "INSERT INTO Trig.FirstNames\r\n",
                "    (FirstName)\r\n",
                "VALUES \r\n",
                "    ('Sato')"
            ],
            "metadata": {
                "azdata_cell_guid": "c113711c-d2d3-401f-b3ea-8893f19aa71e"
            },
            "outputs": [],
            "execution_count": 0
        },
        {
            "cell_type": "markdown",
            "source": [
                "Fragt ihr nun die beiden Tabellen ab, so seht ihr in der `FirstNames`-Tabelle drei Einträge (\"Akasuki\", \"Emiko\" und \"Saeko\"), in der `FullNames`-Tabelle aber noch zusätzlich den Eintrag von \"Sato\":"
            ],
            "metadata": {
                "azdata_cell_guid": "4082e5b9-bbcd-43b9-b094-d6c5e495f8e9"
            }
        },
        {
            "cell_type": "code",
            "source": [
                "SELECT * FROM Trig.FirstNames\r\n",
                "SELECT * FROM Trig.FullNames"
            ],
            "metadata": {
                "azdata_cell_guid": "98f9cea4-9e73-466a-a1b3-5d053fe9f2a7"
            },
            "outputs": [],
            "execution_count": 0
        },
        {
            "cell_type": "markdown",
            "source": [
                "Wichtig bei der Arbeit mit Triggern: Da Trigger zeilenweise operieren, können sie für die Performance einer Datenbank tödlich sein. Wenn ein einfaches `INSERT` viele andere `INSERT`s nach sich zieht, ist das für den Endanwender nicht nachvollziehbar. Es empfiehlt sich also, mit TRIGGERn sparsam umzugehen in euren Datenbanken. \n",
                "\n",
                "Außerdem verschlechtert sich die Verständlichkeit eurer Anwendung erheblich, wenn beim `INSERT` in Tabelle A auf einmal Daten in Tabelle B auftauchen statt in Tabelle A. `INSTEAD OF DELETE`-Trigger können aber auch nützlich sein, wenn ihr mit IsDeleted-Flags arbeiten möchtet, anstatt Datensätze zu löschen, denn durch den `INSTEAD OF DELETE`-Trigger kann das versehentliche Löschen von Daten verhindert werden. Seid trotzdem vorsichtig bei der Arbeit mit TRIGGERn. \n",
                "## Referenzen\n",
                "- [Dokumentation von Microsoft](https://docs.microsoft.com/de-de/sql/t-sql/statements/create-trigger-transact-sql?view=sql-server-ver15)\n",
                ""
            ],
            "metadata": {
                "azdata_cell_guid": "7cfcaffa-13ec-4f04-b7fd-28c7eee4bf4d"
            }
        }
    ]
}