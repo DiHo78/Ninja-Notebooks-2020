{
    "metadata": {
        "kernelspec": {
            "name": "SQL",
            "display_name": "SQL",
            "language": "sql"
        },
        "language_info": {
            "name": "sql",
            "version": ""
        }
    },
    "nbformat_minor": 2,
    "nbformat": 4,
    "cells": [
        {
            "cell_type": "markdown",
            "source": [
                "# Woche 7: OUTER APPLY\r\n",
                "### Was ist OUTER APPLY?\r\n",
                "`OUTER APPLY` ist ein Mittel, das euch zunächst einmal die Möglichkeit gibt, Unterabfragen zu formulieren, die für jede Zeile im Ergebnis ausgeführt wird und dann an das Ergebnis gejoint wird. Damit ist es natürlich auch ein Mittel, das mit höchster Vorsicht zu genießen ist, denn da ein `OUTER APPLY` für jede Zeile im Ergebnis ausgeführt wird, kann selbst eine billige (Unter-)Abfrage hier zu hohen Gesamtkosten für die Abfrage führen.\r\n",
                "### Wie könnt ihr OUTER APPLY verwenden?\r\n",
                "Stellt euch vor, dass ihr in der Wide World Importers Datenbank zu jedem Item im Lager wissen möchtet, wann es zuletzt bestellt wurde. Würdet ihr nun die Items mit den Orders Joinen, so hättet ihr ein gewaltiges Resultset, bei dem ihr zu jedem Item jede Bestellung erfahrt. Aus diesen müsstet ihr dann die jeweils letzten heraussuchen. Dadurch würdet ihr mit einer viel größeren Datenmenge arbeiten, als ihr das eigentlich möchtet. Das bedeutet, dass ihr mehr Speicher, mehr Temp DB und mehr CPU Zeit benötigt, um die Abfrage zu bearbeiten, als es die eigentliche Datenmenge rechtfertigt. \r\n",
                "Wenn ihr das vermeiden möchtet, könnt ihr mittels `OUTER APPLY` für jede Zeile eine Unterabfrage ausführen, die diesen Wert ergänzt. Das Ganze sieht dann so aus:"
            ],
            "metadata": {
                "azdata_cell_guid": "fab5330a-a8bb-4f75-968c-1a03c2878177"
            }
        },
        {
            "cell_type": "code",
            "source": [
                "SELECT \r\n",
                "     si.[StockItemID]\r\n",
                "    ,si.[StockItemName]\r\n",
                "    ,si.[UnitPrice] \r\n",
                "    ,od.[LastOrderDate] \r\n",
                "FROM [Warehouse].[StockItems] si\r\n",
                "OUTER APPLY (\r\n",
                "    SELECT TOP 1 \r\n",
                "        o.[OrderDate] as LastOrderDate \r\n",
                "    FROM [Sales].[Orders] as o \r\n",
                "    LEFT JOIN [Sales].[OrderLines] as ol \r\n",
                "    ON o.[OrderID]= ol.[OrderID] \r\n",
                "    WHERE ol.StockItemID = si.StockItemID \r\n",
                "    ORDER BY o.[OrderDate] desc \r\n",
                ") od"
            ],
            "metadata": {
                "azdata_cell_guid": "7efa2d41-11a1-41c4-8eff-10635934fc74"
            },
            "outputs": [],
            "execution_count": 0
        },
        {
            "cell_type": "markdown",
            "source": [
                "Wenn ihr nun den Ausführungsplan für diese Abfrage anseht, dann seht ihr im Plan die Unterabfrage mit 277 Ausführungen, so vielen wie die Abfrage Zeilen zurückgibt.\r\n",
                "\r\n",
                "## #HIER KOMMT NOCH EIN BILD HIN#\r\n",
                "Das ist natürlich nicht sonderlich effizient. In diesem Beispiel könnt ihr stattdessen auch mit einer CTE arbeiten (mehr darüber könnt ihr im ersten Teil der Serie nachlesen). Die Abfrage sähe dann so aus:"
            ],
            "metadata": {
                "azdata_cell_guid": "945e52fe-4975-4efa-aaed-fbdbb2930d87"
            }
        },
        {
            "cell_type": "code",
            "source": [
                ";WITH cte_lastOrder as (\r\n",
                "    SELECT \r\n",
                "         MAX(o.[OrderDate]) as LastOrderDate \r\n",
                "        ,ol.[StockItemID]\r\n",
                "    FROM [Sales].[Orders] as o \r\n",
                "    LEFT JOIN [Sales].[OrderLines] as ol \r\n",
                "    ON o.[OrderID]= ol.[OrderID] \r\n",
                "    GROUP BY ol.StockItemID\r\n",
                ")\r\n",
                "SELECT \r\n",
                "     si.[StockItemID]\r\n",
                "    ,si.[StockItemName]\r\n",
                "    ,si.[UnitPrice] \r\n",
                "    ,lo.[LastOrderDate] \r\n",
                "FROM [Warehouse].[StockItems] si\r\n",
                "LEFT JOIN cte_lastOrder lo \r\n",
                "ON si.StockItemID = lo.StockItemID"
            ],
            "metadata": {
                "azdata_cell_guid": "6620245b-2ee6-483a-8da5-d9752c75b937"
            },
            "outputs": [],
            "execution_count": 0
        },
        {
            "cell_type": "markdown",
            "source": [
                "Nun könnt ihr euch fragen: wenn das auch mit CTEs geht, wofür brauchen wir dann überhaupt einen `APPLY`-Operator? Ganz einfach: nicht immer möchtet ihr Tabellen zusammenführen, `APPLY` gibt euch darüber hinaus auch die Möglichkeit, für jede Zeile eines Abfrageergebnisses eine Table Valued Function auszuführen und das Ergebnis mit der Zeile zu joinen, ihr erhaltet hier also die Freiheit, viel mehr Operationen durchzuführen, als das bei normalen `JOIN`-Operationen möglich ist. \r\n",
                "Übrigens entspricht ein `OUTER APPLY` einem `LEFT JOIN`, während ein `CROSS APPLY` einer `INNER JOIN` Operation entspricht.\r\n",
                "### Referenzen\r\n",
                "- [Offizielle Dokumentation von Microsoft](https://docs.microsoft.com/de-de/sql/t-sql/queries/from-transact-sql?view=sql-server-2017)"
            ],
            "metadata": {
                "azdata_cell_guid": "6060d8a4-53b4-4d0d-8bd0-b0b36aaca3cb"
            }
        }
    ]
}