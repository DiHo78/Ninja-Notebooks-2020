{
    "metadata": {
        "kernelspec": {
            "name": "SQL",
            "display_name": "SQL",
            "language": "sql"
        },
        "language_info": {
            "name": "sql",
            "version": ""
        }
    },
    "nbformat_minor": 2,
    "nbformat": 4,
    "cells": [
        {
            "cell_type": "markdown",
            "source": [
                "# Woche 4: Select for JSON\r\n",
                "### Was ist SELECT FOR JSON?\r\n",
                "In nahezu jeder neuen Web-Anwendungen ist JSON das Dateiformat für Datenaustausch. JSON ist lesbar, übersichtlicher als beispielsweise XML und hat kleinere Datenmengen, deshalb findet es zunehmend Verbreitung in der Web-Welt. JSON steht für JavaScript Object Notation. Nun hat – ähnlich wie das früher mit `SELECT FOR XML` ging – Microsoft sich entschieden, dieses neue De Facto Standardformat mit einer eigenen Ausgabemöglichkeit zu unterstützen.\r\n",
                "### Wie könnt ihr SELECT FOR JSON verwenden?\r\n",
                "`SELECT FOR JSON` gibt euch die Möglichkeit, Abgabeergebnisse im JSON-Format auszugeben. Dabei könnt ihr den Entitäten in eurer Ausgabe neue Namen geben und eure Ausgabe auch ein wenig formatieren. \r\n",
                "Um das zu testen, nehmen wir uns mal in der Wide World Importers Datenbank die zwei teuersten Produkte vor:"
            ],
            "metadata": {
                "azdata_cell_guid": "f47e8b72-6f5e-4f0f-a447-947361b6a5f3"
            }
        },
        {
            "cell_type": "code",
            "source": [
                "SELECT TOP 2 \r\n",
                "     si.StockItemID\r\n",
                "    ,si.StockItemName\r\n",
                "    ,si.UnitPrice\r\n",
                "    ,sg.StockGroupName\r\n",
                "FROM [Warehouse].[StockItems] AS si\r\n",
                "LEFT JOIN [Warehouse].[StockItemStockGroups] as sisg\r\n",
                "ON si.[StockItemID] = sisg.[StockItemID]\r\n",
                "LEFT JOIN [Warehouse].[StockGroups] sg \r\n",
                "ON sg.[StockGroupID] = sisg.[StockGroupID]\r\n",
                "ORDER BY si.[UnitPrice] DESC"
            ],
            "metadata": {
                "azdata_cell_guid": "fa3427b6-dd92-4fa6-acdb-58e9659c4c90"
            },
            "outputs": [
                {
                    "output_type": "display_data",
                    "data": {
                        "text/html": "(2 rows affected)"
                    },
                    "metadata": {}
                },
                {
                    "output_type": "display_data",
                    "data": {
                        "text/html": "Total execution time: 00:00:00.099"
                    },
                    "metadata": {}
                },
                {
                    "output_type": "execute_result",
                    "execution_count": 2,
                    "data": {
                        "application/vnd.dataresource+json": {
                            "schema": {
                                "fields": [
                                    {
                                        "name": "StockItemID"
                                    },
                                    {
                                        "name": "StockItemName"
                                    },
                                    {
                                        "name": "UnitPrice"
                                    },
                                    {
                                        "name": "StockGroupName"
                                    }
                                ]
                            },
                            "data": [
                                {
                                    "0": "215",
                                    "1": "Air cushion machine (Blue)",
                                    "2": "1899,00",
                                    "3": "Packaging Materials"
                                },
                                {
                                    "0": "75",
                                    "1": "Ride on big wheel monster truck (Black) 1/12 scale",
                                    "2": "345,00",
                                    "3": "Novelty Items"
                                }
                            ]
                        },
                        "text/html": "<table><tr><th>StockItemID</th><th>StockItemName</th><th>UnitPrice</th><th>StockGroupName</th></tr><tr><td>215</td><td>Air cushion machine (Blue)</td><td>1899,00</td><td>Packaging Materials</td></tr><tr><td>75</td><td>Ride on big wheel monster truck (Black) 1/12 scale</td><td>345,00</td><td>Novelty Items</td></tr></table>"
                    },
                    "metadata": {}
                }
            ],
            "execution_count": 2
        },
        {
            "cell_type": "markdown",
            "source": [
                "Das liefert uns erwartungsgemäß eine Ergebnismenge mit zwei Produkten darin.\r\n",
                "Wenn wir diese nun beispielsweise an einen Webservice übergeben wollten, könnten wir sie dafür wie folgt ins JSON-Format bringen:\r\n",
                "\r\n",
                ""
            ],
            "metadata": {
                "azdata_cell_guid": "a7124b28-ce26-4c06-a31f-7e457efd9fdd"
            }
        },
        {
            "cell_type": "code",
            "source": [
                "SELECT TOP 2 \r\n",
                "     si.StockItemID\r\n",
                "    ,si.StockItemName\r\n",
                "    ,si.UnitPrice\r\n",
                "    ,sg.StockGroupName\r\n",
                "FROM [Warehouse].[StockItems] AS si\r\n",
                "LEFT JOIN [Warehouse].[StockItemStockGroups] as sisg\r\n",
                "ON si.[StockItemID] = sisg.[StockItemID]\r\n",
                "LEFT JOIN [Warehouse].[StockGroups] sg \r\n",
                "ON sg.[StockGroupID] = sisg.[StockGroupID]\r\n",
                "ORDER BY si.[UnitPrice] DESC\r\n",
                "FOR JSON AUTO;"
            ],
            "metadata": {
                "azdata_cell_guid": "bac45689-4545-4052-869e-6548e9a0c597"
            },
            "outputs": [
                {
                    "output_type": "display_data",
                    "data": {
                        "text/html": "(2 rows affected)"
                    },
                    "metadata": {}
                },
                {
                    "output_type": "display_data",
                    "data": {
                        "text/html": "Total execution time: 00:00:00.110"
                    },
                    "metadata": {}
                },
                {
                    "output_type": "execute_result",
                    "execution_count": 3,
                    "data": {
                        "application/vnd.dataresource+json": {
                            "schema": {
                                "fields": [
                                    {
                                        "name": "JSON_F52E2B61-18A1-11d1-B105-00805F49916B"
                                    }
                                ]
                            },
                            "data": [
                                {
                                    "0": "[{\"StockItemID\":215,\"StockItemName\":\"Air cushion machine (Blue)\",\"UnitPrice\":1899.00,\"sg\":[{\"StockGroupName\":\"Packaging Materials\"}]},{\"StockItemID\":75,\"StockItemName\":\"Ride on big wheel monster truck (Black) 1\\/12 scale\",\"UnitPrice\":345.00,\"sg\":[{\"StockGroupName\":\"Novelty Items\"}]}]"
                                }
                            ]
                        },
                        "text/html": "<table><tr><th>JSON_F52E2B61-18A1-11d1-B105-00805F49916B</th></tr><tr><td>[{&quot;StockItemID&quot;:215,&quot;StockItemName&quot;:&quot;Air cushion machine (Blue)&quot;,&quot;UnitPrice&quot;:1899.00,&quot;sg&quot;:[{&quot;StockGroupName&quot;:&quot;Packaging Materials&quot;}]},{&quot;StockItemID&quot;:75,&quot;StockItemName&quot;:&quot;Ride on big wheel monster truck (Black) 1\\/12 scale&quot;,&quot;UnitPrice&quot;:345.00,&quot;sg&quot;:[{&quot;StockGroupName&quot;:&quot;Novelty Items&quot;}]}]</td></tr></table>"
                    },
                    "metadata": {}
                }
            ],
            "execution_count": 3
        },
        {
            "cell_type": "markdown",
            "source": [
                "Das Resultat ist eine Zelle, die folgenden String enthält:\r\n",
                "````json\r\n",
                "[\r\n",
                "    {\r\n",
                "        \"StockItemID\": 215,\r\n",
                "        \"StockItemName\": \"Air cushion machine (Blue)\",\r\n",
                "        \"UnitPrice\": 1899,\r\n",
                "        \"sg\": [\r\n",
                "            {\r\n",
                "                \"StockGroupName\": \"Packaging Materials\"\r\n",
                "            }\r\n",
                "        ]\r\n",
                "    },\r\n",
                "    {\r\n",
                "        \"StockItemID\": 75,\r\n",
                "        \"StockItemName\": \"Ride on big wheel monster truck (Black) 1/12 scale\",\r\n",
                "        \"UnitPrice\": 345,\r\n",
                "        \"sg\": [\r\n",
                "            {\r\n",
                "                \"StockGroupName\": \"Novelty Items\"\r\n",
                "            }\r\n",
                "        ]\r\n",
                "    }\r\n",
                "]\r\n",
                "````\r\n",
                "Das ist schonmal ganz schön, allerdings noch nicht 100%ig befriedigend, da wir die einzelnen Einträge möglicherweise noch umbenennen möchten und auch das `sg` ein wenig stört. Schreiben wir die Umfrage also ein wenig um:"
            ],
            "metadata": {
                "azdata_cell_guid": "0fa78076-3365-46aa-b5dd-e5c2c5fcc328"
            }
        },
        {
            "cell_type": "code",
            "source": [
                "SELECT TOP 2 \r\n",
                "     si.StockItemID as 'item.itemId'\r\n",
                "    ,si.StockItemName as 'item.name'\r\n",
                "    ,si.UnitPrice as 'item.price'\r\n",
                "    ,sg.StockGroupName as 'itemgroup.name'\r\n",
                "FROM [Warehouse].[StockItems] AS si\r\n",
                "LEFT JOIN [Warehouse].[StockItemStockGroups] as sisg\r\n",
                "ON si.[StockItemID] = sisg.[StockItemID]\r\n",
                "LEFT JOIN [Warehouse].[StockGroups] sg \r\n",
                "ON sg.[StockGroupID] = sisg.[StockGroupID]\r\n",
                "ORDER BY si.[UnitPrice] DESC\r\n",
                "FOR JSON PATH;"
            ],
            "metadata": {
                "azdata_cell_guid": "39a96ac7-3413-47ec-88e5-3ca46d803f82"
            },
            "outputs": [
                {
                    "output_type": "display_data",
                    "data": {
                        "text/html": "(2 rows affected)"
                    },
                    "metadata": {}
                },
                {
                    "output_type": "display_data",
                    "data": {
                        "text/html": "Total execution time: 00:00:00.024"
                    },
                    "metadata": {}
                },
                {
                    "output_type": "execute_result",
                    "execution_count": 4,
                    "data": {
                        "application/vnd.dataresource+json": {
                            "schema": {
                                "fields": [
                                    {
                                        "name": "JSON_F52E2B61-18A1-11d1-B105-00805F49916B"
                                    }
                                ]
                            },
                            "data": [
                                {
                                    "0": "[{\"item\":{\"itemId\":215,\"name\":\"Air cushion machine (Blue)\",\"price\":1899.00},\"itemgroup\":{\"name\":\"Packaging Materials\"}},{\"item\":{\"itemId\":75,\"name\":\"Ride on big wheel monster truck (Black) 1\\/12 scale\",\"price\":345.00},\"itemgroup\":{\"name\":\"Novelty Items\"}}]"
                                }
                            ]
                        },
                        "text/html": "<table><tr><th>JSON_F52E2B61-18A1-11d1-B105-00805F49916B</th></tr><tr><td>[{&quot;item&quot;:{&quot;itemId&quot;:215,&quot;name&quot;:&quot;Air cushion machine (Blue)&quot;,&quot;price&quot;:1899.00},&quot;itemgroup&quot;:{&quot;name&quot;:&quot;Packaging Materials&quot;}},{&quot;item&quot;:{&quot;itemId&quot;:75,&quot;name&quot;:&quot;Ride on big wheel monster truck (Black) 1\\/12 scale&quot;,&quot;price&quot;:345.00},&quot;itemgroup&quot;:{&quot;name&quot;:&quot;Novelty Items&quot;}}]</td></tr></table>"
                    },
                    "metadata": {}
                }
            ],
            "execution_count": 4
        },
        {
            "cell_type": "markdown",
            "source": [
                "Dabei überschreiben wir das vorher auf `AUTO` gesetzte Verhalten zur Benennung der Items und wählen deshalb `FOR JSON PATH`. Das Resultat ist schon weitaus schöner formatiert als der erste automatische Versuch:\r\n",
                "````JSON\r\n",
                "[\r\n",
                "    {\r\n",
                "        \"item\": {\r\n",
                "            \"itemId\": 215,\r\n",
                "            \"name\": \"Air cushion machine (Blue)\",\r\n",
                "            \"price\": 1899\r\n",
                "        },\r\n",
                "        \"itemgroup\": {\r\n",
                "            \"name\": \"Packaging Materials\"\r\n",
                "        }\r\n",
                "    },\r\n",
                "    {\r\n",
                "        \"item\": {\r\n",
                "            \"itemId\": 75,\r\n",
                "            \"name\": \"Ride on big wheel monster truck (Black) 1/12 scale\",\r\n",
                "            \"price\": 345\r\n",
                "        },\r\n",
                "        \"itemgroup\": {\r\n",
                "            \"name\": \"Novelty Items\"\r\n",
                "        }\r\n",
                "    }\r\n",
                "]\r\n",
                "````\r\n",
                "Doch nun möchten wir noch die Root des Dokuments umbenennen:"
            ],
            "metadata": {
                "azdata_cell_guid": "9d74b01a-90a2-47f7-b88b-edf00b6e0f63"
            }
        },
        {
            "cell_type": "code",
            "source": [
                "SELECT TOP 2 \r\n",
                "     si.StockItemID as 'item.itemId'\r\n",
                "    ,si.StockItemName as 'item.name'\r\n",
                "    ,si.UnitPrice as 'item.price'\r\n",
                "    ,sg.StockGroupName as 'itemgroup.name'\r\n",
                "FROM [Warehouse].[StockItems] AS si\r\n",
                "LEFT JOIN [Warehouse].[StockItemStockGroups] as sisg\r\n",
                "ON si.[StockItemID] = sisg.[StockItemID]\r\n",
                "LEFT JOIN [Warehouse].[StockGroups] sg \r\n",
                "ON sg.[StockGroupID] = sisg.[StockGroupID]\r\n",
                "ORDER BY si.[UnitPrice] DESC\r\n",
                "FOR JSON PATH, ROOT('topItems');"
            ],
            "metadata": {
                "azdata_cell_guid": "39b3c511-83a6-4d0c-83fb-96a9ced637ff"
            },
            "outputs": [
                {
                    "output_type": "display_data",
                    "data": {
                        "text/html": "(2 rows affected)"
                    },
                    "metadata": {}
                },
                {
                    "output_type": "display_data",
                    "data": {
                        "text/html": "Total execution time: 00:00:00.024"
                    },
                    "metadata": {}
                },
                {
                    "output_type": "execute_result",
                    "execution_count": 5,
                    "data": {
                        "application/vnd.dataresource+json": {
                            "schema": {
                                "fields": [
                                    {
                                        "name": "JSON_F52E2B61-18A1-11d1-B105-00805F49916B"
                                    }
                                ]
                            },
                            "data": [
                                {
                                    "0": "{\"topItems\":[{\"item\":{\"itemId\":215,\"name\":\"Air cushion machine (Blue)\",\"price\":1899.00},\"itemgroup\":{\"name\":\"Packaging Materials\"}},{\"item\":{\"itemId\":75,\"name\":\"Ride on big wheel monster truck (Black) 1\\/12 scale\",\"price\":345.00},\"itemgroup\":{\"name\":\"Novelty Items\"}}]}"
                                }
                            ]
                        },
                        "text/html": "<table><tr><th>JSON_F52E2B61-18A1-11d1-B105-00805F49916B</th></tr><tr><td>{&quot;topItems&quot;:[{&quot;item&quot;:{&quot;itemId&quot;:215,&quot;name&quot;:&quot;Air cushion machine (Blue)&quot;,&quot;price&quot;:1899.00},&quot;itemgroup&quot;:{&quot;name&quot;:&quot;Packaging Materials&quot;}},{&quot;item&quot;:{&quot;itemId&quot;:75,&quot;name&quot;:&quot;Ride on big wheel monster truck (Black) 1\\/12 scale&quot;,&quot;price&quot;:345.00},&quot;itemgroup&quot;:{&quot;name&quot;:&quot;Novelty Items&quot;}}]}</td></tr></table>"
                    },
                    "metadata": {}
                }
            ],
            "execution_count": 5
        },
        {
            "cell_type": "markdown",
            "source": [
                "Das Resultat ist folgendes:\r\n",
                "````JSON\r\n",
                "{\r\n",
                "    \"topItems\": [\r\n",
                "        {\r\n",
                "            \"item\": {\r\n",
                "                \"itemId\": 215,\r\n",
                "                \"name\": \"Air cushion machine (Blue)\",\r\n",
                "                \"price\": 1899\r\n",
                "            },\r\n",
                "            \"itemgroup\": {\r\n",
                "                \"name\": \"Packaging Materials\"\r\n",
                "            }\r\n",
                "        },\r\n",
                "        {\r\n",
                "            \"item\": {\r\n",
                "                \"itemId\": 75,\r\n",
                "                \"name\": \"Ride on big wheel monster truck (Black) 1/12 scale\",\r\n",
                "                \"price\": 345\r\n",
                "            },\r\n",
                "            \"itemgroup\": {\r\n",
                "                \"name\": \"Novelty Items\"\r\n",
                "            }\r\n",
                "        }\r\n",
                "    ]\r\n",
                "}\r\n",
                "````\r\n",
                "So klappt’s dann auch mit dem Web-Entwickler… \r\n",
                "Und wer altmodischer ist und noch XML-Ausgaben benötigt, ersetzt einfach das `JSON` durch ein `XML` und kann weiter dem Tag-Wahnsinn frönen.\r\n",
                "\r\n",
                "### Referenzen\r\n",
                "- [Offizielle Dokumentation von Microsoft](https://docs.microsoft.com/de-de/sql/t-sql/queries/from-transact-sql?view=sql-server-2017)"
            ],
            "metadata": {
                "azdata_cell_guid": "b8f16d03-e31c-49e0-8c5c-cd934085eb5e"
            }
        }
    ]
}