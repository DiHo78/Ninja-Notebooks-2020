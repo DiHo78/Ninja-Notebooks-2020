{
    "metadata": {
        "kernelspec": {
            "name": "SQL",
            "display_name": "SQL",
            "language": "sql"
        },
        "language_info": {
            "name": "sql",
            "version": ""
        }
    },
    "nbformat_minor": 2,
    "nbformat": 4,
    "cells": [
        {
            "cell_type": "markdown",
            "source": [
                "# Woche 10 - STATISTICS TIME\r\n",
                "\r\n",
                "### Was is tSTATISTICS TIME? \r\n",
                "In der letzten Woche hattet Ihr `STATISTICS IO` kennengelernt, ein Hilfsmittel, das euch verrät, wie viele Daten eine Abfrage von der Festplatte lesen muss, um eine Abfrage zu beantworten. Wie unterscheidet sich nun `STATISTICS TIME` von `STATISTICS IO`? Während `STATISTICS IO` die Festplattenzugriffe protokolliert, liefert `STATISTICS TIME` die benötigte CPU Zeit einer Abfrage zurück. Das heißt, die Zeit, die einerseits verwendet wurde, um die Abfrage zu lesen, zu verstehen und einen Ausführungsplan für die Abfrage zu finden und andererseits die Zeit, die die CPU während der Durchführung der Abfrage beispielsweise mit Berechnung von Werten beschäftigt war. \r\n",
                "### Wie könnt ihr mit STATISTICS TIME arbeiten?\r\n",
                "Wenn ihr sehen wollt, wie viele Zugriffe auf die Festplatte eine Abfrage verursacht, dann könnt ihr diese Information erlangen, indem ihr vor der Abfrage ein `SET STATISTICS TIME ON` abschickt. Was ihr dann seht ist eine Reihe von Informationen, die wir im Folgenden ein wenig untersuchen möchten. \r\n",
                "\r\n",
                "Fragen wir dafür nun mit den Statistiken die StockItems-Tabelle in der Wide World Importers Datenbank ab: \r\n",
                ""
            ],
            "metadata": {
                "azdata_cell_guid": "eca04df7-a5ce-46b1-9083-d3eb60034270"
            }
        },
        {
            "cell_type": "code",
            "source": [
                "SET STATISTICS TIME ON\r\n",
                "SELECT \r\n",
                "       [StockItemID]\r\n",
                "      ,[StockItemName]\r\n",
                "      ,[UnitPrice]\r\n",
                "FROM [Warehouse].[StockItems]"
            ],
            "metadata": {
                "azdata_cell_guid": "3d1bc3a0-94a7-4f4f-9843-24055cd48711"
            },
            "outputs": [],
            "execution_count": 0
        },
        {
            "cell_type": "markdown",
            "source": [
                "Neben den Resultaten erhaltet ihr im Messages-Reiter noch Informationen über die Ausführung: \r\n",
                "\r\n",
                "`SQL Server Execution Times:`\r\n",
                "\r\n",
                "`CPU time = 1 ms,  elapsed time = 0 ms.`\r\n",
                "\r\n",
                "`Total execution time: 00:00:00.019`\r\n",
                "\r\n",
                "Hier seht ihr, dass der SQL Server für die Abfrage insgesamt eine Millisekunde CPU Zeit aufbringen musste. \r\n",
                "Dass die CPU hier nicht viel zu tun hatte, ist klar, es wurden ja nur 3 Werte einer Tabelle ausgelesen und zurückgeliefert. Geben wir der CPU nun also etwas zu tun, indem wir eine Berechnung auf einer der Spalten ausführen:\r\n",
                ""
            ],
            "metadata": {
                "azdata_cell_guid": "39964731-fa73-42aa-98f0-b01b5a35512a"
            }
        },
        {
            "cell_type": "code",
            "source": [
                "SET STATISTICS TIME ON\r\n",
                "SELECT \r\n",
                "       sin([StockItemID])\r\n",
                "      ,[StockItemName]\r\n",
                "      ,[UnitPrice]\r\n",
                "FROM [Warehouse].[StockItems]"
            ],
            "metadata": {
                "azdata_cell_guid": "b0792c55-8560-4947-a028-c93b0803fe00"
            },
            "outputs": [],
            "execution_count": 0
        },
        {
            "cell_type": "markdown",
            "source": [
                "Wir berechnen nun also den Sinus der `StockItemID`. Wie sinnvoll das ist, darüber möchte der Ninja zunächst einmal kein Wort verlieren, stattdessen sprechen wir lieber darüber, was nun mit unserer Statistik geschieht. Die Ausgabe sieht nun wie folgt aus:\r\n",
                "\r\n",
                "SQL Server parse and compile time: \r\n",
                "\r\n",
                "`CPU time = 0 ms, elapsed time = 0 ms.`\r\n",
                "\r\n",
                "`(227 rows affected)`\r\n",
                "\r\n",
                "`SQL Server Execution Times:`\r\n",
                "\r\n",
                "`CPU time = 0 ms,  elapsed time = 0 ms.`\r\n",
                "\r\n",
                "Hier könnt ihr sehen, dass der SQL Server nun einen weiteren Schritt bei der Ausführung der Abfrage benötigt, um die Abfrage zu lesen und einen Ausfühungsplan zu ermitteln. Die Zeit, die dafür benötigt wird, ist aber so gering, dass sie im Falle einer so einfachen Abfrage nicht weiter ins Gewicht fällt und null Millisekunden in Anspruch nimmt. Auch das Berechnen des Sinus bringt die CPU gerade anscheinend nicht gerade zum Glühen, da die CPU Zeit für die 227 Zeilen nicht einmal messbar ist, also erhöhen wir ganz nach den Trainingsgrundsätzen des Ninjas die Komplexität noch einmal und versuchen, die CPU zum Rechnen zu bekommen. Dafür lassen wir uns etwas neues einfallen und machen einen Join auf eine größere Tabelle, wobei wir auf den Spalten, über die wir joinen möchten, eine Berechnung durchführen. \r\n",
                "\r\n",
                "Eine solche Anfrage wäre beispielsweise: \r\n",
                ""
            ],
            "metadata": {
                "azdata_cell_guid": "02c1740b-bb36-4ff9-81dd-448d457f41d7"
            }
        },
        {
            "cell_type": "code",
            "source": [
                "SET STATISTICS TIME ON\r\n",
                "SELECT \r\n",
                "       si.[StockItemID]\r\n",
                "      ,[StockItemName]\r\n",
                "      ,[UnitPrice]\r\n",
                "FROM [Warehouse].[StockItems] si\r\n",
                "LEFT JOIN Warehouse.StockItemTransactions sit \r\n",
                "ON sin(si.[StockItemID]) = cos(sit.[StockItemID])"
            ],
            "metadata": {
                "azdata_cell_guid": "bd1aead3-b302-40f6-a8aa-ec47020e2cbb"
            },
            "outputs": [],
            "execution_count": 0
        },
        {
            "cell_type": "markdown",
            "source": [
                "Dass auch diese Abfrage vollkommen sinnfrei ist, ist klar, doch erfüllt sie ihren Zweck, denn wenn ihr nun auf die Statistiken schaut, dann solltet ihr einen Output sehen, der so oder so ähnlich aussieht:\r\n",
                "\r\n",
                "`SQL Server Execution Times:`\r\n",
                "\r\n",
                "`CPU time = 97 ms,  elapsed time = 373 ms.`\r\n",
                "\r\n",
                "`Total execution time: 00:00:00.453`\r\n",
                "\r\n",
                "Hier seht ihr, dass tatsächlich die CPU eures Rechners für diese Abfrage einige Rechenoperationen durchführen musste, die insgesamt 97 Millisekunden der insgesamt 373 Millisekunden die eure Abfrage dauerte in Anspruch genommen haben. \r\n",
                "\r\n",
                "Ähnlich wie bei IO Statistiken, ist auch das Tuning von Abfragen mittels Time-Statistiken eine Wissenschaft für sich, die einen einfachen Ninja-Beitrag sprengen würde. Dennoch lohnt es sich hier einmal einen Blick darauf zu werfen, da auch eine Parse und Compile Zeit von 10 Millisekunden bei einer Abfrage, die 1000 Mal pro Minute ausgeführt wird, einen Laufzeitunterschied von 10 Sekunden verursacht. Auch hier verweist der Ninja in Erfurcht auf die anerkannten Tuning-Experten dieser Welt. \r\n",
                "\r\n",
                "### Referenzen\r\n",
                "- [Offizielle Dokumentation von Microsoft]( https://docs.microsoft.com/de-de/sql/t-sql/statements/set-statistics-time-transact-sql?view=sql-server-2017)\r\n",
                "\r\n",
                ""
            ],
            "metadata": {
                "azdata_cell_guid": "c3dd4a60-4659-494c-a96f-0facc48d907a"
            }
        }
    ]
}