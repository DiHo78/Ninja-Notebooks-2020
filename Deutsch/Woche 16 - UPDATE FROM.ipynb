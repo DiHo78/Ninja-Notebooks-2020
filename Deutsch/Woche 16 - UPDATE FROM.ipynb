{
    "metadata": {
        "kernelspec": {
            "name": "SQL",
            "display_name": "SQL",
            "language": "sql"
        },
        "language_info": {
            "name": "sql",
            "version": ""
        }
    },
    "nbformat_minor": 2,
    "nbformat": 4,
    "cells": [
        {
            "cell_type": "markdown",
            "source": [
                "# Woche 16: UPDATE FROM\r\n",
                "## Was tut UPDATE FROM? \r\n",
                "Wenn Ihr Werte in Tabellen `UPDATE`n möchtet, dann sieht ein Skript oftmals so aus, dass Ihr einer Spalte einen neuen Wert (der sich auch aus anderen Werten ableiten kann) zuweist. Doch wie funktioniert das, wenn die anderen Werte aus einer anderen Tabelle kommen? Dann braucht ihr ein `UPDATE FROM`. \r\n",
                "## Wie könnt ihr mit UPDATE FROM arbeiten?\r\n",
                "Beginnen wir mit einem einfachen Update, erhöhen wir in der Wideworld Importers Datenbank den `UnitPrice` aller USB-Produkte in der Warehouse `StockItems`-Tabelle um 10%:\r\n",
                ""
            ],
            "metadata": {
                "azdata_cell_guid": "bfa6db09-5040-4bac-8e94-434033e0cd45"
            }
        },
        {
            "cell_type": "code",
            "source": [
                "UPDATE Warehouse.StockItems\r\n",
                "SET UnitPrice = UnitPrice*1.1 \r\n",
                "WHERE StockItemName LIKE '%USB%'\r\n",
                "\r\n",
                "SELECT @@ROWCOUNT"
            ],
            "metadata": {
                "azdata_cell_guid": "d8af4d47-9cf7-4960-9414-6bb1e2d635b7"
            },
            "outputs": [],
            "execution_count": 0
        },
        {
            "cell_type": "markdown",
            "source": [
                "Damit haben wir den Preis von 14 Produkten erhöht. Nun möchten wir im `Sales`-Schema die `OrderLines` anpassen mit den neuen Preisen (auch wenn das natürlich kein Real-World-Szenario darstellt, da wir da keine abgeschlossenen Bestellungen ändern würden). Wir könnten jetzt natürlich ein Konstrukt machen, das wie folgt aussieht"
            ],
            "metadata": {
                "azdata_cell_guid": "a7f2bf3f-f779-43f6-aa51-f04c6b347d9f"
            }
        },
        {
            "cell_type": "code",
            "source": [
                "UPDATE Sales.OrderLines\r\n",
                "SET UnitPrice = UnitPrice*1.1\r\n",
                "WHERE StockItemID IN\r\n",
                "(\r\n",
                "    SELECT StockItemID \r\n",
                "    FROM Warehouse.Stockitems \r\n",
                "    WHERE StockItemName LIKE '%USB%'\r\n",
                ")"
            ],
            "metadata": {
                "azdata_cell_guid": "2959f5ae-c291-4046-b792-4b81f68abe67"
            },
            "outputs": [],
            "execution_count": 0
        },
        {
            "cell_type": "markdown",
            "source": [
                "Das ist allerdings insofern etwas unschön als wir hier einerseits die Berechnung explizit anwenden müssten und dass wir andererseits den Filter auf die USB-Items wieder direkt gesetzt haben. Das können wir umgehen, indem wir einen `JOIN` verwenden, um die Items mit geänderten Preisen zu finden: "
            ],
            "metadata": {
                "azdata_cell_guid": "94dd77c6-afe3-4468-96c0-e68f1270a12c"
            }
        },
        {
            "cell_type": "code",
            "source": [
                "SELECT \r\n",
                "     ol.[OrderLineID]\r\n",
                "    ,ol.[OrderID]\r\n",
                "    ,ol.[StockItemID]\r\n",
                "    ,ol.[Description]\r\n",
                "    ,ol.[PackageTypeID]\r\n",
                "    ,ol.[Quantity]\r\n",
                "    ,ol.[UnitPrice]\r\n",
                "    ,ol.[TaxRate]\r\n",
                "    ,ol.[PickedQuantity]\r\n",
                "    ,ol.[PickingCompletedWhen]\r\n",
                "    ,ol.[LastEditedBy]\r\n",
                "    ,ol.[LastEditedWhen] \r\n",
                "FROM Sales.OrderLines ol  \r\n",
                "INNER JOIN Warehouse.StockItems si \r\n",
                "ON ol.StockItemID = si.StockItemID\r\n",
                "AND si.UnitPrice <> ol.UnitPrice"
            ],
            "metadata": {
                "azdata_cell_guid": "00abf629-9238-4c77-942c-a454b927e108"
            },
            "outputs": [],
            "execution_count": 0
        },
        {
            "cell_type": "markdown",
            "source": [
                "Diesen `JOIN` können wir nun auch verwenden, um die Preise auf den 14.834 OrderLines zu ändern, bei denen die Preise nicht mehr zur aktualisierten StockItems-Tabelle passen:"
            ],
            "metadata": {
                "azdata_cell_guid": "18a33851-7376-4eca-8133-9810cc4c7147"
            }
        },
        {
            "cell_type": "code",
            "source": [
                "UPDATE ol\r\n",
                "SET UnitPrice = si.UnitPrice\r\n",
                "FROM Sales.OrderLines ol  \r\n",
                "INNER JOIN Warehouse.StockItems si \r\n",
                "ON ol.StockItemID = si.StockItemID\r\n",
                "AND si.UnitPrice <> ol.UnitPrice\r\n",
                "\r\n",
                "SELECT @@ROWCOUNT"
            ],
            "metadata": {
                "azdata_cell_guid": "aacb0163-7ef9-4a02-935b-babe6176906d"
            },
            "outputs": [],
            "execution_count": 0
        },
        {
            "cell_type": "markdown",
            "source": [
                "Zusammen mit CTEs und allen möglichen `JOIN`- und `WHERE`-Bedingungen ergeben sich so die interessantesten `UPDATE`-Konstrukte. Es empfiehlt sich bei einem solchen `UPDATE` (wie generell bei jedem `UPDATE`) allerdings, eine Runde im Dojo zu drehen und zunächst per `SELECT` zu prüfen, ob denn nun auch wirklich nur die Zeilen aktualisiert werden, die auch aktualisiert werden sollen… \n",
                "## Referenzen:\n",
                "- [Offizielle Dokumentation von Microsoft](https://docs.microsoft.com/de-de/sql/t-sql/queries/update-transact-sql?view=sql-server-2017)\n",
                ""
            ],
            "metadata": {
                "azdata_cell_guid": "a56f8895-9054-4e1b-9de0-2446b8c7f80b"
            }
        }
    ]
}