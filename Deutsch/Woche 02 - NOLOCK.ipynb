{
    "metadata": {
        "kernelspec": {
            "name": "SQL",
            "display_name": "SQL",
            "language": "sql"
        },
        "language_info": {
            "name": "sql",
            "version": ""
        }
    },
    "nbformat_minor": 2,
    "nbformat": 4,
    "cells": [
        {
            "cell_type": "markdown",
            "source": [
                "# Woche 2: NOLOCK\r\n",
                "### Was ist NOLOCK?\r\n",
                "`NOLOCK` ist ein sogenannter Abfragehinweis, mit dem ihr das Standardverhalten des SQL Server für eure Abfrage überschreiben oder verändern könnt. `NOLOCK` ist ein Hinweis, der das Isolationslevel für die entsprechende Abfrage überschreibt. Das funktioniert nur für lesende Abfragen, ihr könnt den `NOLOCK`-Hint also nicht in `UPDATE`, `DELETE` oder `INSERT`-Statements verwenden. Der `NOLOCK`-Hinweis ist dabei synonym mit dem `READUNCOMMITED`-Hinweis, er ändert das Isolationslevel eurer Abfrage also dahingehend, dass „Dirty Reads“ möglich werden, die Abfrage also Daten zurück liefern kann, die am Ende durch einen `ROLLBACK` gar nicht in der Tabelle landen.\r\n",
                "### Verwendung von NOLOCK\r\n",
                "Um `NOLOCK` ranken sich einige Mythen, gleichzeitig ist es vermutlich im SQL Server-Universum am häufigsten verwendete Abfragehinweis. In den folgenden Abfragen seht ihr die Effekte und Verwendung von `NOLOCK` etwas näher erklärt. Um diese Abfragen nachvollziehen zu können, müsst ihr üblicherweise mit zwei Sessions gleichzeitig arbeiten, ihr braucht also mehrere offene Abfrage-Tabs in eurem Azure Data Studio oder SSMS oder anderen Abfragetool eurer Wahl. \r\n",
                "Im ersten Tab startet ihr nun eine Transaktion und macht in dieser Transaktion ein `UPDATE` auf einer Tabelle:"
            ],
            "metadata": {
                "azdata_cell_guid": "f6b18a43-d6d2-4ca4-9f97-671c466728fd"
            }
        },
        {
            "cell_type": "code",
            "source": [
                "BEGIN TRANSACTION\r\n",
                "UPDATE [Warehouse].[StockItemTransactions]\r\n",
                "SET [TransactionTypeID] = 13 WHERE [TransactionTypeID] = 10"
            ],
            "metadata": {
                "azdata_cell_guid": "13a816b8-38bc-4a41-ae13-0ae58619ef97"
            },
            "outputs": [],
            "execution_count": 0
        },
        {
            "cell_type": "markdown",
            "source": [
                "Beachtet, dass die Transaktion nicht beendet wird. Das bedeutet, wenn ihr nun in einer zweiten Abfrage die Tabelle abfragt, dann erhaltet ihr kein Ergebnis zurück. Öffnet also eine zweite Abfrage und führt dort folgende Abfrage aus:"
            ],
            "metadata": {
                "azdata_cell_guid": "a2d2fe62-a6a8-4b9b-bbac-c8d924ee620c"
            }
        },
        {
            "cell_type": "code",
            "source": [
                "SELECT [StockItemTransactionID]\r\n",
                "    ,[StockItemID]\r\n",
                "    ,[TransactionTypeID]\r\n",
                "    ,[CustomerID]\r\n",
                "    ,[InvoiceID]\r\n",
                "    ,[SupplierID]\r\n",
                "    ,[PurchaseOrderID]\r\n",
                "FROM [Warehouse].[StockItemTransactions] \r\n",
                "WHERE [TransactionTypeID] = 10"
            ],
            "metadata": {
                "azdata_cell_guid": "dabdc754-ffbe-4373-845a-8fb290a8ffcc"
            },
            "outputs": [],
            "execution_count": 0
        },
        {
            "cell_type": "markdown",
            "source": [
                "Hier könnt ihr lange warten, werdet jedoch keine Resultate sehen. Das ist natürlich so, weil im SQL Server `READ COMMITTED` das standardmäßig ausgewählte Isolationslevel ist und ihr bei einer offenen Transaktion auf der Tabelle mit eurem Lesevorgang warten müsst. Das seht ihr zum Beispiel an den Ergebnissen der folgenden Abfrage:"
            ],
            "metadata": {
                "azdata_cell_guid": "76845ad0-c9db-41bb-8db5-274885a8919f"
            }
        },
        {
            "cell_type": "code",
            "source": [
                "DECLARE @who TABLE(\r\n",
                "        SPID INT,\r\n",
                "        Status VARCHAR(MAX),\r\n",
                "        LOGIN VARCHAR(MAX),\r\n",
                "        HostName VARCHAR(MAX),\r\n",
                "        BlkBy VARCHAR(MAX),\r\n",
                "        DBName VARCHAR(MAX),\r\n",
                "        Command VARCHAR(MAX),\r\n",
                "        CPUTime INT,\r\n",
                "        DiskIO INT,\r\n",
                "        LastBatch VARCHAR(MAX),\r\n",
                "        ProgramName VARCHAR(MAX),\r\n",
                "        SPID_1 INT,\r\n",
                "        REQUESTID INT\r\n",
                ")\r\n",
                "INSERT INTO @who EXEC sp_who2\r\n",
                "SELECT [SPID]\r\n",
                "    ,[Status]\r\n",
                "    ,[LOGIN]\r\n",
                "    ,[BlkBy]\r\n",
                "    ,[DBName]\r\n",
                "    ,[Command] \r\n",
                "FROM @who \r\n",
                "WHERE DBName = 'WideWorldImporters'"
            ],
            "metadata": {
                "azdata_cell_guid": "01889e39-4ae7-448a-afa2-233b6aabcc21"
            },
            "outputs": [],
            "execution_count": 0
        },
        {
            "cell_type": "markdown",
            "source": [
                "Hier seht ihr 2 Transaktionen, eine im Status „sleeping“ mit dem Kommando `AWAITING COMMAND`, das ist die noch offene Transaktion in der das UPDATE bereits gelaufen ist, und eine mit dem Status `SUSPENDED` mit dem Kommando SELECT, bei der in der Spalte `BlkBy` die SPID der ersten Transaktion steht, die also von dieser geblockt wird. \r\n",
                "Brecht ihr nun die `SELECT`-Abfrage ab und fügt hinter den Tabellennamen den `NOLOCK`-Hinweis hinzu, dann erhaltet ihr sofort Ergebnisse (bzw. in diesem Fall keine Ergebnisse, da ihr ja in der Transaktion den Typen 10 in 13 geändert hattet):"
            ],
            "metadata": {
                "azdata_cell_guid": "89ff9705-f3b8-448b-a31e-799a8e945834"
            }
        },
        {
            "cell_type": "code",
            "source": [
                "SELECT [StockItemTransactionID]\r\n",
                "    ,[StockItemID]\r\n",
                "    ,[TransactionTypeID]\r\n",
                "    ,[CustomerID]\r\n",
                "    ,[InvoiceID]\r\n",
                "    ,[SupplierID]\r\n",
                "    ,[PurchaseOrderID]\r\n",
                "FROM [Warehouse].[StockItemTransactions] (NOLOCK)\r\n",
                "WHERE [TransactionTypeID] = 10"
            ],
            "metadata": {
                "azdata_cell_guid": "e382172b-6dbb-4249-95ea-5707d0f615a4"
            },
            "outputs": [],
            "execution_count": 0
        },
        {
            "cell_type": "markdown",
            "source": [
                "Führt ihr nun im ersten Fenster ein `ROLLBACK` aus und führt dann die Abfrage auf die Tabelle erneut aus, dann erhaltet ihr Ergebnisse, da die Transaktionen mit Typ 10 nun ja wieder zurückgesetzt wurden. \r\n",
                "Hier erkennt ihr schon den ersten Effekt, den `NOLOCK` hat: ihr habt eine `UNCOMMITTED` Transaktion gelesen und damit Daten, die so nie in der Datenbank persistiert wurden. \r\n",
                "Trotzdem ist `NOLOCK` der mit Abstand am häufigsten verwendete Abfragehinweise im T-SQL Universum. Das liegt daran, dass sich hierum einige Mythen gebildet haben:\r\n",
                "\r\n",
                "1. Abfragen mit `NOLOCK` können nicht durch andere Operationen blockiert werden. \r\n",
                "Das ist falsch. Um das zu sehen, führt die obige `NOLOCK`-Abfrage aus und während sie läuft gleichzeitig in einem anderen Tab sp_lock. Ihr seht dann Einträge für einen Schema-Lock auf der abgefragten Tabelle und für einen Shared-Lock auf der Datenbank. Das heißt eine Operation die das Schema der Tabelle ändert (beispielsweise eine Index-Erstellung oder ein `ALTER TABLE` Kommando) kann eine `NOLOCK`-Tabelle durchaus blockieren.\r\n",
                "2. Abfragen mit `NOLOCK` blockieren keine anderen Operationen. \r\n",
                "Das stimmt definitiv nicht. Durch den oben gezeigten Schema-Lock auf die Tabelle kann eine `NOLOCK`-Abfrage natürlich auch eine `INDEX`-Erstellung blockieren.\r\n",
                "3. Wenn alle Abfragen mit `NOLOCK` laufen, wird alles schneller. \r\n",
                "Das entspricht so nicht ganz der Wahrheit. Natürlich müssen Abfragen, die mit `NOLOCK` laufen keine Daten ins Transaktions-Log legen und benötigen daher weniger Speicher und sind schneller. Trotzdem ist es wenig sinnvoll, auf Abfrageebene das Isolationslevel für jede Abfrage zu ändern, denn einerseits erhaltet ihr Resultate wie `UNCOMMITED READS`, die vom DBA nicht vorgesehen sind (sonst hätte die Datenbank ja global ein anderes `ISOLATION LEVEL`).\r\n",
                "4. Mach einfach `NOLOCK`, dann ist alles gut.\r\n",
                "Wenn ihr das Standardverhalten des SQL Servers überschreibt, dann sollte euch bewusst sein, was ihr da tut und warum. Wenn ihr NOLOCK standardmäßig nutzt, macht euch bewusst warum und was die Seiteneffekte sein könnten.\r\n",
                "\r\n",
                "### Referenzen\r\n",
                "- [Offizielle Dokumentation von Microsoft](https://docs.microsoft.com/de-de/sql/t-sql/queries/hints-transact-sql-table?view=sql-server-2017)\r\n",
                "- [Erklärungen auf mssqltips](https://www.mssqltips.com/sqlservertip/2470/understanding-the-sql-server-nolock-hint/)"
            ],
            "metadata": {
                "azdata_cell_guid": "2fe5e2a7-9c4d-4320-9999-abd02396f962"
            }
        }
    ]
}