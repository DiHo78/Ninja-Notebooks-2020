{
    "metadata": {
        "kernelspec": {
            "name": "SQL",
            "display_name": "SQL",
            "language": "sql"
        },
        "language_info": {
            "name": "sql",
            "version": ""
        }
    },
    "nbformat_minor": 2,
    "nbformat": 4,
    "cells": [
        {
            "cell_type": "markdown",
            "source": [
                "# Woche 13: DENSE_RANK\r\n",
                "## Was ist DENSE_RANK?\r\n",
                "In den letzten beiden Wochen haben wir euch bereits mit dem Durchnummerieren von Zeilen der Ergebnismenge mit den `ROW_NUMBER` und `RANK`-Funktionen \"Freude\" bereitet. Damit wollen wir auch heute noch fortfahren. \r\n",
                "Die `DENSE_RANK`-Funktion ist, wie es der Name schon andeutet, eng mit der `RANK`-Funktion aus der letzten Woche verbunden. Was ist also der Unterschied? Das ist relativ einfach gesagt: während die `RANK`-Funktion nämlich bei der Vergabe gleicher Nummern für zwei Zeilen eine Nummer überspringt, überspringt die `DENSE_RANK` Funktion nichts, hier erhaltet ihr also eine fortlaufende Sequenz an Nummern. \r\n",
                "## Wie könnt ihr mit DENSE_RANK arbeiten?\r\n",
                "Erinnert euch an die Abfrage, mit der wir in der letzten Woche die `RANK` Funktion verwendet haben. Dafür haben wir wir uns nun in der Wide World Importers Datenbank eine Abfrage erstelt, die sortierbare Artikel liefert, bei denen die Sortierung aber nicht eindeutig sein muss. Dafür verwendeten wir eine CTE mit der wir aus den OrderLines die Anzahl der Bestellungen zählten, in denen jedes Produkt auftauchte und errechneten mit der `RANK`-Funktion eine Popularität des jeweiligen Produkts: "
            ],
            "metadata": {
                "azdata_cell_guid": "85750edd-43fe-4b09-9bb4-a1c529804b8c"
            }
        },
        {
            "cell_type": "code",
            "source": [
                "WITH cte_sales AS (\r\n",
                "    SELECT \r\n",
                "         StockItemID\r\n",
                "        ,COUNT(*) AS nOrders\r\n",
                "        ,SUM(Quantity*UnitPrice) AS TotalSales \r\n",
                "    FROM \r\n",
                "        Sales.OrderLines\r\n",
                "    GROUP BY StockItemID\r\n",
                ")\r\n",
                "SELECT  \r\n",
                "     StockItemID\r\n",
                "    ,nOrders\r\n",
                "    ,TotalSales\r\n",
                "    ,ROW_NUMBER() OVER (ORDER BY nOrders DESC, TotalSales DESC) as Popularity\r\n",
                "    ,RANK() OVER (ORDER BY nOrders DESC) as Real_Popularity\r\n",
                "FROM cte_sales \r\n",
                "ORDER BY \r\n",
                "     nOrders DESC\r\n",
                "    ,TotalSales DESC"
            ],
            "metadata": {
                "azdata_cell_guid": "5f47c56a-aab7-40b8-81b3-1ad9a1af0cab"
            },
            "outputs": [],
            "execution_count": 0
        },
        {
            "cell_type": "markdown",
            "source": [
                "Im Resultat hatten beide Produkte, 104 und 120 die (echte) Popularität 1 erhalten, während dem nächsten Produkt (dem mit der ID 167), ähnlich wie das bei Sportwettkämpfen üblich ist, der dritte Rang zugewiesen wurde. \r\n",
                "\r\n",
                "Um nun keinen Rang mehr zu überspringen, fügen wir noch eine weitere Spalte zur Abfrage hinzu: "
            ],
            "metadata": {
                "azdata_cell_guid": "132ca215-c60f-4973-a197-4aab11645ce2"
            }
        },
        {
            "cell_type": "code",
            "source": [
                "WITH cte_sales AS (\r\n",
                "    SELECT \r\n",
                "         StockItemID\r\n",
                "        ,COUNT(*) AS nOrders\r\n",
                "        ,SUM(Quantity*UnitPrice) AS TotalSales \r\n",
                "    FROM \r\n",
                "        Sales.OrderLines\r\n",
                "    GROUP BY StockItemID\r\n",
                ")\r\n",
                "SELECT  \r\n",
                "     StockItemID\r\n",
                "    ,nOrders\r\n",
                "    ,TotalSales\r\n",
                "    ,ROW_NUMBER() OVER (ORDER BY nOrders DESC, TotalSales DESC) as Popularity\r\n",
                "    ,RANK() OVER (ORDER BY nOrders DESC) as Real_Popularity\r\n",
                "    ,DENSE_RANK() OVER (ORDER BY nOrders DESC) as Dense_Real_Popularity\r\n",
                "FROM cte_sales \r\n",
                "ORDER BY \r\n",
                "     nOrders DESC\r\n",
                "    ,TotalSales DESC"
            ],
            "metadata": {
                "azdata_cell_guid": "9fecdfd0-4cac-47bb-b4d7-0d18753bf4f2"
            },
            "outputs": [],
            "execution_count": 0
        },
        {
            "cell_type": "markdown",
            "source": [
                "In der Ergebnismenge hat das Produkt 167 nun die `Dense_Real_Popularity` 2 statt der `Real_Popularity` 3. \r\n",
                "Und um die Sache nun noch abzurunden, schauen wir doch noch, um welche Items es sich bei den populärsten Items gehandelt hat:"
            ],
            "metadata": {
                "azdata_cell_guid": "c5ebe17c-17f0-4a4e-8752-f9c618b7705d"
            }
        },
        {
            "cell_type": "code",
            "source": [
                "WITH cte_sales AS (\r\n",
                "    SELECT \r\n",
                "         StockItemID\r\n",
                "        ,COUNT(*) AS nOrders\r\n",
                "        ,SUM(Quantity*UnitPrice) AS TotalSales \r\n",
                "    FROM \r\n",
                "        Sales.OrderLines\r\n",
                "    GROUP BY StockItemID\r\n",
                ")\r\n",
                "SELECT  \r\n",
                "     cs.StockItemID\r\n",
                "    ,si.StockItemName\r\n",
                "    ,nOrders\r\n",
                "    ,TotalSales\r\n",
                "    ,ROW_NUMBER() OVER (ORDER BY nOrders DESC, TotalSales DESC) as Popularity\r\n",
                "    ,RANK() OVER (ORDER BY nOrders DESC) as Real_Popularity\r\n",
                "    ,DENSE_RANK() OVER (ORDER BY nOrders DESC) as Dense_Real_Popularity\r\n",
                "FROM cte_sales cs \r\n",
                "LEFT JOIN \r\n",
                "    Warehouse.StockItems si \r\n",
                "ON cs.StockItemID = si.StockItemID\r\n",
                "ORDER BY \r\n",
                "     nOrders DESC\r\n",
                "    ,TotalSales DESC"
            ],
            "metadata": {
                "azdata_cell_guid": "3d2a22a8-f19a-4aa2-b511-1cf1629b52bf"
            },
            "outputs": [],
            "execution_count": 0
        },
        {
            "cell_type": "markdown",
            "source": [
                "Es waren also grüne batteriebetriebene Hausschuhe und ein Hoodie mit einem Alien Offizier besonders populär bei der Kundschaft von Wide World Importers. Der Ninja in uns hätte ja auf Shuriken getippt, immerhin sind das Verbrauchsgegenstände… \r\n",
                "### Referenzen\r\n",
                "- [Offizielle Dokumentation von Microsoft](https://docs.microsoft.com/de-de/sql/t-sql/functions/dense-rank-transact-sql?view=sql-server-2017)"
            ],
            "metadata": {
                "azdata_cell_guid": "0043e70c-90fe-4903-9048-884da8aaa2b0"
            }
        }
    ]
}