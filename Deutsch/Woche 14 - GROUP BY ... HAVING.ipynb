{
    "metadata": {
        "kernelspec": {
            "name": "SQL",
            "display_name": "SQL",
            "language": "sql"
        },
        "language_info": {
            "name": "sql",
            "version": ""
        }
    },
    "nbformat_minor": 2,
    "nbformat": 4,
    "cells": [
        {
            "cell_type": "markdown",
            "source": [
                "# Woche 14: GROUP BY … HAVING\r\n",
                "## Was ist GROUP BY? \r\n",
                "`GROUP BY` und `HAVING` gehören zu den absoluten Grundlagen der SQL Syntax, doch jeder Ninja sollte auch die Grundlagen beherrschen und sich nicht nur mit Jutsu beschäftigen, daher wollen wir uns das Konstrukt einmal ansehen. Eine Abfrage, die Daten aggregiert, indem sie beispielsweise eine Summe bildet, muss nicht immer die Summe über alle Zeilen bilden, sie kann auch die Summe über bestimmte Teilmengen der Tabelle bilden. Wie diese Teilmengen aussehen, bestimmt das `GROUP BY`-Konstrukt. \r\n",
                "## Wie könnt ihr mit GROUP BY arbeiten?\r\n",
                "Um eine Abfrage mit `GROUP BY` zu schreiben, nehmen wir uns eine Tabelle der Wide World Importers-Datenbank vor. Angenommen, wir möchten Finanzkennzahlen aus der Datenbank herausfinden und knüpfen uns dafür die `CustomerTransactions`-Tabelle vor. Eine Summe der Umsätze können wir wie folgt sehen: "
            ],
            "metadata": {
                "azdata_cell_guid": "b89d45b5-7e84-4ea2-9d1e-1e84bbdb6d76"
            }
        },
        {
            "cell_type": "code",
            "source": [
                "SELECT\r\n",
                "       SUM(TransactionAmount)\r\n",
                "      ,SUM(TaxAmount)\r\n",
                "      ,SUM(OutstandingBalance)\r\n",
                "FROM Sales.CustomerTransactions"
            ],
            "metadata": {
                "azdata_cell_guid": "08e61243-3d79-47b4-af66-1cdeab937a1d",
                "tags": []
            },
            "outputs": [],
            "execution_count": 0
        },
        {
            "cell_type": "markdown",
            "source": [
                "Das Ergebnis dieser Abfrage ist zwar nett, aber nicht besonders hilfreich, da wir nun ja noch nicht wissen, in welchem Zeitraum die Transaktionen getätigt wurden, sehen wir uns also noch das `TransactionDate` mit hinzu: "
            ],
            "metadata": {
                "azdata_cell_guid": "9507ff00-7ea5-4faa-b9ab-687e771ce0c0"
            }
        },
        {
            "cell_type": "code",
            "source": [
                "SELECT\r\n",
                "       SUM([TransactionAmount])\r\n",
                "      ,SUM([TaxAmount])\r\n",
                "      ,SUM([OutstandingBalance])\r\n",
                "      ,[TransactionDate]\r\n",
                "  FROM [Sales].[CustomerTransactions]"
            ],
            "metadata": {
                "azdata_cell_guid": "3c079d80-f232-4852-a918-20f4cf3c8731",
                "tags": [
                    "hide_input"
                ]
            },
            "outputs": [],
            "execution_count": 0
        },
        {
            "cell_type": "markdown",
            "source": [
                "Hier informiert uns die Datenbank sofort, dass das `TransactionDate` in dieser Abfrage nicht zulässig ist, da es nicht in einer aggregierenden Funktion oder einem `GROUP BY` auftritt: \r\n",
                "\r\n",
                "`Column 'Sales.CustomerTransactions.TransactionDate' is invalid in the select list because it is not contained in either an aggregate function or the GROUP BY clause.`\r\n",
                "\r\n",
                "Was bedeutet das? Die übrigen Spalten fasst der Server über die `SUM`-Aggregation zu einer einzelnen Zeile zusammen, beim Datum weiß er nicht, was er damit nun tun soll. Natürlich könnten wir auch das Datum beispielsweise über die `MIN` oder die `MAX`-Funktion aggregieren, aber das ist ja nicht, was wir möchten. Stattdessen möchten wir die Umsätze pro Tag zusammenfassen. Das können wir dann über `GROUP BY` wie folgt machen: "
            ],
            "metadata": {
                "azdata_cell_guid": "b02775f1-f257-4caa-b4b8-e3af872bc113"
            }
        },
        {
            "cell_type": "code",
            "source": [
                "SELECT\r\n",
                "       SUM([TransactionAmount])\r\n",
                "      ,SUM([TaxAmount])\r\n",
                "      ,SUM([OutstandingBalance])\r\n",
                "      ,[TransactionDate]\r\n",
                "  FROM [Sales].[CustomerTransactions]\r\n",
                "  GROUP BY [TransactionDate]"
            ],
            "metadata": {
                "azdata_cell_guid": "d0e8bcaa-f1ea-4aac-a6b3-eef1261e3fdc"
            },
            "outputs": [],
            "execution_count": 0
        },
        {
            "cell_type": "markdown",
            "source": [
                "Hier erhalten wir jetzt, wie gewünscht, die Umsätze auf einzelne Tage herunter gebrochen. Wir können auch nach den Tagen sortieren:"
            ],
            "metadata": {
                "azdata_cell_guid": "d9cfccdd-e09a-454f-a258-a3f23dea4f81"
            }
        },
        {
            "cell_type": "code",
            "source": [
                "SELECT\r\n",
                "       SUM([TransactionAmount])\r\n",
                "      ,SUM([TaxAmount])\r\n",
                "      ,SUM([OutstandingBalance])\r\n",
                "      ,[TransactionDate]\r\n",
                "  FROM [Sales].[CustomerTransactions]\r\n",
                "  GROUP BY [TransactionDate]\r\n",
                "  ORDER BY [TransactionDate]"
            ],
            "metadata": {
                "azdata_cell_guid": "32cdc2b8-3c6a-4c32-aa90-dbc3c1cbf73c"
            },
            "outputs": [],
            "execution_count": 0
        },
        {
            "cell_type": "markdown",
            "source": [
                "Sortieren könnten wir natürlich auch wieder nur nach Spalten, die in der Ausgabe und damit entweder in einer aggregierenden Funktion oder in einem `GROUP BY`-Konstrukt enthalten sind. \r\n",
                "Was hingegen möglich ist ist, vom `TransactionDate` nur das Jahr anzuzeigen:"
            ],
            "metadata": {
                "azdata_cell_guid": "bf3a5e51-3790-4df8-9526-d90d77f5663b"
            }
        },
        {
            "cell_type": "code",
            "source": [
                " SELECT\r\n",
                "       SUM([TransactionAmount]) as [TransactionAmount]\r\n",
                "      ,SUM([TaxAmount]) as [TaxAmount]\r\n",
                "      ,SUM([OutstandingBalance]) as [OutstandingBalance]\r\n",
                "      ,DATEPART(YEAR, [TransactionDate]) as [Year]\r\n",
                "  FROM [Sales].[CustomerTransactions]\r\n",
                "  GROUP BY [TransactionDate]\r\n",
                "  ORDER BY [TransactionDate]"
            ],
            "metadata": {
                "azdata_cell_guid": "33b86366-160b-4bb7-9ddf-05bf07b06694"
            },
            "outputs": [],
            "execution_count": 0
        },
        {
            "cell_type": "markdown",
            "source": [
                "Das Ergebnis ist allerdings hier nicht ganz das gewünschte. Es erscheint nämlich nach wie Vor für jeden Tag im Jahr eine Zeile, allerdings steht in der Year-Spalte nur das Jahr des jeweiligen Datums. Um hier zu Jahressummen zu gelangen, müssen wir nach den Jahren gruppieren (und auch sortieren): "
            ],
            "metadata": {
                "azdata_cell_guid": "1e9083f2-e567-40b9-8005-ce02dacced09"
            }
        },
        {
            "cell_type": "code",
            "source": [
                "SELECT\r\n",
                "       SUM([TransactionAmount]) as [TransactionAmount]\r\n",
                "      ,SUM([TaxAmount]) as [TaxAmount]\r\n",
                "      ,SUM([OutstandingBalance]) as [OutstandingBalance]\r\n",
                "      ,DATEPART(YEAR, [TransactionDate]) as [Year]\r\n",
                "  FROM [Sales].[CustomerTransactions]\r\n",
                "  GROUP BY DATEPART(YEAR, [TransactionDate])\r\n",
                "  ORDER BY DATEPART(YEAR, [TransactionDate])"
            ],
            "metadata": {
                "azdata_cell_guid": "c786898c-4224-44ba-89f0-138bc70aabd2"
            },
            "outputs": [],
            "execution_count": 0
        },
        {
            "cell_type": "markdown",
            "source": [
                "Und was hat es nun mit dem \"Having\" auf sich? Das ist auch relativ einfach. Bilden wir zunächst Monatssummen: "
            ],
            "metadata": {
                "azdata_cell_guid": "b6d02653-08ee-4b47-ad10-79d57ca8ec88"
            }
        },
        {
            "cell_type": "code",
            "source": [
                "SELECT\r\n",
                "       SUM([TransactionAmount]) as [TransactionAmount]\r\n",
                "      ,SUM([TaxAmount]) as [TaxAmount]\r\n",
                "      ,SUM([OutstandingBalance]) as [OutstandingBalance]\r\n",
                "      ,DATEPART(MONTH, [TransactionDate]) as [Month] \r\n",
                "      ,DATEPART(YEAR, [TransactionDate]) as [Year]\r\n",
                "  FROM [Sales].[CustomerTransactions]\r\n",
                "  GROUP BY DATEPART(YEAR, [TransactionDate]), DATEPART(MONTH, [TransactionDate])\r\n",
                "  ORDER BY DATEPART(YEAR, [TransactionDate]), DATEPART(MONTH, [TransactionDate])"
            ],
            "metadata": {
                "azdata_cell_guid": "02148ae0-2cd1-42ce-a682-570df6dd4572"
            },
            "outputs": [],
            "execution_count": 0
        },
        {
            "cell_type": "markdown",
            "source": [
                "In der Abfrage seht ihr, dass es möglich ist, nach mehreren Spalten zu gruppieren. Es ist dabei bei dieser Abfrage nicht möglich, eine der beiden Gruppierungen wegzulassen… \r\n",
                "\r\n",
                "Wenn ihr diese Abfrage nun einschränken möchtet, um nur noch das Jahr 2016 zu sehen, könnt ihr das mit einer WHERE-Bedingung tun:\r\n",
                ""
            ],
            "metadata": {
                "azdata_cell_guid": "2aef64ac-41cc-4412-8f5b-80b0ebcbc19e"
            }
        },
        {
            "cell_type": "code",
            "source": [
                "SELECT\r\n",
                "       SUM([TransactionAmount]) as [TransactionAmount]\r\n",
                "      ,SUM([TaxAmount]) as [TaxAmount]\r\n",
                "      ,SUM([OutstandingBalance]) as [OutstandingBalance]\r\n",
                "      ,DATEPART(MONTH, [TransactionDate]) as [Month] \r\n",
                "      ,DATEPART(YEAR, [TransactionDate]) as [Year]\r\n",
                "  FROM [Sales].[CustomerTransactions]\r\n",
                "  WHERE DATEPART(YEAR, [TransactionDate]) = 2016\r\n",
                "  GROUP BY DATEPART(YEAR, [TransactionDate]), DATEPART(MONTH, [TransactionDate])\r\n",
                "  ORDER BY DATEPART(YEAR, [TransactionDate]), DATEPART(MONTH, [TransactionDate])"
            ],
            "metadata": {
                "azdata_cell_guid": "3258f734-a0b5-47a0-9590-a18d2b218d18"
            },
            "outputs": [],
            "execution_count": 0
        },
        {
            "cell_type": "markdown",
            "source": [
                "Was aber, wenn ihr nur die Monate finden möchtet, bei denen die OutstandingBalance nicht null ist? Das funktioniert mit der `WHERE`-Bedingung nicht mehr, da aggregierende Funktionen nicht in der `WHERE`-Bedingung zulässig sind: "
            ],
            "metadata": {
                "azdata_cell_guid": "12387df3-d8f1-4d4f-99f0-314e659a0db9"
            }
        },
        {
            "cell_type": "code",
            "source": [
                "SELECT\r\n",
                "       SUM([TransactionAmount]) as [TransactionAmount]\r\n",
                "      ,SUM([TaxAmount]) as [TaxAmount]\r\n",
                "      ,SUM([OutstandingBalance]) as [OutstandingBalance]\r\n",
                "      ,DATEPART(MONTH, [TransactionDate]) as [Month] \r\n",
                "      ,DATEPART(YEAR, [TransactionDate]) as [Year]\r\n",
                "  FROM [Sales].[CustomerTransactions]\r\n",
                "  WHERE SUM([OutstandingBalance]) <> 0 \r\n",
                "  GROUP BY DATEPART(YEAR, [TransactionDate]), DATEPART(MONTH, [TransactionDate])\r\n",
                "  ORDER BY DATEPART(YEAR, [TransactionDate]), DATEPART(MONTH, [TransactionDate])"
            ],
            "metadata": {
                "azdata_cell_guid": "cec17588-b47e-4dae-8c3b-d1df72dd1c5a"
            },
            "outputs": [],
            "execution_count": 0
        },
        {
            "cell_type": "markdown",
            "source": [
                "Der Server meldet hier: \r\n",
                "`An aggregate may not appear in the WHERE clause unless it is in a subquery contained in a HAVING clause or a select list, and the column being aggregated is an outer reference.`\r\n",
                "\r\n",
                "Die Fehlermeldung gibt hier gleich den passenden Hinweis: `HAVING` ist das Zauberwort, das wir brauchen: \r\n",
                ""
            ],
            "metadata": {
                "azdata_cell_guid": "61949391-d202-42a5-977b-6d83502cb6b0"
            }
        },
        {
            "cell_type": "code",
            "source": [
                "SELECT\r\n",
                "       SUM([TransactionAmount]) as [TransactionAmount]\r\n",
                "      ,SUM([TaxAmount]) as [TaxAmount]\r\n",
                "      ,SUM([OutstandingBalance]) as [OutstandingBalance]\r\n",
                "      ,DATEPART(MONTH, [TransactionDate]) as [Month] \r\n",
                "      ,DATEPART(YEAR, [TransactionDate]) as [Year]\r\n",
                "  FROM [Sales].[CustomerTransactions]\r\n",
                "  GROUP BY DATEPART(YEAR, [TransactionDate]), DATEPART(MONTH, [TransactionDate])\r\n",
                "  HAVING SUM([OutstandingBalance]) <> 0 \r\n",
                "  ORDER BY DATEPART(YEAR, [TransactionDate]), DATEPART(MONTH, [TransactionDate])"
            ],
            "metadata": {
                "azdata_cell_guid": "34144df5-4aae-489f-bee8-c16e5c326679"
            },
            "outputs": [],
            "execution_count": 0
        },
        {
            "cell_type": "markdown",
            "source": [
                "Für die alten, erfahrenen Ninjas unter Euch ist das sicher wenig überraschend, aber wir haben schon viele junge Krieger gesehen, die an der korrekten Formulierung einer aggregierten Abfrage scheitern…  Diese sollten sich auch die Reihenfolge `SELECT` … `FROM` … `GROUP BY` … `HAVING` … `ORDER BY` einprägen. \r\n",
                "\r\n",
                "### Referenzen\r\n",
                "- [Offizielle Dokumentation von Microsoft](https://docs.microsoft.com/de-de/sql/t-sql/queries/select-having-transact-sql?view=sql-server-2017)"
            ],
            "metadata": {
                "azdata_cell_guid": "1fe28f79-f0d7-4462-aad5-14706d4bdc02"
            }
        }
    ]
}