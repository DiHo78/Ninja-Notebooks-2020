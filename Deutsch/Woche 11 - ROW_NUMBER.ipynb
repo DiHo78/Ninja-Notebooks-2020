{
    "metadata": {
        "kernelspec": {
            "name": "SQL",
            "display_name": "SQL",
            "language": "sql"
        },
        "language_info": {
            "name": "sql",
            "version": ""
        }
    },
    "nbformat_minor": 2,
    "nbformat": 4,
    "cells": [
        {
            "cell_type": "markdown",
            "source": [
                "# Woche 11: ROW_NUMBER\r\n",
                "\r\n",
                "## Was tut ROW_NUMBER?\r\n",
                "Die `ROW_NUMBER` Funktion ist eine Window Function, also eine Funktion, die die Daten sortiert in sogenannten \"Fenstern\" oder \"Partitionen\" abarbeitet. Die Sortierung und die Partitionen definiert ihr, indem ihr nach dem Funktionsaufruf die Schlüsselworte `ORDER BY` und `PARTITION BY` verwendet. Die `ROW_NUMBER`-Funktion nummeriert dann alle Zeilen in der Ergebnismenge, anfangend bei 1 aufsteigend durch. Dabei startet jede Partition wieder bei 1. \r\n",
                "\r\n",
                "## Wie könnt ihr mit ROW_NUMBER arbeiten?\r\n",
                "Die `ROW_NUMBER`-Funktion könnt ihr in der Spaltenliste eurer Abfrage verwenden, wenn ihr die vergebenen Nummern sehen möchtet:"
            ],
            "metadata": {
                "azdata_cell_guid": "eca04df7-a5ce-46b1-9083-d3eb60034270"
            }
        },
        {
            "cell_type": "code",
            "source": [
                "SELECT\r\n",
                "     [CountryID]\r\n",
                "    ,ROW_NUMBER() OVER (ORDER BY [CountryID]) as [RowNumber]\r\n",
                "    ,[CountryName]\r\n",
                "    ,[FormalName]\r\n",
                "    ,[IsoAlpha3Code]\r\n",
                "FROM [WideWorldImporters].[Application].[Countries]"
            ],
            "metadata": {
                "azdata_cell_guid": "3d1bc3a0-94a7-4f4f-9843-24055cd48711"
            },
            "outputs": [],
            "execution_count": 0
        },
        {
            "cell_type": "markdown",
            "source": [
                "Ihr seht nun eine Spalte mit der Überschrift `RowNumber` und einer fortlaufenden Zahl im Inhalt. Toll. Naja. Schauen wir mal, ob wir damit nicht etwas tun können. Wenn ihr euch das Ergebnis anschaut, seht ihr, dass schon früh in der Zeile von Albanien die `CountryID` von der `RowNumber` abweicht. Nun könnt ihr die `ROW_NUMBER`-Funktion natürlich verwenden, um die Datensätze (na gut, den Datensatz) zu finden, bei dem beide Werte übereinstimmen:"
            ],
            "metadata": {
                "azdata_cell_guid": "39964731-fa73-42aa-98f0-b01b5a35512a"
            }
        },
        {
            "cell_type": "code",
            "source": [
                "; WITH cte_rn as (\r\n",
                "    SELECT\r\n",
                "         [CountryID]\r\n",
                "        ,ROW_NUMBER() OVER (ORDER BY [CountryID]) as [RowNumber]\r\n",
                "        ,[CountryName]\r\n",
                "        ,[FormalName]\r\n",
                "        ,[IsoAlpha3Code]\r\n",
                "    FROM [WideWorldImporters].[Application].[Countries]\r\n",
                ")\r\n",
                "SELECT \r\n",
                "     [CountryId]\r\n",
                "    ,[CountryName]\r\n",
                "    ,[FormalName]\r\n",
                "    ,[IsoAlpha3Code]\r\n",
                "FROM cte_rn \r\n",
                "WHERE [CountryID] = [RowNumber]"
            ],
            "metadata": {
                "azdata_cell_guid": "b0792c55-8560-4947-a028-c93b0803fe00"
            },
            "outputs": [],
            "execution_count": 0
        },
        {
            "cell_type": "markdown",
            "source": [
                "Ihr seht, dass am Ende nur noch eine Zeile übrigbleibt, nämlich die für Afghanistan. Bei allen anderen Zeilen weicht die Zeilenzahl von der ID ab. Wenn ihr fortlaufende IDs wollen würdet, könntet ihr nun mit der CTE die Tabelle aktualisieren und die `CountryID` entsprechend setzen (vorausgesetzt, dass hier keine `IDENTITY`-Spalte definiert wurde, sonst müsst ihr mit `IDENTITY INSERT` arbeiten).\r\n",
                "\r\n",
                "Das ist alles ganz nett, doch was könnt ihr mit der `ROW_NUMBER`-Funktion nun wirklich tun? Vermutlich am häufigsten verwenden echte Ninjas die `ROW_NUMBER`-Funktion um in Kombination mit CTEs doppelte Zeilen aus einem Ergebnis herauszufiltern. Eine (zugegeben reichlich dämliche) Abfrage, anhand der ihr das sehen könnt, ist folgende aus der wir nun die Duplikate bei den Ländern filtern möchten: "
            ],
            "metadata": {
                "azdata_cell_guid": "02c1740b-bb36-4ff9-81dd-448d457f41d7"
            }
        },
        {
            "cell_type": "code",
            "source": [
                "SELECT \r\n",
                "     c.[CountryId]\r\n",
                "    ,c.[CountryName]\r\n",
                "    ,c.[FormalName]\r\n",
                "    ,s.[StateProvinceID]\r\n",
                "FROM [Application].[Countries] as c\r\n",
                "LEFT JOIN [Application].[StateProvinces] as s \r\n",
                "ON c.[CountryID] = s.[CountryID]\r\n",
                "ORDER BY c.CountryID"
            ],
            "metadata": {
                "azdata_cell_guid": "bd1aead3-b302-40f6-a8aa-ec47020e2cbb"
            },
            "outputs": [],
            "execution_count": 0
        },
        {
            "cell_type": "markdown",
            "source": [
                "In der Ergebnismenge seht ihr hier, dass die USA mehrfach auftauchen (da mehrere Bundesstaaten in der StateProvinces-Tabelle definiert sind). Fügen wir nun also eine `ROW_NUMBER` hinzu, die die Bundesstaaten innerhalb eines Landes fortlaufend nummeriert: "
            ],
            "metadata": {
                "azdata_cell_guid": "c3dd4a60-4659-494c-a96f-0facc48d907a"
            }
        },
        {
            "cell_type": "code",
            "source": [
                "SELECT \r\n",
                "     c.[CountryId]\r\n",
                "    ,c.[CountryName]\r\n",
                "    ,c.[FormalName]\r\n",
                "    ,s.[StateProvinceID]\r\n",
                "    ,ROW_NUMBER() OVER (PARTITION BY c.[CountryID] ORDER BY s.[StateProvinceID]) as [RowNumber]\r\n",
                "FROM [Application].[Countries] as c\r\n",
                "LEFT JOIN [Application].[StateProvinces] as s \r\n",
                "ON c.[CountryID] = s.[CountryID]"
            ],
            "metadata": {
                "azdata_cell_guid": "efb3385a-f82e-40b6-ba14-896fe83fa7c1"
            },
            "outputs": [],
            "execution_count": 0
        },
        {
            "cell_type": "markdown",
            "source": [
                "Ihr seht in der Ergebnismenge, dass bei allen Ländern, die keine Bundesstaaten kennen, nur ein `NULL`-Wert als Bundesstaat auftaucht (der `LEFT JOIN` also keinen Treffer hatte), bei den USA allerdings 53 Zeilen eingetragen wurden (welch ein Zufall). Beachtet dabei, dass wir ein `PARTITION BY` angegeben haben (anders als in den vorangegangenen Beispielen). Das bedeutet, wenn sich in der Ergebnismenge die `CountryID` ändert, beginnt unsere `ROW_NUMBER`-Funktion wieder von 1 zu zählen. \r\n",
                "\r\n",
                "Wenn ihr hieraus nun eine Zeile filtern möchtet, dann könnt ihr dieses Verhalten nutzen, indem ihr nur die Einträge mit einer `ROW_NUMBER` 1 behaltet: \r\n",
                ""
            ],
            "metadata": {
                "azdata_cell_guid": "3ae9bcb9-1f72-4801-a30d-ac75af6cef12"
            }
        },
        {
            "cell_type": "code",
            "source": [
                "; with cte_rn as ( \r\n",
                "    SELECT \r\n",
                "         c.[CountryId]\r\n",
                "        ,c.[CountryName]\r\n",
                "        ,c.[FormalName]\r\n",
                "        ,s.[StateProvinceID]\r\n",
                "        ,ROW_NUMBER() OVER (PARTITION BY c.[CountryID] ORDER BY s.[StateProvinceID]) as [RowNumber]\r\n",
                "    FROM [Application].[Countries] as c\r\n",
                "    LEFT JOIN [Application].[StateProvinces] as s \r\n",
                "    ON c.[CountryID] = s.[CountryID]\r\n",
                ")\r\n",
                "select \r\n",
                "     [CountryID]\r\n",
                "    ,[CountryName]\r\n",
                "    ,[FormalName]\r\n",
                "    ,[StateProvinceID]\r\n",
                "    ,[RowNumber]\r\n",
                "FROM cte_rn\r\n",
                "WHERE [RowNumber] = 1"
            ],
            "metadata": {
                "azdata_cell_guid": "24d615cc-2913-4d19-a90b-39f8bc1016dd"
            },
            "outputs": [],
            "execution_count": 0
        },
        {
            "cell_type": "markdown",
            "source": [
                "In eurer Ergebnismenge ist nun wieder nur eine Zeile für die USA enthalten. \r\n",
                "Mit Hilfe dieses Patterns könnt ihr nun in allen möglichen und unmöglichen Lebenslagen Duplikate aus Tabellen filtern. Beachtet aber, dass es natürlich besser wäre, die Abfragen von vorneherein so zu schreiben, dass gar keine ungewollten Duplikate entstehen. \r\n",
                "### Referenzen\r\n",
                "- [Offizielle Dokumentation von Microsoft](https://docs.microsoft.com/de-de/sql/t-sql/functions/row-number-transact-sql?view=sql-server-2017)\r\n",
                ""
            ],
            "metadata": {
                "azdata_cell_guid": "2f2eed98-ff57-4a6e-8613-133a2bdb7ca2"
            }
        }
    ]
}