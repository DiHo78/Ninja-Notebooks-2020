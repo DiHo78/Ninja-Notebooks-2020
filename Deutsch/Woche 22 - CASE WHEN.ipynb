{
    "metadata": {
        "kernelspec": {
            "name": "SQL",
            "display_name": "SQL",
            "language": "sql"
        },
        "language_info": {
            "name": "sql",
            "version": ""
        }
    },
    "nbformat_minor": 2,
    "nbformat": 4,
    "cells": [
        {
            "cell_type": "markdown",
            "source": [
                "# Woche 22: CASE WHEN\r\n",
                "## Was ist CASE WHEN?\r\n",
                "In der letzten Woche habt ihr bereits das `IIF`-Statement kennengelernt und im Zuge dessen auch direkt `CASE WHEN`-Statements gesehen. Heute möchten wir die `CASE WHEN`-Statements etwas genauer unter die Lupe nehmen. Wie `IIF` ist auch `CASE WHEN` ein Konstrukt aus dem Bereich der Logik-Funktionen, die es euch ermöglichen, auf bestimmte Werte zu reagieren.\r\n",
                "## Wofür könnt ihr CASE WHEN verwenden?\r\n",
                "Wie schon die `IIF`-Funktion, könnt ihr auch `CASE WHEN` verwenden, um je nach Wert einer Spalte einen anderen Wert ins Ergebnis zu übernehmen, als Beispiel nehmen wir uns die Abfrage der letzten Woche hinzu:"
            ],
            "metadata": {
                "azdata_cell_guid": "463349f7-9cb8-4722-8e9b-cf44d4d5b58f"
            }
        },
        {
            "cell_type": "code",
            "source": [
                "SELECT \r\n",
                "     StockItemTransactionID\r\n",
                "    ,StockItemID\r\n",
                "    ,TransactionTypeName = \r\n",
                "        CASE TransactionTypeID \r\n",
                "        WHEN 10 THEN 'Stock Issue' \r\n",
                "        WHEN 11 THEN 'Stock Receipt' \r\n",
                "        WHEN 12 THEN 'Stock Adjustment at Stocktake' \r\n",
                "        ELSE 'Unknown' END\r\n",
                "    ,CustomerID\r\n",
                "    ,InvoiceID\r\n",
                "    ,SupplierID\r\n",
                "    ,PurchaseOrderID\r\n",
                "FROM Warehouse.StockItemTransactions "
            ],
            "metadata": {
                "azdata_cell_guid": "e7574d44-04cc-40b0-843c-75eec166cfe7"
            },
            "outputs": [],
            "execution_count": 0
        },
        {
            "cell_type": "markdown",
            "source": [
                "Nun können wir dieses Statement wie oben schreiben, wir könnten es aber auch umschreiben und die Vergleichsoperation, die hier implizit steht ausschreiben: "
            ],
            "metadata": {
                "azdata_cell_guid": "5e7aee83-7c49-4925-9d9c-bfa2edad2733"
            }
        },
        {
            "cell_type": "code",
            "source": [
                "SELECT \r\n",
                "     StockItemTransactionID\r\n",
                "    ,StockItemID\r\n",
                "    ,TransactionTypeName = \r\n",
                "        CASE  \r\n",
                "        WHEN TransactionTypeID= 10 THEN 'Stock Issue' \r\n",
                "        WHEN TransactionTypeID= 11 THEN 'Stock Receipt' \r\n",
                "        WHEN TransactionTypeID= 12 THEN 'Stock Adjustment at Stocktake' \r\n",
                "        ELSE 'Unknown' END\r\n",
                "    ,CustomerID\r\n",
                "    ,InvoiceID\r\n",
                "    ,SupplierID\r\n",
                "    ,PurchaseOrderID\r\n",
                "FROM Warehouse.StockItemTransactions "
            ],
            "metadata": {
                "azdata_cell_guid": "de25bff7-2716-40c8-b7c6-35cd3a3862ad"
            },
            "outputs": [],
            "execution_count": 0
        },
        {
            "cell_type": "markdown",
            "source": [
                "Das Resultat dieser Abfrage ist natürlich dasselbe wie das der ersten Variante. Doch was passiert nun, wenn wir aggregieren wollen über die abgeleiteten Werte? Können wir nach einer Spalte gruppieren, die in einem `CASE`-Statement bearbeitet wurde? Ja, in diesem Fall ist das möglich, wie die folgende Abfrage zeigt: "
            ],
            "metadata": {
                "azdata_cell_guid": "8a1c63d8-2d23-4157-8783-51f8175e498e"
            }
        },
        {
            "cell_type": "code",
            "source": [
                "SELECT \r\n",
                "     TransactionTypeName = \r\n",
                "        CASE TransactionTypeID \r\n",
                "        WHEN 10 THEN 'Stock Issue' \r\n",
                "        WHEN 11 THEN 'Stock Receipt' \r\n",
                "        WHEN 12 THEN 'Stock Adjustment at Stocktake' \r\n",
                "        ELSE 'Unknown' END\r\n",
                "    ,AVG(Quantity)\r\n",
                "FROM Warehouse.StockItemTransactions \r\n",
                "GROUP BY TransactionTypeID"
            ],
            "metadata": {
                "azdata_cell_guid": "9afc953a-5d43-401d-90a5-e61e4f90abb2"
            },
            "outputs": [],
            "execution_count": 0
        },
        {
            "cell_type": "markdown",
            "source": [
                "Das funktioniert dann nicht mehr, wenn in eurem `CASE` Statement mehrere Spalten verwendet werden: "
            ],
            "metadata": {
                "azdata_cell_guid": "6680df3f-f4f6-4a3d-985c-ee177921f73a"
            }
        },
        {
            "cell_type": "code",
            "source": [
                "SELECT \r\n",
                "     TransactionTypeName = \r\n",
                "         CASE  \r\n",
                "         WHEN TransactionTypeID=10 AND Quantity > 0 THEN 'Pos. Stock Issue' \r\n",
                "         WHEN TransactionTypeID=11 AND Quantity > 0 THEN 'Pos. Stock Receipt' \r\n",
                "         WHEN TransactionTypeID=12 AND Quantity > 0 THEN 'Pos. Stock Adjustment' \r\n",
                "         ELSE 'Unknown' END\r\n",
                "    ,AVG(Quantity)\r\n",
                "FROM Warehouse.StockItemTransactions \r\n",
                "GROUP BY TransactionTypeID"
            ],
            "metadata": {
                "azdata_cell_guid": "db3886f2-ce52-43af-904d-4f8b68edd934"
            },
            "outputs": [],
            "execution_count": 0
        },
        {
            "cell_type": "markdown",
            "source": [
                "Diese Abfrage gibt einen Fehler, wenn wir eine derartige Abfrage verwenden möchten, bleibt uns nur, das `GROUP BY` anzupassen und auch hier unser `CASE` Statement zu verwenden: "
            ],
            "metadata": {
                "azdata_cell_guid": "e9934503-cd48-4db8-9169-79304a675aff"
            }
        },
        {
            "cell_type": "code",
            "source": [
                "SELECT\r\n",
                "     TransactionTypeName = \r\n",
                "         CASE  \r\n",
                "         WHEN TransactionTypeID=10 AND Quantity > 0 THEN 'Pos. Stock Issue' \r\n",
                "         WHEN TransactionTypeID=11 AND Quantity > 0 THEN 'Pos. Stock Receipt' \r\n",
                "         WHEN TransactionTypeID=12 AND Quantity > 0 THEN 'Pos. Stock Adjustment' \r\n",
                "         ELSE 'Unknown' END\r\n",
                "    ,AVG(Quantity)\r\n",
                "FROM Warehouse.StockItemTransactions \r\n",
                "GROUP BY\r\n",
                "    CASE  \r\n",
                "        WHEN TransactionTypeID=10 AND Quantity > 0 THEN 'Pos. Stock Issue' \r\n",
                "        WHEN TransactionTypeID=11 AND Quantity > 0 THEN 'Pos. Stock Receipt' \r\n",
                "        WHEN TransactionTypeID=12 AND Quantity > 0 THEN 'Pos. Stock Adjustment' \r\n",
                "        ELSE 'Unknown' END"
            ],
            "metadata": {
                "azdata_cell_guid": "a5770771-bc08-417e-8db6-384bf81bc96a"
            },
            "outputs": [],
            "execution_count": 0
        },
        {
            "cell_type": "markdown",
            "source": [
                "Und als Anmerkung: auch wenn die Bedingungen im `CASE` Statement identisch sind, müssen auch die Ausgabewerte gleich sein. Das folgende Statement schlägt daher fehl: "
            ],
            "metadata": {
                "azdata_cell_guid": "909925a5-c5f6-4bbf-8d89-1cc30185d347"
            }
        },
        {
            "cell_type": "code",
            "source": [
                "SELECT \r\n",
                "     TransactionTypeName = \r\n",
                "         CASE  \r\n",
                "         WHEN TransactionTypeID=10 AND Quantity > 0 THEN 'Pos. Stock Issue' \r\n",
                "         WHEN TransactionTypeID=11 AND Quantity > 0 THEN 'Pos. Stock Receipt' \r\n",
                "         WHEN TransactionTypeID=12 AND Quantity > 0 THEN 'Pos. Stock Adjustment at Stocktake' \r\n",
                "         ELSE 'Unknown' END\r\n",
                "    ,AVG(Quantity)\r\n",
                "FROM Warehouse.StockItemTransactions \r\n",
                "GROUP BY\r\n",
                "    CASE  \r\n",
                "        WHEN TransactionTypeID=10 AND Quantity > 0 THEN 'Case 1' \r\n",
                "        WHEN TransactionTypeID=11 AND Quantity > 0 THEN 'Case 2' \r\n",
                "        WHEN TransactionTypeID=12 AND Quantity > 0 THEN 'Case 3' \r\n",
                "        ELSE 'Unknown' END"
            ],
            "metadata": {
                "azdata_cell_guid": "a0e77f42-a7d8-4603-8179-09f87c60612b"
            },
            "outputs": [],
            "execution_count": 0
        },
        {
            "cell_type": "markdown",
            "source": [
                "Wie schon `IIF` gehört auch `CASE WHEN` zu den wichtigen Statements um Daten zu modifizieren und die Ausgabe in der Ergebnismenge anzupassen.  Anders als die `IIF`-Funktion ist das `CASE WHEN`-Konstrukt aber im ANSI SQL Standard enthalten und funktioniert sowohl auf allen SQL Server Versionen, die ihr in freier Wildbahn noch antreffen dürftet als auch auf den meisten anderen Relationalen Datenbanksystemen.  \n",
                "## Referenzen\n",
                "- [Dokumentation von Microsoft](https://docs.microsoft.com/de-de/sql/t-sql/language-elements/case-transact-sql?view=sql-server-ver15)\n",
                ""
            ],
            "metadata": {
                "azdata_cell_guid": "c8146730-0e22-4f47-99b7-cd8c8422abac"
            }
        }
    ]
}