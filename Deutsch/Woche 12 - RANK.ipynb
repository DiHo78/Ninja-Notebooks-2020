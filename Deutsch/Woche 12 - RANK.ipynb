{
    "metadata": {
        "kernelspec": {
            "name": "SQL",
            "display_name": "SQL",
            "language": "sql"
        },
        "language_info": {
            "name": "sql",
            "version": ""
        }
    },
    "nbformat_minor": 2,
    "nbformat": 4,
    "cells": [
        {
            "cell_type": "markdown",
            "source": [
                "# Woche 12: RANK\r\n",
                "## Was tut RANK? \r\n",
                "Wie schon die in der letzten Woche vorgestellte `ROW_NUMBER` Funktion, ist auch RANK eine Window Function, also eine Funktion, die die Daten sortiert in sogenannten \"Fenstern\" oder \"Partitionen\" abarbeitet. Die Sortierung und die Partitionen definiert ihr, indem ihr nach dem Funktionsaufruf die Schlüsselworte `ORDER BY` und `PARTITION BY` verwendet. Die `RANK`-Funktion nummeriert dann alle Zeilen in der Ergebnismenge, anfangend bei 1 aufsteigend durch. Dabei startet jede Partition wieder bei 1. Anders als die `ROW_NUMBER`-Funktion, nummeriert die `RANK`-Funktion dabei Zeilen, die in der Sortierung an derselben Stelle stehen, mit derselben Nummer. Bei `ROW_NUMBER` wird hier eine zufällige Sortierung gewählt und eindeutig fortlaufend nummeriert.  \r\n",
                "## Wie könnt ihr mit RANK arbeiten?\r\n",
                "Um die RANK Funktion zu verwenden, erstellen wir uns nun in der Wide World Importers Datenbank eine Abfrage, die sortierbare Artikel liefert, bei denen die Sortierung aber nicht eindeutig sein muss. Dafür verwenden wir eine CTE mit der wir aus den OrderLines die Anzahl der Bestellungen zählen, in denen jedes Produkt auftauchte: "
            ],
            "metadata": {
                "azdata_cell_guid": "16ee7c56-0f4a-4425-9df7-a3133f2b42c3"
            }
        },
        {
            "cell_type": "code",
            "source": [
                "WITH cte_sales AS (\r\n",
                "    SELECT \r\n",
                "         StockItemID\r\n",
                "        ,COUNT(*) AS nOrders\r\n",
                "        ,SUM(Quantity*UnitPrice) AS TotalSales \r\n",
                "    FROM \r\n",
                "        Sales.OrderLines\r\n",
                "    GROUP BY StockItemID\r\n",
                ")\r\n",
                "SELECT  \r\n",
                "     StockItemID\r\n",
                "    ,nOrders\r\n",
                "    ,TotalSales\r\n",
                "FROM cte_sales \r\n",
                "ORDER BY \r\n",
                "     nOrders DESC\r\n",
                "    ,TotalSales DESC"
            ],
            "metadata": {
                "azdata_cell_guid": "b3bd38f1-418f-48b8-b993-1d191d174608"
            },
            "outputs": [],
            "execution_count": 0
        },
        {
            "cell_type": "markdown",
            "source": [
                "Nun möchten wir aber nicht mehr nur zählen und ausgeben, sondern eine Rangliste der populärsten Produkte erstellen. Würden wir hierfür die `ROW_NUMBER`-Funktion verwenden, so hätten die beiden populärsten Produkte mit den IDs 104 und 120, die in jeweils 1123 mal bestellt wurden die Nummern 1 und 2, welches die 1 und welches die 2 hätte, könnten wir beispielsweise über die Sortierung nach TotalSales bestimmen: "
            ],
            "metadata": {
                "azdata_cell_guid": "dbbc491d-ac85-4613-8c70-f262f549ba4b"
            }
        },
        {
            "cell_type": "code",
            "source": [
                "WITH cte_sales AS (\r\n",
                "    SELECT \r\n",
                "         StockItemID\r\n",
                "        ,COUNT(*) AS nOrders\r\n",
                "        ,SUM(Quantity*UnitPrice) AS TotalSales \r\n",
                "    FROM \r\n",
                "        Sales.OrderLines\r\n",
                "    GROUP BY StockItemID\r\n",
                ")\r\n",
                "SELECT  \r\n",
                "     StockItemID\r\n",
                "    ,nOrders\r\n",
                "    ,TotalSales\r\n",
                "    ,ROW_NUMBER() OVER (ORDER BY nOrders DESC, TotalSales DESC) as Popularity\r\n",
                "FROM cte_sales \r\n",
                "ORDER BY \r\n",
                "     nOrders DESC\r\n",
                "    ,TotalSales DESC"
            ],
            "metadata": {
                "azdata_cell_guid": "cfb7c429-009b-4d6a-be1a-f6b0df24a248"
            },
            "outputs": [],
            "execution_count": 0
        },
        {
            "cell_type": "markdown",
            "source": [
                "Unter kaufmännischen Gesichtspunkten mag diese zusätzliche Sortierung nach den Verkaufssummen sinnvoll sein, jedoch spiegelt sie ja nicht die tatsächliche Popularität des Produkts wider. Wenn wir rein nach Verkaufszahlen gehen, müssten nämlich beide Produkte auf der Nummer eins stehen und genau das ermöglicht die `RANK`-Funktion. Hierbei können wir dann auch auf den Tiebreaker verzichten, der zwischen der ersten und der zweiten Zeile unterschieden hat und brauchen dementsprechend nur noch ein `ORDER BY` Argument: "
            ],
            "metadata": {
                "azdata_cell_guid": "4da8c45d-a3df-45ed-a7a0-f3b520b37fd1"
            }
        },
        {
            "cell_type": "code",
            "source": [
                "WITH cte_sales AS (\r\n",
                "    SELECT \r\n",
                "         StockItemID\r\n",
                "        ,COUNT(*) AS nOrders\r\n",
                "        ,SUM(Quantity*UnitPrice) AS TotalSales \r\n",
                "    FROM \r\n",
                "        Sales.OrderLines\r\n",
                "    GROUP BY StockItemID\r\n",
                ")\r\n",
                "SELECT  \r\n",
                "     StockItemID\r\n",
                "    ,nOrders\r\n",
                "    ,TotalSales\r\n",
                "    ,ROW_NUMBER() OVER (ORDER BY nOrders DESC, TotalSales DESC) as Popularity\r\n",
                "    ,RANK() OVER (ORDER BY nOrders DESC) as Real_Popularity\r\n",
                "FROM cte_sales \r\n",
                "ORDER BY \r\n",
                "     nOrders DESC\r\n",
                "    ,TotalSales DESC"
            ],
            "metadata": {
                "azdata_cell_guid": "df5b4632-5f69-4aa8-b465-57504dc6bfd5"
            },
            "outputs": [],
            "execution_count": 0
        },
        {
            "cell_type": "markdown",
            "source": [
                "Im Resultat seht ihr, dass nun beide Produkte, 104 und 120 die (echte) Popularität 1 erhalten haben, während dem nächsten Produkt, ähnlich wie das bei Sportwettkämpfen üblich ist, der dritte Rang zugewiesen wurde. \r\n",
                "Wenn ihr also anhand der Daten nicht unterscheiden könnt, welche Zeile nun die \"bessere\" ist und eine zufällige Nummerierung vermeiden möchtet, dann verwendet statt der `ROW_NUMBER`-Funktion lieber die `RANK`-Funktion. Zum Aussortieren von Doubletten eignet sie sich aber natürlich im Gegenzug nicht, da die Dubletten hier alle denselben Rang zugewiesen bekämen…  \r\n",
                "### Referenzen\r\n",
                "- [Offizielle Dokumentation von Microsoft](https://docs.microsoft.com/de-de/sql/t-sql/functions/rank-transact-sql?view=sql-server-2017)"
            ],
            "metadata": {
                "azdata_cell_guid": "b51a02df-c0d9-4564-aa41-f60b69663871"
            }
        }
    ]
}